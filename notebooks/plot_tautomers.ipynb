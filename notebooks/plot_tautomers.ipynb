{
 "cells": [
  {
   "cell_type": "code",
   "execution_count": 6,
   "metadata": {},
   "outputs": [],
   "source": [
    "import neutromeratio\n",
    "from openmmtools.constants import kB\n",
    "from simtk import unit\n",
    "import numpy as np\n",
    "import pickle\n",
    "import mdtraj as md\n",
    "import torchani\n",
    "import torch\n",
    "from tqdm import tqdm\n",
    "import matplotlib.pyplot as plt\n",
    "import rdkit\n",
    "from rdkit.Chem import AllChem"
   ]
  },
  {
   "cell_type": "code",
   "execution_count": 19,
   "metadata": {},
   "outputs": [],
   "source": [
    "exp_results = pickle.load(open('../data/exp_results.pickle', 'rb'))\n",
    "\n",
    "# specify the system you want to simulate\n",
    "names = []\n",
    "names.append('molDWRow_298')\n",
    "names.append('molDWRow_37')\n",
    "names.append('molDWRow_45')\n",
    "names.append('molDWRow_160')\n",
    "names.append('molDWRow_590')\n",
    "\n",
    "mols = []\n",
    "legends = []\n",
    "for name in names:\n",
    "    legends.append(name)\n",
    "    legends.append(name)\n",
    "    t1_smiles = exp_results[name]['t1-smiles']\n",
    "    t2_smiles = exp_results[name]['t2-smiles']\n",
    "\n",
    "    # generate both rdkit mol\n",
    "    m = neutromeratio.generate_rdkit_mol(t1_smiles)\n",
    "    AllChem.Compute2DCoords(m)\n",
    "    mols.append(m)\n",
    "\n",
    "    m = neutromeratio.generate_rdkit_mol(t2_smiles)\n",
    "    AllChem.Compute2DCoords(m)\n",
    "    mols.append(m)\n",
    "\n",
    "    \n",
    "a = rdkit.Chem.Draw.MolsToGridImage(mols, molsPerRow=2, subImgSize=(200, 200), legends=legends, highlightAtomLists=None, highlightBondLists=None, useSVG=True, )\n",
    "\n",
    "w = open('test.svg', 'w')\n",
    "w.write(a.data)\n",
    "w.close()"
   ]
  }
 ],
 "metadata": {
  "kernelspec": {
   "display_name": "torchANI-dev",
   "language": "python",
   "name": "torchani-dev"
  },
  "language_info": {
   "codemirror_mode": {
    "name": "ipython",
    "version": 3
   },
   "file_extension": ".py",
   "mimetype": "text/x-python",
   "name": "python",
   "nbconvert_exporter": "python",
   "pygments_lexer": "ipython3",
   "version": "3.6.8"
  }
 },
 "nbformat": 4,
 "nbformat_minor": 2
}
