{
 "cells": [
  {
   "cell_type": "code",
   "execution_count": 3,
   "metadata": {},
   "outputs": [
    {
     "name": "stdout",
     "output_type": "stream",
     "text": [
      "Nr of atoms in the system: 2661\n",
      "tensor([[[-1.0875, -0.1321, -0.1239],\n",
      "         [-1.0975, -0.0572, -0.0652],\n",
      "         [-1.0330, -0.1938, -0.0751],\n",
      "         ...,\n",
      "         [-0.1882,  1.4251,  0.3104],\n",
      "         [-0.1575,  1.3662,  0.2415],\n",
      "         [-0.2651,  1.4679,  0.2728]]], device='cuda:0', requires_grad=True)\n",
      "Energy: -177909168.0 kJ/mol\n",
      "Force: [[ 132.48724    20.660324  -23.68677 ]\n",
      " [-209.01137   138.32785  -132.82915 ]\n",
      " [-199.94128  -213.27568   231.62102 ]\n",
      " ...\n",
      " [ -89.983444   62.77565    93.666985]\n",
      " [-316.12738  -205.93634  -441.30447 ]\n",
      " [ 108.750046  -91.96801    93.74915 ]] \n",
      "time: 0.1266169548034668\n"
     ]
    },
    {
     "data": {
      "image/png": "[encoded data removed]",
      "text/plain": [
       "<Figure size 432x288 with 1 Axes>"
      ]
     },
     "metadata": {
      "needs_background": "light"
     },
     "output_type": "display_data"
    }
   ],
   "source": [
    "from openmmtools.testsystems import DHFRExplicit\n",
    "from openmmtools.testsystems import WaterBox\n",
    "import matplotlib.pyplot as plt\n",
    "\n",
    "from simtk import unit\n",
    "import numpy as np\n",
    "import torchani\n",
    "import torch\n",
    "import time\n",
    "from simtk import unit\n",
    "import sys\n",
    "\n",
    "# openmm units\n",
    "mass_unit = unit.dalton\n",
    "distance_unit = unit.nanometer\n",
    "time_unit = unit.femtosecond\n",
    "energy_unit = unit.kilojoule_per_mole\n",
    "speed_unit = distance_unit / time_unit\n",
    "force_unit = unit.kilojoule_per_mole / unit.nanometer\n",
    "\n",
    "# ANI-1 units and conversion factors\n",
    "ani_distance_unit = unit.angstrom\n",
    "hartree_to_kJ_mol = 2625.499638\n",
    "ani_energy_unit = hartree_to_kJ_mol * unit.kilojoule_per_mole # simtk.unit doesn't have hartree?\n",
    "nm_to_angstroms = (1.0 * distance_unit) / (1.0 * ani_distance_unit)\n",
    "\n",
    "nr_of_atoms = []\n",
    "times = []\n",
    "platform = 'cuda'\n",
    "\n",
    "# testing different edge length\n",
    "species = None\n",
    "coordinates = None\n",
    "device = None\n",
    "model = None\n",
    "n = 30\n",
    "\n",
    "torchani.nn.torch.cuda.empty_cache()\n",
    "\n",
    "device = torch.device(platform)\n",
    "model = torchani.models.ANI1ccx()\n",
    "model = model.to(device)\n",
    "\n",
    "testsystem = WaterBox(box_edge=n*unit.angstrom)\n",
    "x = testsystem.positions\n",
    "top = testsystem.topology\n",
    "dhfr_elements = [atom.element.symbol for atom in testsystem.topology.atoms()]\n",
    "print('Nr of atoms in the system: {}'.format(len(dhfr_elements)))\n",
    "element_string = ''.join(dhfr_elements)\n",
    "element_string= element_string.replace('S', 'C')\n",
    "species = model.species_to_tensor(element_string).to(device).unsqueeze(0)\n",
    "\n",
    "coordinates = torch.tensor([x.value_in_unit(unit.nanometer)],\n",
    "                        requires_grad=True, device=device, dtype=torch.float32)\n",
    "print(coordinates)\n",
    "\n",
    "t0 = time.time()\n",
    "_, energy_in_hartree = model((species, coordinates * nm_to_angstroms))\n",
    "energy_in_kJ_mol = energy_in_hartree * hartree_to_kJ_mol\n",
    "print('Energy: {} kJ/mol'.format(energy_in_kJ_mol[0]))\n",
    "derivative = torch.autograd.grad((energy_in_kJ_mol).sum(), coordinates)[0]\n",
    "F = - np.array(derivative.cpu())[0] \n",
    "print('Force: {} '.format(F))\n",
    "\n",
    "t1 = time.time()\n",
    "t = t1-t0\n",
    "print('time: {}'.format(t))\n",
    "nr_of_atoms.append(len(dhfr_elements))\n",
    "times.append(t)\n",
    "\n",
    "plt.plot(nr_of_atoms, times)\n",
    "plt.title('Nr of atoms vs time')\n",
    "plt.xlabel('Nr of atoms')\n",
    "plt.ylabel('Time [sec]')\n",
    "plt.show()"
   ]
  },
  {
   "cell_type": "code",
   "execution_count": 2,
   "metadata": {},
   "outputs": [
    {
     "data": {
      "image/png": "[encoded data removed]",
      "text/plain": [
       "<Figure size 432x288 with 1 Axes>"
      ]
     },
     "metadata": {
      "needs_background": "light"
     },
     "output_type": "display_data"
    }
   ],
   "source": [
    "plt.plot(nr_of_atoms, times)\n",
    "plt.title('Nr of atoms vs time for derivative of energy w.r.t. position')\n",
    "plt.xlabel('Nr of atoms')\n",
    "plt.ylabel('Time [sec]')\n",
    "plt.show()"
   ]
  }
 ],
 "metadata": {
  "kernelspec": {
   "display_name": "torchANI-dev",
   "language": "python",
   "name": "torchani-dev"
  },
  "language_info": {
   "codemirror_mode": {
    "name": "ipython",
    "version": 3
   },
   "file_extension": ".py",
   "mimetype": "text/x-python",
   "name": "python",
   "nbconvert_exporter": "python",
   "pygments_lexer": "ipython3",
   "version": "3.6.8"
  }
 },
 "nbformat": 4,
 "nbformat_minor": 2
}
