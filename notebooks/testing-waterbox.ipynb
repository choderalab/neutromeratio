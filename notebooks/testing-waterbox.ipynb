{
 "cells": [
  {
   "cell_type": "code",
   "execution_count": 1,
   "metadata": {},
   "outputs": [
    {
     "name": "stdout",
     "output_type": "stream",
     "text": [
      "Nr of atoms in the system: 45\n",
      "[Quantity(value=(0.8, 0.0, 0.0), unit=nanometer), Quantity(value=(0.0, 0.8, 0.0), unit=nanometer), Quantity(value=(0.0, 0.0, 0.8), unit=nanometer)]\n",
      "Energy: -3008459.0 kJ/mol\n",
      "time: 0.16685914993286133\n",
      "tensor([[8., 0., 0.],\n",
      "        [0., 8., 0.],\n",
      "        [0., 0., 8.]])\n",
      "tensor([True, True, True], dtype=torch.bool)\n",
      "tensor([[ 1,  1,  1],\n",
      "        [ 1,  1,  0],\n",
      "        [ 1,  1, -1],\n",
      "        [ 1,  0,  1],\n",
      "        [ 1,  0,  0],\n",
      "        [ 1,  0, -1],\n",
      "        [ 1, -1,  1],\n",
      "        [ 1, -1,  0],\n",
      "        [ 1, -1, -1],\n",
      "        [ 0,  1,  1],\n",
      "        [ 0,  1,  0],\n",
      "        [ 0,  1, -1],\n",
      "        [ 0,  0,  1]])\n",
      "Energy: -3007058.5 kJ/mol\n",
      "time: 0.8183488845825195\n"
     ]
    },
    {
     "data": {
      "text/plain": [
       "<Figure size 640x480 with 1 Axes>"
      ]
     },
     "metadata": {},
     "output_type": "display_data"
    }
   ],
   "source": [
    "from openmmtools.testsystems import WaterBox\n",
    "import matplotlib.pyplot as plt\n",
    "from simtk import unit\n",
    "import numpy as np\n",
    "import torchani\n",
    "import torch\n",
    "import time\n",
    "from IPython.core.display import display, HTML\n",
    "\n",
    "# openmm units\n",
    "distance_unit = unit.nanometer\n",
    "\n",
    "# ANI-1 units and conversion factors\n",
    "ani_distance_unit = unit.angstrom\n",
    "\n",
    "nm_to_angstroms = (1.0 * distance_unit) / (1.0 * ani_distance_unit)\n",
    "\n",
    "# hartree to kJ/mol conversion factor\n",
    "hartree_to_kJ_mol = 2625.499638\n",
    "\n",
    "nr_of_atoms = []\n",
    "times_with_pbc = []\n",
    "times_without_pbc = []\n",
    "platform = 'cpu'\n",
    "\n",
    "# testing different edge length\n",
    "species = None\n",
    "coordinates = None\n",
    "device = None\n",
    "model = None\n",
    "\n",
    "for box_length in [8]:\n",
    "    \n",
    "    torchani.nn.torch.cuda.empty_cache()\n",
    "    device = torch.device(platform)\n",
    "    model = torchani.models.ANI1ccx()\n",
    "    model = model.to(device)\n",
    "\n",
    "    # generate waterbox\n",
    "    testsystem = WaterBox(box_edge=box_length*unit.angstrom)\n",
    "    x = testsystem.positions\n",
    "    dhfr_elements = [atom.element.symbol for atom in testsystem.topology.atoms()]\n",
    "    print('Nr of atoms in the system: {}'.format(len(dhfr_elements)))\n",
    "    element_string = ''.join(dhfr_elements)\n",
    "    \n",
    "    nr_of_atoms.append(len(dhfr_elements))\n",
    "\n",
    "    # species and coordinates to torch\n",
    "    species = model.species_to_tensor(element_string).to(device).unsqueeze(0)\n",
    "\n",
    "    coordinates = torch.tensor([x.value_in_unit(unit.nanometer)],\n",
    "                            requires_grad=True, device=device, dtype=torch.float32)\n",
    "\n",
    "    \n",
    "    print(testsystem.system.getDefaultPeriodicBoxVectors())\n",
    "    # define cell vector\n",
    "    cell_vectors = torch.tensor([[box_length, 0.0, 0.0], [0.0, box_length, 0.0], [0.0, 0.0, box_length]], dtype=torch.float32)\n",
    "    # define dimensions to update\n",
    "    cell = torch.tensor([True, True, True], dtype=torch.bool)\n",
    "\n",
    "    \n",
    "    #############################\n",
    "    # energy & force calculation without pbc\n",
    "    #############################\n",
    "    t0 = time.time()\n",
    "    # calculate energy\n",
    "    _, energy_in_hartree = model((species, coordinates * nm_to_angstroms))\n",
    "    energy_in_kJ_mol = energy_in_hartree * hartree_to_kJ_mol\n",
    "    print('Energy: {} kJ/mol'.format(energy_in_kJ_mol[0]))\n",
    "    # calculate force\n",
    "    derivative = torch.autograd.grad((energy_in_kJ_mol).sum(), coordinates)[0]\n",
    "    F = - np.array(derivative.cpu())[0] \n",
    "    \n",
    "    # get time\n",
    "    t1 = time.time()\n",
    "    t = t1-t0\n",
    "    print('time: {}'.format(t))\n",
    "    times_without_pbc.append(t)\n",
    "    \n",
    "    \n",
    "    #############################\n",
    "    # energy & force calculation with pbc\n",
    "    #############################\n",
    "    t0 = time.time()\n",
    "    # calculate energy\n",
    "    _, energy_in_hartree = model((species, coordinates * nm_to_angstroms, cell_vectors, cell))\n",
    "    energy_in_kJ_mol = energy_in_hartree * hartree_to_kJ_mol\n",
    "    print('Energy: {} kJ/mol'.format(energy_in_kJ_mol[0]))\n",
    "    # calculate force\n",
    "    derivative = torch.autograd.grad((energy_in_kJ_mol).sum(), coordinates)[0]\n",
    "    F = - np.array(derivative.cpu())[0] \n",
    "    \n",
    "    # get time\n",
    "    t1 = time.time()\n",
    "    t = t1-t0\n",
    "    print('time: {}'.format(t))   \n",
    "    times_with_pbc.append(t)\n",
    "\n",
    "# plot results\n",
    "plt.plot(nr_of_atoms, times_without_pbc, label='Energy evaluation without pbc')\n",
    "plt.plot(nr_of_atoms, times_with_pbc, label='Energy evaluation with pbc')\n",
    "plt.title('Nr of atoms vs time')\n",
    "plt.xlabel('Nr of atoms')\n",
    "plt.ylabel('Time [sec]')\n",
    "plt.legend()\n",
    "plt.show()\n"
   ]
  },
  {
   "cell_type": "code",
   "execution_count": 4,
   "metadata": {},
   "outputs": [
    {
     "data": {
      "text/plain": [
       "'0.8'"
      ]
     },
     "execution_count": 4,
     "metadata": {},
     "output_type": "execute_result"
    }
   ],
   "source": [
    "torchani.__version__"
   ]
  },
  {
   "cell_type": "code",
   "execution_count": 2,
   "metadata": {},
   "outputs": [
    {
     "data": {
      "image/png": "[encoded data removed]",
      "text/plain": [
       "<Figure size 432x288 with 1 Axes>"
      ]
     },
     "metadata": {
      "needs_background": "light"
     },
     "output_type": "display_data"
    }
   ],
   "source": [
    "plt.plot(nr_of_atoms, times_without_pbc, label='Energy evaluation without pbc')\n",
    "plt.plot(nr_of_atoms, times_with_pbc, label='Energy evaluation with pbc')\n",
    "plt.title('Nr of atoms vs time')\n",
    "plt.xlabel('Nr of atoms')\n",
    "plt.ylabel('Time [sec]')\n",
    "plt.legend()\n",
    "plt.show()\n"
   ]
  }
 ],
 "metadata": {
  "kernelspec": {
   "display_name": "torchANI-dev",
   "language": "python",
   "name": "torchani-dev"
  },
  "language_info": {
   "codemirror_mode": {
    "name": "ipython",
    "version": 3
   },
   "file_extension": ".py",
   "mimetype": "text/x-python",
   "name": "python",
   "nbconvert_exporter": "python",
   "pygments_lexer": "ipython3",
   "version": "3.6.8"
  }
 },
 "nbformat": 4,
 "nbformat_minor": 2
}
