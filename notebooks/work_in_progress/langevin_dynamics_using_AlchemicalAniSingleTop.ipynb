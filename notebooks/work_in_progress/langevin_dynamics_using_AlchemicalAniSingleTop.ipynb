{
 "cells": [
  {
   "cell_type": "code",
   "execution_count": null,
   "metadata": {},
   "outputs": [],
   "source": [
    "from simtk import unit\n",
    "import numpy as np\n",
    "from tqdm import tqdm\n",
    "import mdtraj as md\n",
    "import nglview\n",
    "from rdkit import Chem\n",
    "from rdkit.Chem import AllChem\n",
    "import neutromeratio\n",
    "import matplotlib.pyplot as plt\n",
    "import pickle\n",
    "import torchani\n",
    "import torch\n",
    "from neutromeratio.constants import device, platform\n"
   ]
  },
  {
   "cell_type": "code",
   "execution_count": null,
   "metadata": {},
   "outputs": [],
   "source": [
    "exp_results = pickle.load(open('../data/exp_results.pickle', 'rb'))\n",
    "\n",
    "# specify the system you want to simulate\n",
    "name = 'molDWRow_298'\n",
    "#name = 'molDWRow_37'\n",
    "#name = 'molDWRow_45'\n",
    "#name = 'molDWRow_160'\n",
    "#name = 'molDWRow_590'\n",
    "\n",
    "\n",
    "# number of steps\n",
    "n_steps = 1000\n",
    "\n",
    "exp_results = pickle.load(open('../data/exp_results.pickle', 'rb'))\n",
    "\n",
    "t1_smiles = exp_results[name]['t1-smiles']\n",
    "t2_smiles = exp_results[name]['t2-smiles']\n",
    "\n",
    "# generate both rdkit mol\n",
    "tautomer = neutromeratio.Tautomer(name=name, intial_state_mol=neutromeratio.generate_rdkit_mol(t1_smiles), final_state_mol=neutromeratio.generate_rdkit_mol(t2_smiles), nr_of_conformations=20)\n",
    "tautomer.perform_tautomer_transformation_forward()\n",
    "\n",
    "# define the alchemical atoms\n",
    "alchemical_atoms=[tautomer.hybrid_hydrogen_idx_at_lambda_1, tautomer.hydrogen_idx]\n",
    "\n",
    "np.random.seed(0)\n",
    "\n",
    "# extract hydrogen donor idx and hydrogen idx for from_mol\n",
    "model = neutromeratio.ani.LinearAlchemicalDualTopologyANI(alchemical_atoms=alchemical_atoms)\n",
    "model = model.to(device)\n",
    "torch.set_num_threads(2)\n",
    "\n",
    "# perform initial sampling\n",
    "energy_function = neutromeratio.ANI1_force_and_energy(\n",
    "                                        model = model,\n",
    "                                        atoms = tautomer.hybrid_atoms,\n",
    "                                        mol = tautomer.hybrid_ase_mol,\n",
    "                                        )\n",
    "\n",
    "for r in tautomer.ligand_restraints:\n",
    "    energy_function.add_restraint(r)\n",
    "\n",
    "for r in tautomer.hybrid_ligand_restraints:\n",
    "    energy_function.add_restraint(r)\n",
    "\n",
    "\n",
    "trajectory = []\n",
    "bias_list = []\n",
    "for lambda_value in np.linspace(0,1,1):\n",
    "    print(lambda_value)\n",
    "    energy_and_force = lambda x : energy_function.calculate_force(x, lambda_value)\n",
    "    langevin = neutromeratio.LangevinDynamics(atoms = tautomer.hybrid_atoms,\n",
    "                                temperature = 300*unit.kelvin,\n",
    "                                energy_and_force = energy_and_force)\n",
    "    x0 = np.array(tautomer.hybrid_coords) * unit.angstrom\n",
    "    x0 = energy_function.minimize(x0)\n",
    "\n",
    "    \n",
    "    equilibrium_samples, energies, bias = langevin.run_dynamics(x0, n_steps=n_steps, stepsize=0.5 * unit.femtosecond, progress_bar=True)\n",
    "    bias_list.append(bias)\n",
    "    trajectory.append(equilibrium_samples)\n",
    "    \n"
   ]
  },
  {
   "cell_type": "code",
   "execution_count": null,
   "metadata": {},
   "outputs": [],
   "source": [
    "traj_in_nm = [x / unit.nanometer for x in trajectory[0]]"
   ]
  },
  {
   "cell_type": "code",
   "execution_count": null,
   "metadata": {},
   "outputs": [],
   "source": [
    "import nglview\n",
    "topology = tautomer.hybrid_topology\n",
    "ani_traj = md.Trajectory(traj_in_nm, topology)\n",
    "v = neutromeratio.vis.generate_nglview_object(ani_traj, tautomer.hydrogen_idx, tautomer.hybrid_hydrogen_idx_at_lambda_1)\n",
    "v"
   ]
  },
  {
   "cell_type": "code",
   "execution_count": null,
   "metadata": {},
   "outputs": [],
   "source": [
    "for i in range(10):\n",
    "    bias = [x / unit.kilojoule_per_mole for x in bias_list[i]]\n",
    "    plt.plot(bias, label=f\"{i}\")\n",
    "plt.legend()"
   ]
  },
  {
   "cell_type": "code",
   "execution_count": null,
   "metadata": {},
   "outputs": [],
   "source": [
    "i = 0\n",
    "bias = [x / unit.kilojoule_per_mole for x in bias_list[i]]\n",
    "plt.plot(bias, label=f\"{i}\")\n",
    "plt.legend()"
   ]
  },
  {
   "cell_type": "code",
   "execution_count": null,
   "metadata": {},
   "outputs": [],
   "source": []
  },
  {
   "cell_type": "code",
   "execution_count": null,
   "metadata": {},
   "outputs": [],
   "source": []
  },
  {
   "cell_type": "code",
   "execution_count": null,
   "metadata": {},
   "outputs": [],
   "source": []
  },
  {
   "cell_type": "code",
   "execution_count": null,
   "metadata": {},
   "outputs": [],
   "source": []
  },
  {
   "cell_type": "code",
   "execution_count": null,
   "metadata": {},
   "outputs": [],
   "source": []
  },
  {
   "cell_type": "code",
   "execution_count": null,
   "metadata": {},
   "outputs": [],
   "source": []
  }
 ],
 "metadata": {
  "kernelspec": {
   "display_name": "Python (ani36)",
   "language": "python",
   "name": "ani36"
  },
  "language_info": {
   "codemirror_mode": {
    "name": "ipython",
    "version": 3
   },
   "file_extension": ".py",
   "mimetype": "text/x-python",
   "name": "python",
   "nbconvert_exporter": "python",
   "pygments_lexer": "ipython3",
   "version": "3.6.7"
  }
 },
 "nbformat": 4,
 "nbformat_minor": 2
}
