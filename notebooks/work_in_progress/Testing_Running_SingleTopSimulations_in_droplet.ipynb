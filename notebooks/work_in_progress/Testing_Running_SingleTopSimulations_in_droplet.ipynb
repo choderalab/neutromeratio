{
 "cells": [
  {
   "cell_type": "code",
   "execution_count": 1,
   "metadata": {
    "scrolled": false
   },
   "outputs": [
    {
     "data": {
      "application/vnd.jupyter.widget-view+json": {
       "model_id": "6013962979db4b26ac9269e467762e9e",
       "version_major": 2,
       "version_minor": 0
      },
      "text/plain": [
       "_ColormakerRegistry()"
      ]
     },
     "metadata": {},
     "output_type": "display_data"
    },
    {
     "name": "stderr",
     "output_type": "stream",
     "text": [
      "[utils.py:141 - _init_num_threads()] NumExpr defaulting to 8 threads.\n"
     ]
    },
    {
     "name": "stdout",
     "output_type": "stream",
     "text": [
      "molDWRow_1235\n",
      "0.5\n"
     ]
    },
    {
     "name": "stderr",
     "output_type": "stream",
     "text": [
      "[tautomers.py:370 - _perform_tautomer_transformation()] Index of atom that moves: 23.\n",
      "[tautomers.py:382 - _perform_tautomer_transformation()] Index of atom that donates hydrogen: 10\n",
      "[tautomers.py:400 - _perform_tautomer_transformation()] Index of atom that accepts hydrogen: 8\n"
     ]
    },
    {
     "data": {
      "image/png": "[encoded data removed]",
      "text/plain": [
       "<rdkit.Chem.rdchem.Mol at 0x7f1ee1892210>"
      ]
     },
     "metadata": {},
     "output_type": "display_data"
    },
    {
     "name": "stderr",
     "output_type": "stream",
     "text": [
      "[tautomers.py:114 - add_droplet()] Adding droplet ...\n"
     ]
    },
    {
     "name": "stdout",
     "output_type": "stream",
     "text": [
      "Adding COM restraint to 30\n",
      "Adding COM restraint to 33\n",
      "Adding COM restraint to 36\n",
      "Adding COM restraint to 39\n",
      "Adding COM restraint to 42\n",
      "Adding COM restraint to 45\n",
      "Adding COM restraint to 48\n",
      "Adding COM restraint to 51\n",
      "Adding COM restraint to 54\n",
      "Adding COM restraint to 57\n",
      "Adding COM restraint to 60\n",
      "Adding COM restraint to 63\n",
      "Adding COM restraint to 66\n",
      "Adding COM restraint to 69\n",
      "Adding COM restraint to 72\n",
      "Adding COM restraint to 75\n",
      "Adding COM restraint to 78\n",
      "Adding COM restraint to 81\n",
      "Adding COM restraint to 84\n",
      "Adding COM restraint to 87\n",
      "Adding COM restraint to 90\n",
      "Adding COM restraint to 93\n",
      "Adding COM restraint to 96\n",
      "Adding COM restraint to 99\n",
      "Adding COM restraint to 102\n",
      "Adding COM restraint to 105\n",
      "Adding COM restraint to 108\n",
      "Adding COM restraint to 111\n",
      "Adding COM restraint to 114\n",
      "Adding COM restraint to 117\n",
      "Adding COM restraint to 120\n",
      "Adding COM restraint to 123\n",
      "Adding COM restraint to 126\n",
      "Adding COM restraint to 129\n",
      "Adding COM restraint to 132\n",
      "Adding COM restraint to 135\n",
      "Adding COM restraint to 138\n",
      "Adding COM restraint to 141\n",
      "Adding COM restraint to 144\n",
      "Adding COM restraint to 147\n",
      "Adding COM restraint to 150\n",
      "Adding COM restraint to 153\n",
      "Adding COM restraint to 156\n",
      "Adding COM restraint to 159\n",
      "Adding COM restraint to 162\n",
      "Adding COM restraint to 165\n",
      "Adding COM restraint to 168\n",
      "Adding COM restraint to 171\n",
      "Adding COM restraint to 174\n",
      "Adding COM restraint to 177\n",
      "Adding COM restraint to 180\n",
      "Adding COM restraint to 183\n",
      "Adding COM restraint to 186\n",
      "Adding COM restraint to 189\n",
      "Adding COM restraint to 192\n",
      "Adding COM restraint to 195\n",
      "Adding COM restraint to 198\n",
      "Adding COM restraint to 201\n",
      "Adding COM restraint to 204\n",
      "Adding COM restraint to 207\n",
      "Adding COM restraint to 210\n",
      "Adding COM restraint to 213\n",
      "Adding COM restraint to 216\n",
      "Adding COM restraint to 219\n",
      "Adding COM restraint to 222\n",
      "Adding COM restraint to 225\n",
      "Adding COM restraint to 228\n",
      "Adding COM restraint to 231\n",
      "Adding COM restraint to 234\n",
      "Adding COM restraint to 237\n",
      "Adding COM restraint to 240\n",
      "Adding COM restraint to 243\n",
      "Adding COM restraint to 246\n",
      "Adding COM restraint to 249\n",
      "Adding COM restraint to 252\n",
      "Adding COM restraint to 255\n",
      "Nr of atoms: 258\n"
     ]
    },
    {
     "name": "stderr",
     "output_type": "stream",
     "text": [
      "[restraints.py:180 - __init__()] Center Of Mass restraint added.\n"
     ]
    },
    {
     "name": "stdout",
     "output_type": "stream",
     "text": [
      "0.5\n",
      "Begin minimizing...\n"
     ]
    },
    {
     "name": "stderr",
     "output_type": "stream",
     "text": [
      "[ani.py:123 - minimize()] Minimization status: False\n"
     ]
    },
    {
     "name": "stdout",
     "output_type": "stream",
     "text": [
      "Warning: Desired error not necessarily achieved due to precision loss.\n",
      "         Current function value: -17288808.428686\n",
      "         Iterations: 936\n",
      "         Function evaluations: 1121\n",
      "         Gradient evaluations: 1109\n"
     ]
    }
   ],
   "source": [
    "from simtk import unit\n",
    "import numpy as np\n",
    "from tqdm import tqdm\n",
    "import mdtraj as md\n",
    "import nglview\n",
    "from rdkit import Chem\n",
    "from rdkit.Chem import AllChem\n",
    "import neutromeratio\n",
    "import matplotlib.pyplot as plt\n",
    "import pickle\n",
    "import torchani\n",
    "import torch\n",
    "import os\n",
    "from neutromeratio.constants import device, platform\n",
    "\n",
    "exp_results = pickle.load(open('../data/exp_results.pickle', 'rb'))\n",
    "\n",
    "# specify the system you want to simulate\n",
    "#name = 'molDWRow_298'\n",
    "#name = 'molDWRow_37'\n",
    "#name = 'molDWRow_45'\n",
    "#name = 'molDWRow_160'\n",
    "#name = 'molDWRow_590'\n",
    "\n",
    "# name of the system\n",
    "idx = 1880\n",
    "# number of steps\n",
    "n_steps = 50\n",
    "# diameter\n",
    "diameter_in_angstrom = 18\n",
    "# where to write the results\n",
    "base_path = '/tmp/'\n",
    "\n",
    "mode = 'forward'\n",
    "\n",
    "protocol = []\n",
    "for name in exp_results:\n",
    "    for lambda_value in np.linspace(0,1, 21):\n",
    "        protocol.append((name, np.round(lambda_value, 2)))\n",
    "\n",
    "name, lambda_value = protocol[idx-1]\n",
    "\n",
    "print(name)\n",
    "print(lambda_value)\n",
    "\n",
    "t1_smiles = exp_results[name]['t1-smiles']\n",
    "t2_smiles = exp_results[name]['t2-smiles']\n",
    "\n",
    "# generate both rdkit mol\n",
    "tautomer = neutromeratio.Tautomer(name=name, intial_state_mol=neutromeratio.generate_rdkit_mol(t1_smiles), final_state_mol=neutromeratio.generate_rdkit_mol(t2_smiles), nr_of_conformations=20)\n",
    "if mode == 'forward':\n",
    "    tautomer.perform_tautomer_transformation_forward()\n",
    "elif mode == 'reverse':\n",
    "    tautomer.perform_tautomer_transformation_reverse()\n",
    "else:\n",
    "    raise RuntimeError('No tautomer reaction direction was specified.')\n",
    "\n",
    "os.makedirs(f\"{base_path}/{name}\", exist_ok=True)\n",
    "m = tautomer.add_droplet(tautomer.hybrid_topology, \n",
    "                            tautomer.hybrid_coords, \n",
    "                            diameter=diameter_in_angstrom * unit.angstrom, \n",
    "                             restrain_hydrogens=True,\n",
    "                            file=f\"{base_path}/{name}/{name}_lambda_{lambda_value:0.4f}_in_droplet_{mode}.pdb\")\n",
    "\n",
    "# define the alchemical atoms\n",
    "alchemical_atoms=[tautomer.hybrid_hydrogen_idx_at_lambda_1, tautomer.hydrogen_idx]\n",
    "\n",
    "print('Nr of atoms: {}'.format(len(tautomer.ligand_in_water_atoms)))\n",
    "\n",
    "\n",
    "# extract hydrogen donor idx and hydrogen idx for from_mol\n",
    "model = neutromeratio.ani.LinearAlchemicalDualTopologyANI(alchemical_atoms=alchemical_atoms)\n",
    "model = model.to(device)\n",
    "torch.set_num_threads(2)\n",
    "\n",
    "# perform initial sampling\n",
    "energy_function = neutromeratio.ANI1_force_and_energy(\n",
    "                                        model = model,\n",
    "                                        atoms = tautomer.ligand_in_water_atoms,\n",
    "                                        mol = None,\n",
    "                                        )\n",
    "\n",
    "tautomer.add_COM_for_hybrid_ligand(np.array([diameter_in_angstrom/2, diameter_in_angstrom/2, diameter_in_angstrom/2]) * unit.angstrom)\n",
    "\n",
    "for r in tautomer.ligand_restraints:\n",
    "    energy_function.add_restraint(r)\n",
    "\n",
    "for r in tautomer.hybrid_ligand_restraints:\n",
    "    energy_function.add_restraint(r)\n",
    "\n",
    "for r in tautomer.solvent_restraints:\n",
    "    energy_function.add_restraint(r)\n",
    "\n",
    "for r in tautomer.com_restraints:\n",
    "    energy_function.add_restraint(r)\n",
    "\n",
    "print(lambda_value)\n",
    "energy_and_force = lambda x : energy_function.calculate_force(x, lambda_value)\n",
    "langevin = neutromeratio.LangevinDynamics(atoms = tautomer.ligand_in_water_atoms,                            \n",
    "                            energy_and_force = energy_and_force)\n",
    "\n",
    "x0 = tautomer.ligand_in_water_coordinates\n",
    "x0, e_history = energy_function.minimize(x0, lambda_value=1.0) "
   ]
  },
  {
   "cell_type": "code",
   "execution_count": 3,
   "metadata": {},
   "outputs": [
    {
     "data": {
      "image/png": "[encoded data removed]",
      "text/plain": [
       "<Figure size 432x288 with 1 Axes>"
      ]
     },
     "metadata": {
      "needs_background": "light"
     },
     "output_type": "display_data"
    }
   ],
   "source": [
    "plt.plot([e.value_in_unit(unit.kilojoule_per_mole) for e in e_history])\n",
    "plt.xlabel = 'test'\n",
    "plt.ylabel = 'test'\n",
    "plt.show()"
   ]
  },
  {
   "cell_type": "code",
   "execution_count": 8,
   "metadata": {},
   "outputs": [],
   "source": [
    "raw_energies = np.array([e.value_in_unit(unit.kilojoule_per_mole) for e in e_history])"
   ]
  },
  {
   "cell_type": "code",
   "execution_count": 9,
   "metadata": {},
   "outputs": [],
   "source": [
    "\n",
    "e_min = raw_energies[0]\n",
    "running_minimum_energies = [e_min]\n",
    "for i in range(1, len(raw_energies)):\n",
    "    e_min = min(e_min, raw_energies[i])\n",
    "    running_minimum_energies.append(e_min)\n",
    "running_minimum_energies = np.array(running_minimum_energies)"
   ]
  },
  {
   "cell_type": "code",
   "execution_count": 10,
   "metadata": {},
   "outputs": [
    {
     "data": {
      "image/png": "[encoded data removed]",
      "text/plain": [
       "<Figure size 432x288 with 1 Axes>"
      ]
     },
     "metadata": {
      "needs_background": "light"
     },
     "output_type": "display_data"
    }
   ],
   "source": [
    "plt.plot(np.diff(running_minimum_energies))\n",
    "plt.xlabel = 'test'\n",
    "plt.ylabel = 'test'\n",
    "plt.show()"
   ]
  },
  {
   "cell_type": "code",
   "execution_count": null,
   "metadata": {},
   "outputs": [],
   "source": [
    "# TODO: double-check that energy output here is in float64 rather than float32"
   ]
  },
  {
   "cell_type": "code",
   "execution_count": 5,
   "metadata": {},
   "outputs": [],
   "source": [
    "np.diff?"
   ]
  },
  {
   "cell_type": "code",
   "execution_count": null,
   "metadata": {},
   "outputs": [],
   "source": [
    "traj_in_nm = [x.value_in_unit(unit.nanometer) for x in x0]\n",
    "import nglview\n",
    "ani_traj = md.Trajectory(traj_in_nm, tautomer.ligand_in_water_topology)\n",
    "v = neutromeratio.vis.generate_nglview_object(ani_traj)\n",
    "v.add_representation(repr_type='ball+stick', selection='water', opacity=0.4, color='blue')\n",
    "v.shape.add_sphere([diameter_in_angstrom/2, diameter_in_angstrom/2, diameter_in_angstrom/2], [0,0,1], (diameter_in_angstrom-2)/2)\n",
    "v.update_representation(component=1, repr_index=0, opacity=0.2)\n",
    "v"
   ]
  },
  {
   "cell_type": "code",
   "execution_count": null,
   "metadata": {},
   "outputs": [],
   "source": []
  },
  {
   "cell_type": "code",
   "execution_count": null,
   "metadata": {},
   "outputs": [],
   "source": [
    "exit\n",
    "stop"
   ]
  },
  {
   "cell_type": "code",
   "execution_count": null,
   "metadata": {},
   "outputs": [],
   "source": []
  },
  {
   "cell_type": "code",
   "execution_count": null,
   "metadata": {},
   "outputs": [],
   "source": [
    "ani_traj.save_dcd('water_looses_hydrogen.dcd')\n",
    "ani_traj.save_dcd('water_looses_hydrogen.pdb')"
   ]
  },
  {
   "cell_type": "code",
   "execution_count": null,
   "metadata": {},
   "outputs": [],
   "source": [
    "traj_in_nm = [x.value_in_unit(unit.nanometer) for x in equilibrium_samples]\n",
    "import nglview\n",
    "#ani_traj = md.Trajectory(traj_in_nm[::20], tautomer.ligand_in_water_topology)\n",
    "v = neutromeratio.vis.generate_nglview_object(ani_traj)\n",
    "v.add_representation(repr_type='ball+stick', selection='water', opacity=0.4, color='blue')\n",
    "v.shape.add_sphere([diameter_in_angstrom/2, diameter_in_angstrom/2, diameter_in_angstrom/2], [0,0,1], diameter_in_angstrom/2-1)\n",
    "v.update_representation(component=1, repr_index=0, opacity=0.2)\n",
    "v"
   ]
  },
  {
   "cell_type": "code",
   "execution_count": null,
   "metadata": {},
   "outputs": [],
   "source": [
    "energy = [x.value_in_unit(unit.kilocalorie_per_mole) for x in energies]\n",
    "plt.plot(energy)"
   ]
  },
  {
   "cell_type": "code",
   "execution_count": null,
   "metadata": {},
   "outputs": [],
   "source": []
  },
  {
   "cell_type": "code",
   "execution_count": null,
   "metadata": {},
   "outputs": [],
   "source": []
  },
  {
   "cell_type": "code",
   "execution_count": null,
   "metadata": {},
   "outputs": [],
   "source": []
  },
  {
   "cell_type": "code",
   "execution_count": null,
   "metadata": {},
   "outputs": [],
   "source": [
    "a = np.array([1.,2.,4.]) * unit.angstrom"
   ]
  },
  {
   "cell_type": "code",
   "execution_count": null,
   "metadata": {},
   "outputs": [],
   "source": [
    "a.value_in_unit(unit.angstrom)"
   ]
  },
  {
   "cell_type": "code",
   "execution_count": null,
   "metadata": {},
   "outputs": [],
   "source": []
  },
  {
   "cell_type": "code",
   "execution_count": null,
   "metadata": {},
   "outputs": [],
   "source": []
  }
 ],
 "metadata": {
  "kernelspec": {
   "display_name": "Python (ani36)",
   "language": "python",
   "name": "ani36"
  },
  "language_info": {
   "codemirror_mode": {
    "name": "ipython",
    "version": 3
   },
   "file_extension": ".py",
   "mimetype": "text/x-python",
   "name": "python",
   "nbconvert_exporter": "python",
   "pygments_lexer": "ipython3",
   "version": "3.6.7"
  }
 },
 "nbformat": 4,
 "nbformat_minor": 2
}
