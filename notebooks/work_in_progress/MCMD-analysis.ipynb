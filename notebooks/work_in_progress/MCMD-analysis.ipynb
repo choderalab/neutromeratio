{
 "cells": [
  {
   "cell_type": "code",
   "execution_count": 3,
   "metadata": {},
   "outputs": [],
   "source": [
    "from openmmtools.constants import kB\n",
    "from simtk import unit\n",
    "import numpy as np\n",
    "from rdkit.Chem import Draw\n",
    "from rdkit import Chem\n",
    "import copy\n",
    "import os\n",
    "from neutromeratio.utils import * \n",
    "import pickle\n",
    "import mdtraj as md\n",
    "import matplotlib.pyplot as plt\n",
    "from pymbar import BAR"
   ]
  },
  {
   "cell_type": "code",
   "execution_count": 4,
   "metadata": {},
   "outputs": [
    {
     "data": {
      "image/png": "[encoded data removed]",
      "text/plain": [
       "<rdkit.Chem.rdchem.Mol at 0x7f02482f2bc0>"
      ]
     },
     "metadata": {},
     "output_type": "display_data"
    },
    {
     "data": {
      "image/png": "[encoded data removed]",
      "text/plain": [
       "<rdkit.Chem.rdchem.Mol at 0x7f02482c98f0>"
      ]
     },
     "metadata": {},
     "output_type": "display_data"
    }
   ],
   "source": [
    "exp_results = pickle.load(open('../data/exp_results.pickle', 'rb'))\n",
    "\n",
    "# specify the system you want to simulate\n",
    "name = 'molDWRow_298'\n",
    "#name = 'molDWRow_37'\n",
    "#name = 'molDWRow_45'\n",
    "#name = 'molDWRow_160'\n",
    "#name = 'molDWRow_590'\n",
    "\n",
    "# specify a run number\n",
    "t1_smiles = exp_results[name]['t1-smiles']\n",
    "t2_smiles = exp_results[name]['t2-smiles']\n",
    "\n",
    "m1 = Chem.MolFromSmiles(t1_smiles)\n",
    "AllChem.Compute2DCoords(m1)\n",
    "display_mol(m1)\n",
    "Draw.MolToFile(m1,f\"../data/structures/{name}/{name}_1.svg\")\n",
    "\n",
    "m2 = Chem.MolFromSmiles(t2_smiles)\n",
    "AllChem.Compute2DCoords(m2)\n",
    "display_mol(m2)\n",
    "Draw.MolToFile(m2,f\"../data/structures/{name}/{name}_t2.svg\")\n"
   ]
  },
  {
   "cell_type": "code",
   "execution_count": 5,
   "metadata": {
    "scrolled": false
   },
   "outputs": [
    {
     "data": {
      "image/png": "[encoded data removed]",
      "text/plain": [
       "<Figure size 432x288 with 1 Axes>"
      ]
     },
     "metadata": {
      "needs_background": "light"
     },
     "output_type": "display_data"
    },
    {
     "name": "stdout",
     "output_type": "stream",
     "text": [
      "BAR estimate from 2500 work samples in each direction:\n",
      "\tDeltaF = 2.999 kcal/mol\n",
      "\tdDeltaF = 0.716kcal/mol\n"
     ]
    }
   ],
   "source": [
    "work_values_t1 = []\n",
    "work_values_t2 = []\n",
    "nr_of_mc_moves_t1 = 0\n",
    "nr_of_mc_moves_t2 = 0\n",
    "\n",
    "from_mol_tautomer_idx = 1\n",
    "to_mol_tautomer_idx = 2\n",
    "f = open(f\"../data/md_mc_sampling/{name}/instantaenous_MC_{name}_from_t{from_mol_tautomer_idx}_to_t{to_mol_tautomer_idx}_work.csv\", 'r')\n",
    "for l in f:\n",
    "    work_value = float(l.rstrip())\n",
    "    work_values_t1.append(work_value)\n",
    "    nr_of_mc_moves_t1+=1\n",
    "\n",
    "    \n",
    "from_mol_tautomer_idx = 2\n",
    "to_mol_tautomer_idx = 1\n",
    "f = open(f\"../data/md_mc_sampling/{name}/instantaenous_MC_{name}_from_t{from_mol_tautomer_idx}_to_t{to_mol_tautomer_idx}_work.csv\", 'r')\n",
    "for l in f:\n",
    "    work_value = float(l.rstrip())\n",
    "    #energy_kJ_mol = (float(work_value)*kT).in_units_of(unit.kilojoule_per_mole)\n",
    "    work_values_t2.append(work_value)\n",
    "    nr_of_mc_moves_t2+=1\n",
    "        \n",
    "plt.hist(work_values_t1, np.linspace(0, 1000), label='Work values of t1 to t2', alpha=0.5)\n",
    "plt.hist(work_values_t2, np.linspace(0, 1000),label='Work values of t2 to t1', alpha=0.5)\n",
    "plt.xlabel('kJ/mol')\n",
    "plt.legend()\n",
    "plt.savefig(f\"../data/md_mc_sampling//{name}/mc_work_distribution.png\", dpi=300, bbox_inches='tight')\n",
    "plt.show()\n",
    "\n",
    "e, stddev = BAR(np.asarray(work_values_t1), np.asarray(work_values_t2))\n",
    "print('BAR estimate from {} work samples in each direction:\\n\\tDeltaF = {:.3f} kcal/mol\\n\\tdDeltaF = {:.3f}kcal/mol'.format(nr_of_mc_moves_t1, (e*kT).value_in_unit(unit.kilocalorie_per_mole), (stddev*kT).value_in_unit(unit.kilocalorie_per_mole)))\n"
   ]
  },
  {
   "cell_type": "code",
   "execution_count": 4,
   "metadata": {
    "scrolled": false
   },
   "outputs": [
    {
     "ename": "NameError",
     "evalue": "name 'nr_of_runs' is not defined",
     "output_type": "error",
     "traceback": [
      "\u001b[0;31m---------------------------------------------------------------------------\u001b[0m",
      "\u001b[0;31mNameError\u001b[0m                                 Traceback (most recent call last)",
      "\u001b[0;32m<ipython-input-4-a055b12a583c>\u001b[0m in \u001b[0;36m<module>\u001b[0;34m\u001b[0m\n\u001b[1;32m      6\u001b[0m         \u001b[0mwork_values_t1\u001b[0m \u001b[0;34m=\u001b[0m \u001b[0;34m[\u001b[0m\u001b[0;34m]\u001b[0m\u001b[0;34m\u001b[0m\u001b[0;34m\u001b[0m\u001b[0m\n\u001b[1;32m      7\u001b[0m         \u001b[0mwork_values_t2\u001b[0m \u001b[0;34m=\u001b[0m \u001b[0;34m[\u001b[0m\u001b[0;34m]\u001b[0m\u001b[0;34m\u001b[0m\u001b[0;34m\u001b[0m\u001b[0m\n\u001b[0;32m----> 8\u001b[0;31m         \u001b[0;32mfor\u001b[0m \u001b[0mrun\u001b[0m \u001b[0;32min\u001b[0m \u001b[0mrange\u001b[0m\u001b[0;34m(\u001b[0m\u001b[0;36m1\u001b[0m\u001b[0;34m,\u001b[0m \u001b[0mnr_of_runs\u001b[0m\u001b[0;34m+\u001b[0m\u001b[0;36m1\u001b[0m\u001b[0;34m)\u001b[0m\u001b[0;34m:\u001b[0m\u001b[0;34m\u001b[0m\u001b[0;34m\u001b[0m\u001b[0m\n\u001b[0m\u001b[1;32m      9\u001b[0m             \u001b[0mf\u001b[0m \u001b[0;34m=\u001b[0m \u001b[0mopen\u001b[0m\u001b[0;34m(\u001b[0m\u001b[0;34mf\"../data/md_mc_sampling/{name}/{name}_from_t1_to_t2_run{run}_work_bond_length{mod_bond_length}_std{std}.csv\"\u001b[0m\u001b[0;34m,\u001b[0m \u001b[0;34m'r'\u001b[0m\u001b[0;34m)\u001b[0m\u001b[0;34m\u001b[0m\u001b[0;34m\u001b[0m\u001b[0m\n\u001b[1;32m     10\u001b[0m             \u001b[0;32mfor\u001b[0m \u001b[0ml\u001b[0m \u001b[0;32min\u001b[0m \u001b[0mf\u001b[0m\u001b[0;34m:\u001b[0m\u001b[0;34m\u001b[0m\u001b[0;34m\u001b[0m\u001b[0m\n",
      "\u001b[0;31mNameError\u001b[0m: name 'nr_of_runs' is not defined"
     ]
    }
   ],
   "source": [
    "for std in [0.001, 0.01, 0.1, 0.15, 0.25]:\n",
    "    for mod_bond_length in [0.8,0.9,0.95,1.0, 1.05, 1.1,1.2]:\n",
    "\n",
    "        nr_of_mc_moves_t1 = 0\n",
    "        nr_of_mc_moves_t2 = 0\n",
    "        work_values_t1 = []\n",
    "        work_values_t2 = []\n",
    "        for run in range(1, nr_of_runs+1):\n",
    "            f = open(f\"../data/md_mc_sampling/{name}/{name}_from_t1_to_t2_run{run}_work_bond_length{mod_bond_length}_std{std}.csv\", 'r')\n",
    "            for l in f:\n",
    "                ts, work_value = l.split(',')\n",
    "                energy_kJ_mol = (float(work_value)*kT).in_units_of(unit.kilojoule_per_mole)\n",
    "                work_values_t1.append(energy_kJ_mol._value)\n",
    "                nr_of_mc_moves_t1+=1\n",
    "\n",
    "            f = open(f\"../data/md_mc_sampling/{name}/{name}_from_t2_to_t1_run{run}_work_bond_length{mod_bond_length}_std{std}.csv\", 'r')\n",
    "            for l in f:\n",
    "                ts, work_value = l.split(',')\n",
    "                energy_kJ_mol = (float(work_value)*kT).in_units_of(unit.kilojoule_per_mole)\n",
    "                work_values_t2.append(energy_kJ_mol._value)\n",
    "                nr_of_mc_moves_t2+=1\n",
    "\n",
    "        plt.subplot(2, 1, 1)\n",
    "        plt.hist(work_values_t1,  np.linspace(0, 1000), label=f\"Work values of t1 to t2 - bond:{mod_bond_length:.3f} std:{std:.3f}\", alpha=0.3)\n",
    "        plt.subplot(2, 1, 2)\n",
    "        plt.hist(work_values_t2, np.linspace(0, 1000), label=f\"Work values of t2 to t1 - bond:{mod_bond_length:.3f} std:{std:.3f}\", alpha=0.3)\n",
    "\n",
    "    plt.subplot(2, 1, 1)\n",
    "    plt.xlabel('kJ/mol')\n",
    "    plt.legend(bbox_to_anchor=(1.05, 1), loc=2, borderaxespad=0.)\n",
    "    plt.subplot(2, 1, 2)\n",
    "    plt.xlabel('kJ/mol')\n",
    "    plt.legend(bbox_to_anchor=(1.05, 1), loc=2, borderaxespad=0.)\n",
    "\n",
    "    plt.savefig(f\"../data/md_mc_sampling//{name}/mc_work_distribution_with_variable_bondlength_and_bond_stddev_{std:.3f}.png\", dpi=300, bbox_inches='tight')\n",
    "    plt.show()\n",
    "        \n",
    "\n",
    "#print('BAR estimate from {} work samples in each direction:\\n\\tDeltaF = {:.3f}\\n\\tdDeltaF = {:.3f}'.format(nr_of_mc_moves_t1, *BAR(np.asarray(work_values_t1), np.asarray(work_values_t2))))\n"
   ]
  }
 ],
 "metadata": {
  "kernelspec": {
   "display_name": "torchANI-dev",
   "language": "python",
   "name": "torchani-dev"
  },
  "language_info": {
   "codemirror_mode": {
    "name": "ipython",
    "version": 3
   },
   "file_extension": ".py",
   "mimetype": "text/x-python",
   "name": "python",
   "nbconvert_exporter": "python",
   "pygments_lexer": "ipython3",
   "version": "3.6.8"
  }
 },
 "nbformat": 4,
 "nbformat_minor": 2
}
