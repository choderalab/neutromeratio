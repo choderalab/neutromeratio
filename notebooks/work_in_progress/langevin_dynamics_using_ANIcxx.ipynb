{
 "cells": [
  {
   "cell_type": "code",
   "execution_count": null,
   "metadata": {},
   "outputs": [],
   "source": [
    "from simtk import unit\n",
    "import numpy as np\n",
    "from tqdm import tqdm\n",
    "import mdtraj as md\n",
    "import nglview\n",
    "from rdkit import Chem\n",
    "from rdkit.Chem import AllChem\n",
    "import neutromeratio\n",
    "import matplotlib.pyplot as plt\n",
    "import pickle\n",
    "import torchani\n",
    "import torch"
   ]
  },
  {
   "cell_type": "code",
   "execution_count": null,
   "metadata": {},
   "outputs": [],
   "source": [
    "exp_results = pickle.load(open('../data/exp_results.pickle', 'rb'))\n",
    "\n",
    "# specify the system you want to simulate\n",
    "name = 'molDWRow_298'\n",
    "#name = 'molDWRow_37'\n",
    "#name = 'molDWRow_45'\n",
    "#name = 'molDWRow_160'\n",
    "#name = 'molDWRow_590'\n",
    "\n",
    "\n",
    "from_mol_tautomer_idx = 1\n",
    "to_mol_tautomer_idx = 2\n",
    "\n",
    "\n",
    "t1_smiles = exp_results[name]['t1-smiles']\n",
    "t2_smiles = exp_results[name]['t2-smiles']\n",
    "\n",
    "# generate both rdkit mol\n",
    "tautomer = neutromeratio.Tautomer(name=name, intial_state_mol=neutromeratio.generate_rdkit_mol(t1_smiles), final_state_mol=neutromeratio.generate_rdkit_mol(t2_smiles), nr_of_conformations=20)\n",
    "tautomer.perform_tautomer_transformation_forward()\n"
   ]
  },
  {
   "cell_type": "code",
   "execution_count": null,
   "metadata": {},
   "outputs": [],
   "source": [
    "# extract hydrogen donor idx and hydrogen idx for from_mol\n",
    "model = torchani.models.ANI1ccx()\n",
    "\n",
    "energy_function = neutromeratio.ANI1_force_and_energy(model = model,\n",
    "                                          atoms = tautomer.intial_state_ligand_atoms,\n",
    "                                          mol = tautomer.intial_state_ligand_atoms,\n",
    "                                          use_pure_ani1ccx=True)\n",
    "\n",
    "energy_and_force = lambda x : energy_function.calculate_force(x)\n",
    "\n",
    "\n",
    "langevin = neutromeratio.LangevinDynamics(atoms = tautomer.intial_state_ligand_atoms,\n",
    "                            energy_and_force= energy_and_force)\n",
    "\n"
   ]
  },
  {
   "cell_type": "code",
   "execution_count": null,
   "metadata": {},
   "outputs": [],
   "source": [
    "n_steps = 10000\n",
    "x0 = np.array(tautomer.intial_state_ligand_coords[0]) * unit.angstrom\n",
    "trajectory = langevin.run_dynamics(x0, n_steps, progress_bar=True)\n"
   ]
  },
  {
   "cell_type": "code",
   "execution_count": null,
   "metadata": {},
   "outputs": [],
   "source": [
    "traj_in_nm = [x.value_in_units() / unit.nanometer for x in trajectory[0]]"
   ]
  },
  {
   "cell_type": "code",
   "execution_count": null,
   "metadata": {},
   "outputs": [],
   "source": [
    "run = 1\n",
    "topology = md.load(f\"../data/md_sampling/{name}/{name}_t{from_mol_tautomer_idx}.pdb\").topology\n",
    "ani_traj = md.Trajectory(traj_in_nm, topology)\n",
    "view = nglview.show_mdtraj(ani_traj)\n",
    "view"
   ]
  },
  {
   "cell_type": "code",
   "execution_count": null,
   "metadata": {},
   "outputs": [],
   "source": []
  }
 ],
 "metadata": {
  "kernelspec": {
   "display_name": "Python (ani36)",
   "language": "python",
   "name": "ani36"
  },
  "language_info": {
   "codemirror_mode": {
    "name": "ipython",
    "version": 3
   },
   "file_extension": ".py",
   "mimetype": "text/x-python",
   "name": "python",
   "nbconvert_exporter": "python",
   "pygments_lexer": "ipython3",
   "version": "3.6.7"
  }
 },
 "nbformat": 4,
 "nbformat_minor": 2
}
