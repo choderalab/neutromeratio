{
 "cells": [
  {
   "cell_type": "code",
   "execution_count": null,
   "metadata": {},
   "outputs": [],
   "source": [
    "import mdtraj as md\n",
    "import numpy as np\n",
    "\n",
    "topology_path = '../data/md_sampling/molDWRow_298/molDWRow_298_tautomer_1.pdb'\n",
    "traj_path = '../data/md_mc_sampling/molDWRow_298/molDWRow_298_from_t1_to_t2_NCMC_work_run_nr_0.dcd'\n",
    "traj = md.load(traj_path, top=topology_path)\n",
    "elements = [atom.element.symbol for atom in traj.top.atoms]\n",
    "print(elements)\n",
    "\n",
    "\n",
    "from openmmtools.constants import kB\n",
    "from simtk import unit\n",
    "\n",
    "distance_unit = unit.nanometer\n",
    "ani_distance_unit = unit.angstrom\n",
    "hartree_to_kJ_mol = np.float(2625.499638)\n",
    "ani_energy_unit = hartree_to_kJ_mol * unit.kilojoule_per_mole\n",
    "nm_to_angstroms = (1.0 * distance_unit) / (1.0 * ani_distance_unit) \n",
    "\n",
    "\n",
    "import torchani\n",
    "import torch\n",
    "from tqdm import tqdm_notebook as tqdm\n",
    "\n",
    "platform = 'cpu'\n",
    "device = torch.device(platform)\n",
    "model = torchani.models.ANI1ccx()\n",
    "species = model.species_to_tensor(elements).to(device).unsqueeze(0)\n",
    "\n",
    "def energy(x_in_angstroms):\n",
    "    coordinates = torch.tensor([x_in_angstroms],\n",
    "                          requires_grad=True, device=device, dtype=torch.float32)\n",
    "    _, energy_in_hartree = model((species, coordinates))\n",
    "    #print('Energy in hartree: {}'.format(energy_in_hartree))\n",
    "    #print('Energy in hartree: {}'.format(energy_in_hartree.item()))\n",
    "    #print('Energy converted by mult1: {}'.format(energy_in_hartree * hartree_to_kJ_mol))\n",
    "    #print('Energy converted by mult2: {}'.format(energy_in_hartree.item() * hartree_to_kJ_mol))\n",
    "\n",
    "\n",
    "    \n",
    "    return energy_in_hartree\n",
    "\n",
    "energies = []\n",
    "for x_in_nm in tqdm(traj.xyz[::100]):\n",
    "    x_in_angstroms = x_in_nm * nm_to_angstroms\n",
    "    energies.append(energy(x_in_angstroms))\n",
    "\n",
    "e = energies[0]\n",
    "#print(e)\n",
    "#print(e.item()* hartree_to_kJ_mol, float(e.detach()* hartree_to_kJ_mol), float(e.detach().item()* hartree_to_kJ_mol))\n",
    "print(e.item(), float(e.detach()), float(e.detach().item()))\n",
    "#print(e.item()* hartree_to_kJ_mol)\n",
    "#print(float(e.detach()* hartree_to_kJ_mol))\n",
    "#print(float(e.detach())* hartree_to_kJ_mol)\n",
    "\n",
    "\n",
    "#print('Energy in hartree: {}'.format(e))\n",
    "#print('Energy in hartree: {}'.format(e.item()))\n",
    "#print('Energy converted by mult1: {}'.format(e * hartree_to_kJ_mol))\n",
    "#print('Energy converted by mult2: {}'.format(e.item() * hartree_to_kJ_mol))\n",
    "\n"
   ]
  },
  {
   "cell_type": "code",
   "execution_count": null,
   "metadata": {},
   "outputs": [],
   "source": [
    "import numpy as np\n",
    "import torch\n",
    "\n",
    "tensor = torch.tensor([np.pi], dtype=torch.float32)\n",
    "scalar = np.e\n",
    "\n",
    "l = 30\n",
    "print('tensor:'.ljust(l), tensor)\n",
    "print('type(tensor):'.ljust(l), repr(type(tensor)))\n",
    "print()\n",
    "print('tensor.item():'.ljust(l), tensor.item())\n",
    "print('type(tensor.item()):'.ljust(l), type(tensor.item()))\n",
    "print()\n",
    "print('scalar:'.ljust(l), scalar)\n",
    "print('type(scalar):'.ljust(l), type(scalar))\n",
    "print()\n",
    "print('(tensor * scalar).item():'.ljust(l), (tensor * scalar).item())\n",
    "print()\n",
    "print('tensor.item() * scalar:'.ljust(l), tensor.item() * scalar)\n",
    "print('scalar * tensor.item():'.ljust(l), scalar * tensor.item())"
   ]
  },
  {
   "cell_type": "code",
   "execution_count": null,
   "metadata": {},
   "outputs": [],
   "source": [
    "hartree_to_kJ_mol = np.float64(hartree_to_kJ_mol)\n",
    "e_ = e.detach()\n",
    "print((e_ * hartree_to_kJ_mol).item(), e_.item() * hartree_to_kJ_mol)"
   ]
  },
  {
   "cell_type": "code",
   "execution_count": null,
   "metadata": {},
   "outputs": [],
   "source": [
    "from simtk import unit\n",
    "distance_unit = unit.nanometer\n",
    "# ANI-1 units and conversion factors\n",
    "ani_distance_unit = unit.angstrom\n",
    "hartree_to_kJ_mol = 2625.499638\n",
    "ani_energy_unit = hartree_to_kJ_mol * unit.kilojoule_per_mole # simtk.unit doesn't have hartree?\n",
    "nm_to_angstroms = (1.0 * distance_unit) / (1.0 * ani_distance_unit)\n",
    "\n",
    "\n",
    "def calculate_energy(x, lambda_value, device, model, species):\n",
    "    \"\"\"\n",
    "    Given a coordinate set (x) the energy is calculated in kJ/mol.\n",
    "\n",
    "    Parameters\n",
    "    ----------\n",
    "    x : array of floats, unit'd (distance unit)\n",
    "        initial configuration\n",
    "\n",
    "    Returns\n",
    "    -------\n",
    "    E : float, unit'd \n",
    "    \"\"\"\n",
    "\n",
    "    assert(type(x) == unit.Quantity)\n",
    "\n",
    "    coordinates = torch.tensor([x.value_in_unit(unit.nanometer)],\n",
    "                            requires_grad=True, device=device, dtype=torch.float32)\n",
    "\n",
    "    _, energy_in_hartree = model((species, coordinates * nm_to_angstroms, lambda_value))\n",
    "\n",
    "    # convert energy from hartrees to kJ/mol\n",
    "    #energy_in_kJ_mol = energy_in_hartree * hartree_to_kJ_mol\n",
    "    return energy_in_hartree.item()\n"
   ]
  },
  {
   "cell_type": "code",
   "execution_count": null,
   "metadata": {},
   "outputs": [],
   "source": []
  },
  {
   "cell_type": "code",
   "execution_count": null,
   "metadata": {},
   "outputs": [],
   "source": []
  },
  {
   "cell_type": "code",
   "execution_count": null,
   "metadata": {},
   "outputs": [],
   "source": []
  },
  {
   "cell_type": "code",
   "execution_count": null,
   "metadata": {},
   "outputs": [],
   "source": [
    "x = np.arange(11)\n",
    "plt.plot(harmonic_pot(x))\n",
    "plt.show()"
   ]
  },
  {
   "cell_type": "code",
   "execution_count": 90,
   "metadata": {},
   "outputs": [
    {
     "data": {
      "image/png": "[encoded data removed]",
      "text/plain": [
       "<Figure size 432x288 with 1 Axes>"
      ]
     },
     "metadata": {
      "needs_background": "light"
     },
     "output_type": "display_data"
    }
   ],
   "source": [
    "from openmmtools.constants import kB\n",
    "import numpy as np\n",
    "import matplotlib.pyplot as plt\n",
    "import math\n",
    "from simtk import unit\n",
    "from scipy.stats import norm\n",
    "import torch\n",
    "from torch.distributions.normal import Normal\n",
    "\n",
    "def harmonic_pot(x):\n",
    "    e = (k/2) *(x - mean_distance)**2\n",
    "    return e\n",
    "\n",
    "\n",
    "sigma = 0.1 * unit.angstrom\n",
    "T = 300 * unit.kelvin\n",
    "k = (kB * T) / (sigma**2) \n",
    "mean_distance = 5\n",
    "\n",
    "plt.plot(harmonic_pot(x), label='potential')\n",
    "plt.xlabel('J/(A**2 mol)')\n",
    "plt.ylabel('A')\n",
    "\n",
    "plt.legend()\n",
    "plt.show()"
   ]
  },
  {
   "cell_type": "code",
   "execution_count": null,
   "metadata": {},
   "outputs": [],
   "source": []
  },
  {
   "cell_type": "code",
   "execution_count": null,
   "metadata": {},
   "outputs": [],
   "source": []
  },
  {
   "cell_type": "code",
   "execution_count": null,
   "metadata": {},
   "outputs": [],
   "source": []
  },
  {
   "cell_type": "code",
   "execution_count": null,
   "metadata": {},
   "outputs": [],
   "source": []
  },
  {
   "cell_type": "code",
   "execution_count": null,
   "metadata": {},
   "outputs": [],
   "source": []
  },
  {
   "cell_type": "code",
   "execution_count": null,
   "metadata": {},
   "outputs": [],
   "source": []
  },
  {
   "cell_type": "code",
   "execution_count": null,
   "metadata": {},
   "outputs": [],
   "source": []
  },
  {
   "cell_type": "code",
   "execution_count": null,
   "metadata": {},
   "outputs": [],
   "source": [
    "len(x)"
   ]
  },
  {
   "cell_type": "code",
   "execution_count": null,
   "metadata": {},
   "outputs": [],
   "source": [
    "plt.hist(harmonic_pot(x), bins=(int(len(x)/5)))\n",
    "plt.hist(a, bins=(int(len(x)/5)))\n",
    "plt.plot()"
   ]
  },
  {
   "cell_type": "code",
   "execution_count": null,
   "metadata": {},
   "outputs": [],
   "source": []
  },
  {
   "cell_type": "code",
   "execution_count": null,
   "metadata": {},
   "outputs": [],
   "source": []
  },
  {
   "cell_type": "code",
   "execution_count": null,
   "metadata": {},
   "outputs": [],
   "source": []
  },
  {
   "cell_type": "code",
   "execution_count": null,
   "metadata": {},
   "outputs": [],
   "source": [
    "print(n.log_prob(1.0))\n",
    "print(n.log_prob(2.0))\n",
    "print(n.log_prob(6.0))\n"
   ]
  },
  {
   "cell_type": "code",
   "execution_count": null,
   "metadata": {},
   "outputs": [],
   "source": []
  }
 ],
 "metadata": {
  "kernelspec": {
   "display_name": "torchANI-dev",
   "language": "python",
   "name": "torchani-dev"
  },
  "language_info": {
   "codemirror_mode": {
    "name": "ipython",
    "version": 3
   },
   "file_extension": ".py",
   "mimetype": "text/x-python",
   "name": "python",
   "nbconvert_exporter": "python",
   "pygments_lexer": "ipython3",
   "version": "3.6.8"
  }
 },
 "nbformat": 4,
 "nbformat_minor": 2
}
