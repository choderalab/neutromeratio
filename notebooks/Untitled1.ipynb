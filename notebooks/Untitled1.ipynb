{
 "cells": [
  {
   "cell_type": "code",
   "execution_count": 1,
   "metadata": {},
   "outputs": [
    {
     "data": {
      "application/vnd.jupyter.widget-view+json": {
       "model_id": "9170e1c9aeb74c22aaa5f1ceb372de45",
       "version_major": 2,
       "version_minor": 0
      },
      "text/plain": [
       "_ColormakerRegistry()"
      ]
     },
     "metadata": {},
     "output_type": "display_data"
    },
    {
     "name": "stderr",
     "output_type": "stream",
     "text": [
      "[utils.py:141 - _init_num_threads()] NumExpr defaulting to 8 threads.\n"
     ]
    },
    {
     "name": "stdout",
     "output_type": "stream",
     "text": [
      "SAMPLmol2\n"
     ]
    },
    {
     "data": {
      "text/plain": [
       "-6.1"
      ]
     },
     "execution_count": 1,
     "metadata": {},
     "output_type": "execute_result"
    }
   ],
   "source": [
    "import neutromeratio\n",
    "from openmmtools.constants import kB\n",
    "from simtk import unit\n",
    "import numpy as np\n",
    "import pickle\n",
    "import mdtraj as md\n",
    "import matplotlib.pyplot as plt\n",
    "import sys\n",
    "from tqdm import tqdm\n",
    "import torch\n",
    "from neutromeratio.parameter_gradients import FreeEnergyCalculator\n",
    "from neutromeratio.constants import kT, device, exclude_set\n",
    "from glob import glob\n",
    "\n",
    "# job idx\n",
    "idx = int(1)\n",
    "# where to write the results\n",
    "base_path = str('/home/mwieder/')\n",
    "env = str('droplet')\n",
    "diameter_in_angstrom = int(18)\n",
    "#######################\n",
    "\n",
    "mode = 'forward'\n",
    "\n",
    "# read in exp results, smiles and names\n",
    "exp_results = pickle.load(open('../data/exp_results.pickle', 'rb'))\n",
    "\n",
    "# name of the system\n",
    "protocoll = []\n",
    "for name in sorted(exp_results):\n",
    "    if name in exclude_set:\n",
    "        continue\n",
    "    protocoll.append(name)\n",
    "\n",
    "name = protocoll[idx-1]\n",
    "print(name)\n",
    "\n",
    "# don't change - direction is fixed for all runs\n",
    "#################\n",
    "t1_smiles = exp_results[name]['t1-smiles']\n",
    "t2_smiles = exp_results[name]['t2-smiles']\n",
    "\n",
    "exp_results[name]['energy']"
   ]
  },
  {
   "cell_type": "code",
   "execution_count": 3,
   "metadata": {},
   "outputs": [
    {
     "data": {
      "text/plain": [
       "Quantity(value=-7.450768522014049, unit=kilocalorie/mole)"
      ]
     },
     "execution_count": 3,
     "metadata": {},
     "output_type": "execute_result"
    }
   ],
   "source": [
    "(-12.497892722203273 * kT).in_units_of(unit.kilocalorie_per_mole)"
   ]
  },
  {
   "cell_type": "code",
   "execution_count": null,
   "metadata": {},
   "outputs": [],
   "source": []
  },
  {
   "cell_type": "code",
   "execution_count": null,
   "metadata": {},
   "outputs": [],
   "source": []
  },
  {
   "cell_type": "code",
   "execution_count": null,
   "metadata": {},
   "outputs": [],
   "source": []
  },
  {
   "cell_type": "code",
   "execution_count": null,
   "metadata": {},
   "outputs": [],
   "source": []
  },
  {
   "cell_type": "code",
   "execution_count": null,
   "metadata": {},
   "outputs": [],
   "source": []
  },
  {
   "cell_type": "code",
   "execution_count": null,
   "metadata": {},
   "outputs": [],
   "source": []
  },
  {
   "cell_type": "code",
   "execution_count": null,
   "metadata": {},
   "outputs": [],
   "source": []
  },
  {
   "cell_type": "code",
   "execution_count": null,
   "metadata": {},
   "outputs": [],
   "source": [
    "import neutromeratio\n",
    "from openmmtools.constants import kB\n",
    "from simtk import unit\n",
    "import numpy as np\n",
    "import pickle\n",
    "import mdtraj as md\n",
    "import matplotlib.pyplot as plt\n",
    "import sys\n",
    "from tqdm import tqdm\n",
    "import torch\n",
    "from neutromeratio.parameter_gradients import FreeEnergyCalculator\n",
    "from neutromeratio.constants import kT, device, exclude_set\n",
    "from glob import glob\n",
    "\n",
    "def parse_lambda_from_dcd_filename(dcd_filename, env):\n",
    "    return float(dcd_filename[:dcd_filename.find(f\"_in_{env}\")].split('_')[-1])\n",
    "\n",
    "\n",
    "# job idx\n",
    "idx = int(1)\n",
    "# where to write the results\n",
    "base_path = str('/home/mwieder/')\n",
    "env = str('droplet')\n",
    "diameter_in_angstrom = int(18)\n",
    "#######################\n",
    "\n",
    "mode = 'forward'\n",
    "\n",
    "# read in exp results, smiles and names\n",
    "exp_results = pickle.load(open('../data/exp_results.pickle', 'rb'))\n",
    "\n",
    "# name of the system\n",
    "protocoll = []\n",
    "for name in sorted(exp_results):\n",
    "    if name in exclude_set:\n",
    "        continue\n",
    "    protocoll.append(name)\n",
    "\n",
    "name = protocoll[idx-1]\n",
    "print(name)\n",
    "\n",
    "# don't change - direction is fixed for all runs\n",
    "#################\n",
    "t1_smiles = exp_results[name]['t1-smiles']\n",
    "t2_smiles = exp_results[name]['t2-smiles']\n",
    "\n",
    "\n",
    "# generate both rdkit mol\n",
    "tautomer = neutromeratio.Tautomer(name=name, initial_state_mol=neutromeratio.generate_rdkit_mol(t1_smiles), final_state_mol=neutromeratio.generate_rdkit_mol(t2_smiles), nr_of_conformations=20)\n",
    "if mode == 'forward':\n",
    "    tautomer.perform_tautomer_transformation_forward()\n",
    "elif mode == 'reverse':\n",
    "    tautomer.perform_tautomer_transformation_reverse()\n",
    "else:\n",
    "    raise RuntimeError('No tautomer reaction direction was specified.')\n",
    "\n",
    "if env == 'droplet':\n",
    "    tautomer.add_droplet(tautomer.hybrid_topology, \n",
    "                                tautomer.hybrid_coords, \n",
    "                                diameter=diameter_in_angstrom * unit.angstrom,\n",
    "                                restrain_hydrogens=True,\n",
    "                                file=f\"{base_path}/{name}/{name}_in_droplet_{mode}.pdb\")\n",
    "    print('Nr of atoms: {}'.format(len(tautomer.ligand_in_water_atoms)))\n",
    "    atoms = tautomer.ligand_in_water_atoms\n",
    "    top = tautomer.ligand_in_water_topology\n",
    "else:\n",
    "    atoms = tautomer.hybrid_atoms\n",
    "    top = tautomer.hybrid_topology\n",
    "\n",
    "# define the alchemical atoms\n",
    "alchemical_atoms=[tautomer.hybrid_hydrogen_idx_at_lambda_1, tautomer.hybrid_hydrogen_idx_at_lambda_0]\n",
    "\n",
    "\n",
    "# extract hydrogen donor idx and hydrogen idx for from_mol\n",
    "model = neutromeratio.ani.LinearAlchemicalDualTopologyANI(alchemical_atoms=alchemical_atoms, adventure_mode=True)\n",
    "model = model.to(device)\n",
    "torch.set_num_threads(2)\n",
    "\n",
    "# perform initial sampling\n",
    "energy_function = neutromeratio.ANI1_force_and_energy(\n",
    "                                        model = model,\n",
    "                                        atoms = atoms,\n",
    "                                        mol = None,\n",
    "                                        )\n",
    "\n",
    "\n",
    "for r in tautomer.ligand_restraints:\n",
    "    energy_function.add_restraint(r)\n",
    "\n",
    "for r in tautomer.hybrid_ligand_restraints:\n",
    "    energy_function.add_restraint(r)\n",
    "\n",
    "if env == 'droplet':\n",
    "\n",
    "    tautomer.add_COM_for_hybrid_ligand(np.array([diameter_in_angstrom/2, diameter_in_angstrom/2, diameter_in_angstrom/2]) * unit.angstrom)\n",
    "\n",
    "    for r in tautomer.solvent_restraints:\n",
    "        energy_function.add_restraint(r)\n",
    "\n",
    "    for r in tautomer.com_restraints:\n",
    "        energy_function.add_restraint(r)\n",
    "\n",
    "\n",
    "# get steps inclusive endpoints\n",
    "# and lambda values in list\n",
    "dcds = glob(f\"{base_path}/{name}/*.dcd\")\n",
    "\n",
    "lambdas = []\n",
    "ani_trajs = []\n",
    "energies = []\n",
    "\n",
    "for dcd_filename in dcds:\n",
    "    lam = parse_lambda_from_dcd_filename(dcd_filename, env)\n",
    "    lambdas.append(lam)\n",
    "    traj = md.load_dcd(dcd_filename, top=top)\n",
    "    ani_trajs.append(traj)  \n",
    "    f = open(f\"{base_path}/{name}/{name}_lambda_{lam:0.4f}_energy_in_{env}_{mode}.csv\", 'r')  \n",
    "    tmp_e = []\n",
    "    for e in f:\n",
    "        tmp_e.append(float(e))\n",
    "    f.close()\n",
    "    energies.append(np.array(tmp_e))"
   ]
  },
  {
   "cell_type": "code",
   "execution_count": 2,
   "metadata": {},
   "outputs": [],
   "source": [
    "snapshots = {}\n",
    "K = len(ani_trajs)\n",
    "for lam, traj in zip(lambdas, ani_trajs):\n",
    "\n",
    "    #equil, g = detectEquilibration(self.potential_energy_trajs[i])[:2]\n",
    "    #thinning = int(g)\n",
    "    #if len(traj[equil::thinning]) > max_snapshots_per_window:\n",
    "        # what thinning will give me len(traj[equil::thinning]) == max_snapshots_per_window?\n",
    "    #    thinning = int((len(traj) - equil) / max_snapshots_per_window)\n",
    "\n",
    "    new_snapshots = list(traj[0:200:10].xyz * unit.nanometer)\n",
    "    snapshots[lam] = new_snapshots"
   ]
  },
  {
   "cell_type": "code",
   "execution_count": 3,
   "metadata": {},
   "outputs": [],
   "source": [
    "def calculate_stddev(snapshots):\n",
    "    lambda0_e_b_stddev = [energy_function.calculate_energy(x, lambda_value=0.0) for x in tqdm(snapshots)]\n",
    "    lambda1_e_b_stddev = [energy_function.calculate_energy(x, lambda_value=1.0) for x in tqdm(snapshots)]\n",
    "\n",
    "    # extract endpoint stddev\n",
    "    lambda0_stddev = [stddev/kT for stddev in [e_b_stddev[2] for e_b_stddev in lambda0_e_b_stddev]]\n",
    "    lambda1_stddev = [stddev/kT for stddev in [e_b_stddev[2] for e_b_stddev in lambda1_e_b_stddev]]\n",
    "    return np.array(lambda0_stddev), np.array(lambda1_stddev)\n",
    "\n",
    "def compute_linear_penalty(current_stddev, n_atoms):\n",
    "    per_atom_thresh = 0.5 * unit.kilojoule_per_mole\n",
    "    total_thresh = per_atom_thresh * n_atoms\n",
    "    linear_penalty = np.maximum(0, current_stddev - (total_thresh/kT))\n",
    "    return linear_penalty\n",
    "\n",
    "def compute_last_valid_ind(linear_penalty):\n",
    "    last_valid_ind = np.argmax(np.cumsum(linear_penalty) > 0)\n",
    "    if last_valid_ind == 0:\n",
    "        return len(linear_penalty)\n",
    "    return last_valid_ind"
   ]
  },
  {
   "cell_type": "code",
   "execution_count": 4,
   "metadata": {},
   "outputs": [
    {
     "name": "stderr",
     "output_type": "stream",
     "text": [
      "100%|██████████| 20/20 [00:25<00:00,  1.28s/it]\n",
      "100%|██████████| 20/20 [00:32<00:00,  1.63s/it]\n",
      "  0%|          | 0/20 [00:00<?, ?it/s]"
     ]
    },
    {
     "name": "stdout",
     "output_type": "stream",
     "text": [
      "[35.54565312 33.71561249 29.49961212 35.12164857 28.42659966 28.84589842\n",
      " 34.7389601  32.82288587 34.58596583 31.23591895 37.81755263 23.92589236\n",
      " 30.32409965 34.87454346 31.83022945 29.52869658 32.58677437 27.17266795\n",
      " 25.70561765 27.1862321 ]\n",
      "20\n"
     ]
    },
    {
     "name": "stderr",
     "output_type": "stream",
     "text": [
      "100%|██████████| 20/20 [00:29<00:00,  1.48s/it]\n",
      "100%|██████████| 20/20 [00:30<00:00,  1.53s/it]\n",
      "  0%|          | 0/20 [00:00<?, ?it/s]"
     ]
    },
    {
     "name": "stdout",
     "output_type": "stream",
     "text": [
      "[41.72148378 38.73133952 31.88020362 34.36612729 29.13551649 34.84994173\n",
      " 36.83820444 33.20671832 32.86367665 24.70991068 36.71820588 30.74188788\n",
      " 31.87267347 33.8298714  31.75555156 33.35595974 32.21869838 31.34417146\n",
      " 24.84004115 31.51509683]\n",
      "20\n"
     ]
    },
    {
     "name": "stderr",
     "output_type": "stream",
     "text": [
      "100%|██████████| 20/20 [00:24<00:00,  1.20s/it]\n",
      "100%|██████████| 20/20 [00:26<00:00,  1.32s/it]\n",
      "  0%|          | 0/20 [00:00<?, ?it/s]"
     ]
    },
    {
     "name": "stdout",
     "output_type": "stream",
     "text": [
      "[40.44271442 24.94409478 26.43278515 31.85163946 30.86227419 37.39729724\n",
      " 29.40021184 30.34762301 33.63964266 33.59299758 23.18325027 26.964528\n",
      " 33.13475693 34.42152901 29.48434521 27.21187419 34.20667277 28.84620325\n",
      " 31.61685931 31.71508578]\n",
      "20\n"
     ]
    },
    {
     "name": "stderr",
     "output_type": "stream",
     "text": [
      "100%|██████████| 20/20 [00:24<00:00,  1.24s/it]\n",
      "100%|██████████| 20/20 [00:22<00:00,  1.10s/it]\n",
      "  0%|          | 0/20 [00:00<?, ?it/s]"
     ]
    },
    {
     "name": "stdout",
     "output_type": "stream",
     "text": [
      "[46.15737098 35.6052868  25.98284831 28.2429934  32.70070589 37.29959716\n",
      " 30.33835587 31.31561385 27.91765055 23.28349003 24.24664472 28.62384596\n",
      " 18.65662589 26.0779154  29.59454891 27.91009697 31.85803607 29.56836541\n",
      " 27.45507979 14.54543321]\n",
      "20\n"
     ]
    },
    {
     "name": "stderr",
     "output_type": "stream",
     "text": [
      "100%|██████████| 20/20 [00:26<00:00,  1.32s/it]\n",
      "100%|██████████| 20/20 [00:27<00:00,  1.37s/it]\n",
      "  0%|          | 0/20 [00:00<?, ?it/s]"
     ]
    },
    {
     "name": "stdout",
     "output_type": "stream",
     "text": [
      "[ 38.29787107  34.4244135   35.08730245  28.07936982  20.0920642\n",
      " 208.05610888 183.16983726 185.46570531 213.07385304 229.08609806\n",
      " 356.22998509 358.43830078 387.86661441 398.88506542 395.7280576\n",
      " 410.04981822 401.74697774 363.12417588 364.22240275 348.51920725]\n",
      "5\n"
     ]
    },
    {
     "name": "stderr",
     "output_type": "stream",
     "text": [
      "100%|██████████| 20/20 [00:23<00:00,  1.19s/it]\n",
      "100%|██████████| 20/20 [00:23<00:00,  1.15s/it]\n",
      "  0%|          | 0/20 [00:00<?, ?it/s]"
     ]
    },
    {
     "name": "stdout",
     "output_type": "stream",
     "text": [
      "[40.58331105 32.13255434 32.95327201 28.59065102 22.00198139 23.43457606\n",
      " 27.5631559  32.80517574 34.05353087 33.77547482 28.3979139  27.29898529\n",
      " 36.3803739  36.42622035 35.50603472 26.16799797 33.02075541 25.06107507\n",
      " 24.73598227 28.06990605]\n",
      "20\n"
     ]
    },
    {
     "name": "stderr",
     "output_type": "stream",
     "text": [
      "100%|██████████| 20/20 [00:18<00:00,  1.06it/s]\n",
      "100%|██████████| 20/20 [00:22<00:00,  1.12s/it]\n",
      "  0%|          | 0/20 [00:00<?, ?it/s]"
     ]
    },
    {
     "name": "stdout",
     "output_type": "stream",
     "text": [
      "[41.01952917 35.92791427 29.49766461 28.51206456 31.50395145 28.26746279\n",
      " 29.13664009 35.54779406 33.19614841 30.77976507 29.60929667 31.08870692\n",
      " 31.13978028 32.43491201 29.10685386 38.48922982 30.75754816 38.21523627\n",
      " 36.75672472 28.59682505]\n",
      "20\n"
     ]
    },
    {
     "name": "stderr",
     "output_type": "stream",
     "text": [
      "100%|██████████| 20/20 [00:20<00:00,  1.01s/it]\n",
      "100%|██████████| 20/20 [00:17<00:00,  1.13it/s]\n",
      "  0%|          | 0/20 [00:00<?, ?it/s]"
     ]
    },
    {
     "name": "stdout",
     "output_type": "stream",
     "text": [
      "[39.88798101 35.97334771 26.79890919 33.07582514 31.54080455 28.86927093\n",
      " 33.06580096 31.22336624 25.69023056 36.38982965 27.12418581 29.88396135\n",
      " 35.69470965 32.90008598 33.0320839  30.20140639 26.56629873 28.44877166\n",
      " 25.84409672 28.67566608]\n",
      "20\n"
     ]
    },
    {
     "name": "stderr",
     "output_type": "stream",
     "text": [
      "100%|██████████| 20/20 [00:19<00:00,  1.02it/s]\n",
      "100%|██████████| 20/20 [00:19<00:00,  1.03it/s]\n",
      "  0%|          | 0/20 [00:00<?, ?it/s]"
     ]
    },
    {
     "name": "stdout",
     "output_type": "stream",
     "text": [
      "[38.24179285 28.97493632 32.41918293 33.26598473 33.50118178 35.13125356\n",
      " 29.58579549 34.57823759 41.09349918 41.1183326  30.34817239 29.80618374\n",
      " 27.17354682 35.65684492 32.13536156 30.92076848 30.99388956 31.49435006\n",
      " 25.94334256 21.02792615]\n",
      "20\n"
     ]
    },
    {
     "name": "stderr",
     "output_type": "stream",
     "text": [
      "100%|██████████| 20/20 [00:19<00:00,  1.05it/s]\n",
      "100%|██████████| 20/20 [00:18<00:00,  1.10it/s]\n",
      "  0%|          | 0/20 [00:00<?, ?it/s]"
     ]
    },
    {
     "name": "stdout",
     "output_type": "stream",
     "text": [
      "[46.1834761  32.66728587 31.51728425 40.45116409 34.64499419 37.91720263\n",
      " 35.43416229 37.03957697 37.01616543 31.82742391 41.87122316 39.29944744\n",
      " 36.82820255 30.09667135 27.80991085 34.42472212 37.65217663 31.54870036\n",
      " 39.60482486 34.91360981]\n",
      "20\n"
     ]
    },
    {
     "name": "stderr",
     "output_type": "stream",
     "text": [
      "100%|██████████| 20/20 [00:18<00:00,  1.09it/s]\n",
      "100%|██████████| 20/20 [00:18<00:00,  1.08it/s]\n",
      "  0%|          | 0/20 [00:00<?, ?it/s]"
     ]
    },
    {
     "name": "stdout",
     "output_type": "stream",
     "text": [
      "[43.57513038 28.60957003 37.94625024 30.77069923 30.46899849 33.53683015\n",
      " 34.97683134 25.40852792 38.77668925 30.30336011 31.41455242 28.94106247\n",
      " 31.90569855 25.39290467 28.18572793 30.88366228 30.15266686 29.74880194\n",
      " 27.5626743  32.76944882]\n",
      "20\n"
     ]
    },
    {
     "name": "stderr",
     "output_type": "stream",
     "text": [
      "100%|██████████| 20/20 [00:17<00:00,  1.12it/s]\n",
      "100%|██████████| 20/20 [00:19<00:00,  1.04it/s]\n",
      "  0%|          | 0/20 [00:00<?, ?it/s]"
     ]
    },
    {
     "name": "stdout",
     "output_type": "stream",
     "text": [
      "[47.26024081 35.09300904 21.77947278 25.11532637 35.21489917 36.41663044\n",
      " 34.37220505 38.46133603 28.67246396 30.46436803 31.18974554 38.037456\n",
      " 37.32668544 29.52730252 36.45051072 26.26305664 27.68806138 30.80578608\n",
      " 38.67635058 38.12031427]\n",
      "20\n"
     ]
    },
    {
     "name": "stderr",
     "output_type": "stream",
     "text": [
      "100%|██████████| 20/20 [00:27<00:00,  1.40s/it]\n",
      "100%|██████████| 20/20 [00:26<00:00,  1.31s/it]\n",
      "  0%|          | 0/20 [00:00<?, ?it/s]"
     ]
    },
    {
     "name": "stdout",
     "output_type": "stream",
     "text": [
      "[45.73095117 26.04454042 29.4960406  28.02954222 34.7709307  22.8370641\n",
      " 29.58921962 25.73595664 27.94140644 26.35951182 23.63759827 26.03907095\n",
      " 24.76474791 29.07038191 25.71786377 27.32031413 29.32155971 23.33855899\n",
      " 30.6725355  26.80648966]\n",
      "20\n"
     ]
    },
    {
     "name": "stderr",
     "output_type": "stream",
     "text": [
      "100%|██████████| 20/20 [00:22<00:00,  1.10s/it]\n",
      "100%|██████████| 20/20 [00:22<00:00,  1.11s/it]\n",
      "  0%|          | 0/20 [00:00<?, ?it/s]"
     ]
    },
    {
     "name": "stdout",
     "output_type": "stream",
     "text": [
      "[37.54358662 30.2900024  34.09328763 27.93152877 36.63011074 26.22492089\n",
      " 34.32889694 26.67190048 40.3727124  25.12323281 31.24295905 37.33414244\n",
      " 30.3095151  34.92665718 28.14334922 29.54809177 31.90415609 29.36927991\n",
      " 31.73884801 33.91766562]\n",
      "20\n"
     ]
    },
    {
     "name": "stderr",
     "output_type": "stream",
     "text": [
      "100%|██████████| 20/20 [00:22<00:00,  1.11s/it]\n",
      "100%|██████████| 20/20 [00:21<00:00,  1.07s/it]\n",
      "  0%|          | 0/20 [00:00<?, ?it/s]"
     ]
    },
    {
     "name": "stdout",
     "output_type": "stream",
     "text": [
      "[39.05055415 29.93860774 27.45058323 35.85458565 29.56272677 30.06576014\n",
      " 25.82851427 32.87134535 41.03806674 34.41615841 35.26920515 31.11600636\n",
      " 32.67023087 35.56415749 28.9855766  28.39164101 34.810115   40.87836754\n",
      " 39.12007534 35.68087337]\n",
      "20\n"
     ]
    },
    {
     "name": "stderr",
     "output_type": "stream",
     "text": [
      "100%|██████████| 20/20 [00:22<00:00,  1.12s/it]\n",
      "100%|██████████| 20/20 [00:22<00:00,  1.10s/it]\n",
      "  0%|          | 0/20 [00:00<?, ?it/s]"
     ]
    },
    {
     "name": "stdout",
     "output_type": "stream",
     "text": [
      "[52.07462592 39.76168002 39.31769193 43.26362067 32.68015797 34.16726375\n",
      " 33.73548969 25.30203982 32.08159089 34.46871562 30.54997928 30.80987445\n",
      " 34.66375027 35.11952797 28.04581816 31.88348562 24.8998702  23.64892323\n",
      " 28.9290197  27.96427029]\n",
      "20\n"
     ]
    },
    {
     "name": "stderr",
     "output_type": "stream",
     "text": [
      "100%|██████████| 20/20 [00:22<00:00,  1.11s/it]\n",
      "100%|██████████| 20/20 [00:22<00:00,  1.11s/it]\n",
      "  0%|          | 0/20 [00:00<?, ?it/s]"
     ]
    },
    {
     "name": "stdout",
     "output_type": "stream",
     "text": [
      "[ 62.12772794  29.54313021  31.14450569 164.64444124 172.75312275\n",
      " 261.03048783 235.62341533 230.88679027 261.88108645 255.97159844\n",
      " 246.37548343 217.45338443 263.86865841 240.83433059 234.11825385\n",
      " 223.26204634 242.77766753 259.86446044 233.46756772 222.97282436]\n",
      "3\n"
     ]
    },
    {
     "name": "stderr",
     "output_type": "stream",
     "text": [
      "100%|██████████| 20/20 [00:21<00:00,  1.09s/it]\n",
      "100%|██████████| 20/20 [00:22<00:00,  1.11s/it]\n",
      "  0%|          | 0/20 [00:00<?, ?it/s]"
     ]
    },
    {
     "name": "stdout",
     "output_type": "stream",
     "text": [
      "[61.65218855 27.48866783 26.58840295 27.46314014 22.04887438 27.75885158\n",
      " 32.01814645 30.42583024 27.44994648 33.50360583 29.036792   26.2725234\n",
      " 30.53829095 40.20398269 35.6060967  27.29138661 29.86178627 34.84154251\n",
      " 32.42171178 36.59129979]\n",
      "20\n"
     ]
    },
    {
     "name": "stderr",
     "output_type": "stream",
     "text": [
      "100%|██████████| 20/20 [00:23<00:00,  1.19s/it]\n",
      "100%|██████████| 20/20 [00:25<00:00,  1.29s/it]\n",
      "  0%|          | 0/20 [00:00<?, ?it/s]"
     ]
    },
    {
     "name": "stdout",
     "output_type": "stream",
     "text": [
      "[47.70792313 32.88582664 33.31627715 29.83241976 29.90668104 32.75142959\n",
      " 31.6528804  24.8463055  35.83958659 29.91163244 29.59900115 32.31458767\n",
      " 33.83971691 31.83825474 33.69748973 32.4244972  27.66529539 31.05198847\n",
      " 32.29890764 31.7087311 ]\n",
      "20\n"
     ]
    },
    {
     "name": "stderr",
     "output_type": "stream",
     "text": [
      "100%|██████████| 20/20 [00:24<00:00,  1.24s/it]\n",
      "100%|██████████| 20/20 [00:25<00:00,  1.26s/it]\n",
      "  0%|          | 0/20 [00:00<?, ?it/s]"
     ]
    },
    {
     "name": "stdout",
     "output_type": "stream",
     "text": [
      "[  53.65440113   41.87982487   34.65762627   29.47528006   48.07861583\n",
      "   55.70499074  151.88327027  192.28808121  211.19113176  355.74530355\n",
      "  533.62426845  622.72381216  757.59083771  881.66462689  975.34427541\n",
      " 1132.20267114 1118.37011242 1266.47942677 1293.79382527 1387.36391851]\n",
      "6\n"
     ]
    },
    {
     "name": "stderr",
     "output_type": "stream",
     "text": [
      "100%|██████████| 20/20 [00:24<00:00,  1.24s/it]\n",
      "100%|██████████| 20/20 [00:24<00:00,  1.24s/it]"
     ]
    },
    {
     "name": "stdout",
     "output_type": "stream",
     "text": [
      "[41.6987579  32.42672286 32.26539073 35.0023438  34.23746625 32.39632299\n",
      " 31.40239445 33.18019432 35.74752288 34.65752252 26.18046237 33.96806234\n",
      " 26.49155486 37.52926646 24.57156465 30.76052227 27.32622002 32.80497807\n",
      " 34.60298191 37.57629227]\n",
      "20\n"
     ]
    },
    {
     "name": "stderr",
     "output_type": "stream",
     "text": [
      "\n"
     ]
    }
   ],
   "source": [
    "n_atoms = len(atoms)\n",
    "last_valid_inds = {}\n",
    "for lam in snapshots:\n",
    "    lambda0_stddev, lambda1_stddev = calculate_stddev(snapshots[lam])\n",
    "    current_stddev = (1 - lam) * lambda0_stddev + lam * lambda1_stddev\n",
    "    print(current_stddev)\n",
    "    linear_penalty = compute_linear_penalty(current_stddev, n_atoms)\n",
    "    last_valid_ind = compute_last_valid_ind(linear_penalty)\n",
    "    print(last_valid_ind)\n",
    "    last_valid_inds[lam] = last_valid_ind"
   ]
  },
  {
   "cell_type": "code",
   "execution_count": 5,
   "metadata": {},
   "outputs": [
    {
     "name": "stdout",
     "output_type": "stream",
     "text": [
      "lam=0.0: usable snapshots: 200\n",
      "lam=0.05: usable snapshots: 200\n",
      "lam=0.1: usable snapshots: 200\n",
      "lam=0.15: usable snapshots: 200\n",
      "lam=0.2: usable snapshots: 200\n",
      "lam=0.25: usable snapshots: 200\n",
      "lam=0.3: usable snapshots: 50\n",
      "lam=0.35: usable snapshots: 200\n",
      "lam=0.4: usable snapshots: 200\n",
      "lam=0.45: usable snapshots: 200\n",
      "lam=0.5: usable snapshots: 200\n",
      "lam=0.55: usable snapshots: 200\n",
      "lam=0.6: usable snapshots: 200\n",
      "lam=0.65: usable snapshots: 200\n",
      "lam=0.7: usable snapshots: 200\n",
      "lam=0.75: usable snapshots: 200\n",
      "lam=0.8: usable snapshots: 200\n",
      "lam=0.85: usable snapshots: 30\n",
      "lam=0.9: usable snapshots: 200\n",
      "lam=0.95: usable snapshots: 60\n",
      "lam=1.0: usable snapshots: 200\n"
     ]
    }
   ],
   "source": [
    "for lam in sorted(list(last_valid_inds.keys())):\n",
    "    print('lam={}: usable snapshots: {}'.format(lam, max(0, 10 * last_valid_inds[lam])))"
   ]
  },
  {
   "cell_type": "code",
   "execution_count": null,
   "metadata": {},
   "outputs": [],
   "source": [
    "snapshots = []\n",
    "N_k = []\n",
    "\n",
    "max_n_snapshots_per_state = 10\n",
    "\n",
    "for lam in lambdas_with_usable_samples:\n",
    "    traj = trajs[lam][5:last_valid_inds[lam]]\n",
    "    further_thinning = 1\n",
    "    if len(traj) > max_n_snapshots_per_state:\n",
    "        further_thinning = int(len(traj) / max_n_snapshots_per_state)\n",
    "    new_snapshots = list(traj.xyz[::further_thinning] * unit.nanometer)\n",
    "    snapshots.extend(new_snapshots)\n",
    "    N_k.append(len(new_snapshots))\n",
    "\n",
    "N = len(snapshots)\n",
    "N_k, N"
   ]
  },
  {
   "cell_type": "code",
   "execution_count": null,
   "metadata": {},
   "outputs": [],
   "source": []
  },
  {
   "cell_type": "code",
   "execution_count": null,
   "metadata": {},
   "outputs": [],
   "source": []
  },
  {
   "cell_type": "code",
   "execution_count": null,
   "metadata": {},
   "outputs": [],
   "source": []
  },
  {
   "cell_type": "code",
   "execution_count": null,
   "metadata": {},
   "outputs": [],
   "source": []
  },
  {
   "cell_type": "code",
   "execution_count": null,
   "metadata": {},
   "outputs": [],
   "source": []
  },
  {
   "cell_type": "code",
   "execution_count": null,
   "metadata": {},
   "outputs": [],
   "source": []
  },
  {
   "cell_type": "code",
   "execution_count": null,
   "metadata": {},
   "outputs": [],
   "source": [
    "from collections import namedtuple\n",
    "RawEnergies = namedtuple('RawEnergies',\n",
    "                         ['raw_energies_without_dummy_0',\n",
    "                          'raw_energies_without_dummy_1'\n",
    "                         ]\n",
    "                        )\n",
    "raw_energy_dict = {}\n",
    "for dcd in dcds:\n",
    "    print(dcd)\n",
    "    lam = parse_lambda_from_filename(dcd)\n",
    "    traj = md.load_dcd(dcd, top=tautomer.ligand_in_water_topology)\n",
    "    raw_energies_without_dummy_0, raw_energies_without_dummy_1 = compute_endstate_atomic_energy_contributions(traj[::10], model, energy_function)\n",
    "    raw_energies = RawEnergies(raw_energies_without_dummy_0, raw_energies_without_dummy_1)\n",
    "    raw_energy_dict[lam] = raw_energies"
   ]
  },
  {
   "cell_type": "code",
   "execution_count": null,
   "metadata": {},
   "outputs": [],
   "source": []
  }
 ],
 "metadata": {
  "kernelspec": {
   "display_name": "Python (ani36)",
   "language": "python",
   "name": "ani36"
  },
  "language_info": {
   "codemirror_mode": {
    "name": "ipython",
    "version": 3
   },
   "file_extension": ".py",
   "mimetype": "text/x-python",
   "name": "python",
   "nbconvert_exporter": "python",
   "pygments_lexer": "ipython3",
   "version": "3.6.7"
  }
 },
 "nbformat": 4,
 "nbformat_minor": 2
}
