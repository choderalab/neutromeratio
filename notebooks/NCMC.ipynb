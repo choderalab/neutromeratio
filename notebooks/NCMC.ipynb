{
 "cells": [
  {
   "cell_type": "code",
   "execution_count": 1,
   "metadata": {},
   "outputs": [],
   "source": [
    "import neutromeratio\n",
    "from openmmtools.constants import kB\n",
    "from simtk import unit\n",
    "import numpy as np\n",
    "import pickle\n",
    "import mdtraj as md\n",
    "import torchani\n",
    "import torch\n",
    "from tqdm import tqdm\n",
    "import matplotlib.pyplot as plt\n",
    "import random"
   ]
  },
  {
   "cell_type": "code",
   "execution_count": 2,
   "metadata": {},
   "outputs": [],
   "source": [
    "exp_results = pickle.load(open('../data/exp_results.pickle', 'rb'))\n",
    "\n",
    "# specify the system you want to simulate\n",
    "#name = 'molDWRow_298'\n",
    "#name = 'molDWRow_37'\n",
    "#name = 'molDWRow_45'\n",
    "name = 'molDWRow_160'\n",
    "#name = 'molDWRow_590'\n",
    "\n",
    "\n",
    "from_mol_tautomer_idx = 1\n",
    "to_mol_tautomer_idx = 2\n",
    "\n",
    "\n",
    "t1_smiles = exp_results[name]['t1-smiles']\n",
    "t2_smiles = exp_results[name]['t2-smiles']\n",
    "\n",
    "# generate both rdkit mol\n",
    "mols = { 't1' : neutromeratio.generate_rdkit_mol(t1_smiles), 't2' : neutromeratio.generate_rdkit_mol(t2_smiles) }\n",
    "from_mol = mols[f\"t{from_mol_tautomer_idx}\"]\n",
    "to_mol = mols[f\"t{to_mol_tautomer_idx}\"]\n",
    "ani_input = neutromeratio.from_mol_to_ani_input(from_mol)"
   ]
  },
  {
   "cell_type": "code",
   "execution_count": 3,
   "metadata": {},
   "outputs": [
    {
     "data": {
      "image/png": "[encoded data removed]",
      "text/plain": [
       "<rdkit.Chem.rdchem.Mol at 0x7fb8a23e6120>"
      ]
     },
     "metadata": {},
     "output_type": "display_data"
    },
    {
     "data": {
      "image/png": "[encoded data removed]",
      "text/plain": [
       "<rdkit.Chem.rdchem.Mol at 0x7fb8a23e6210>"
      ]
     },
     "metadata": {},
     "output_type": "display_data"
    }
   ],
   "source": [
    "neutromeratio.display_mol(mols['t1'])\n",
    "neutromeratio.display_mol(mols['t2'])"
   ]
  },
  {
   "cell_type": "code",
   "execution_count": 4,
   "metadata": {},
   "outputs": [
    {
     "ename": "TypeError",
     "evalue": "__init__() missing 1 required positional argument: 'device'",
     "output_type": "error",
     "traceback": [
      "\u001b[0;31m---------------------------------------------------------------------------\u001b[0m",
      "\u001b[0;31mTypeError\u001b[0m                                 Traceback (most recent call last)",
      "\u001b[0;32m<ipython-input-4-f440da0ff73f>\u001b[0m in \u001b[0;36m<module>\u001b[0;34m\u001b[0m\n\u001b[1;32m      3\u001b[0m \u001b[0mdevice\u001b[0m \u001b[0;34m=\u001b[0m \u001b[0mtorch\u001b[0m\u001b[0;34m.\u001b[0m\u001b[0mdevice\u001b[0m\u001b[0;34m(\u001b[0m\u001b[0mplatform\u001b[0m\u001b[0;34m)\u001b[0m\u001b[0;34m\u001b[0m\u001b[0;34m\u001b[0m\u001b[0m\n\u001b[1;32m      4\u001b[0m \u001b[0mani_input\u001b[0m\u001b[0;34m[\u001b[0m\u001b[0;34m'box_length'\u001b[0m\u001b[0;34m]\u001b[0m \u001b[0;34m=\u001b[0m \u001b[0;36m3.0\u001b[0m \u001b[0;34m*\u001b[0m \u001b[0munit\u001b[0m\u001b[0;34m.\u001b[0m\u001b[0mnanometer\u001b[0m\u001b[0;34m\u001b[0m\u001b[0;34m\u001b[0m\u001b[0m\n\u001b[0;32m----> 5\u001b[0;31m \u001b[0mmodel\u001b[0m \u001b[0;34m=\u001b[0m \u001b[0mneutromeratio\u001b[0m\u001b[0;34m.\u001b[0m\u001b[0mani\u001b[0m\u001b[0;34m.\u001b[0m\u001b[0mLinearAlchemicalANI\u001b[0m\u001b[0;34m(\u001b[0m\u001b[0malchemical_atom\u001b[0m\u001b[0;34m=\u001b[0m\u001b[0;34m-\u001b[0m\u001b[0;36m1\u001b[0m\u001b[0;34m,\u001b[0m \u001b[0mani_input\u001b[0m\u001b[0;34m=\u001b[0m\u001b[0mani_input\u001b[0m\u001b[0;34m)\u001b[0m\u001b[0;34m\u001b[0m\u001b[0;34m\u001b[0m\u001b[0m\n\u001b[0m\u001b[1;32m      6\u001b[0m \u001b[0mmodel\u001b[0m \u001b[0;34m=\u001b[0m \u001b[0mmodel\u001b[0m\u001b[0;34m.\u001b[0m\u001b[0mto\u001b[0m\u001b[0;34m(\u001b[0m\u001b[0mdevice\u001b[0m\u001b[0;34m)\u001b[0m\u001b[0;34m\u001b[0m\u001b[0;34m\u001b[0m\u001b[0m\n\u001b[1;32m      7\u001b[0m \u001b[0mtorch\u001b[0m\u001b[0;34m.\u001b[0m\u001b[0mset_num_threads\u001b[0m\u001b[0;34m(\u001b[0m\u001b[0;36m2\u001b[0m\u001b[0;34m)\u001b[0m\u001b[0;34m\u001b[0m\u001b[0;34m\u001b[0m\u001b[0m\n",
      "\u001b[0;31mTypeError\u001b[0m: __init__() missing 1 required positional argument: 'device'"
     ]
    }
   ],
   "source": [
    "# extract hydrogen donor idx and hydrogen idx for from_mol\n",
    "platform = 'cpu'\n",
    "device = torch.device(platform)\n",
    "ani_input['box_length'] = 3.0 * unit.nanometer\n",
    "model = neutromeratio.ani.LinearAlchemicalANI(alchemical_atom=-1, ani_input=ani_input)\n",
    "model = model.to(device)\n",
    "torch.set_num_threads(2)\n",
    "\n",
    "# perform initial sampling\n",
    "\n",
    "energy_function = neutromeratio.ANI1_force_and_energy(device = device,\n",
    "                                          model = model,\n",
    "                                          atom_list = ani_input['ligand_atoms'],\n",
    "                                          platform = platform,\n",
    "                                          tautomer_transformation = {})\n",
    "\n",
    "langevin = neutromeratio.LangevinDynamics(atom_list = ani_input['ligand_atoms'],\n",
    "                            temperature = 300*unit.kelvin,\n",
    "                            force = energy_function)\n",
    "\n",
    "\n",
    "n_steps = 5000\n",
    "x0 = np.array(ani_input['ligand_coords']) * unit.angstrom\n",
    "equilibrium_samples = langevin.run_dynamics(x0, n_steps)"
   ]
  },
  {
   "cell_type": "code",
   "execution_count": null,
   "metadata": {},
   "outputs": [],
   "source": []
  },
  {
   "cell_type": "code",
   "execution_count": null,
   "metadata": {},
   "outputs": [],
   "source": [
    "torch.tensor(([1,2,3], [1,2,3]))"
   ]
  },
  {
   "cell_type": "code",
   "execution_count": null,
   "metadata": {},
   "outputs": [],
   "source": [
    "# extract hydrogen donor idx and hydrogen idx for from_mol\n",
    "tautomer_transformation = neutromeratio.get_tautomer_transformation(from_mol, to_mol)\n",
    "platform = 'cpu'\n",
    "device = torch.device(platform)\n",
    "model = neutromeratio.ani.LinearAlchemicalANI(alchemical_atom=tautomer_transformation['hydrogen_idx'])\n",
    "model = model.to(device)\n",
    "torch.set_num_threads(2)"
   ]
  },
  {
   "cell_type": "code",
   "execution_count": null,
   "metadata": {},
   "outputs": [],
   "source": [
    "# number of time steps\n",
    "nr_of_mc_trials = 1000\n",
    "nr_of_runs = 150\n",
    "work_in_runs = {}"
   ]
  },
  {
   "cell_type": "code",
   "execution_count": null,
   "metadata": {
    "scrolled": false
   },
   "outputs": [],
   "source": [
    "# generating mdtraj traj object\n",
    "topology = md.load(f\"../data/structures/{name}/{name}_tautomer_{from_mol_tautomer_idx}.pdb\").topology\n",
    "\n",
    "for run_nr in range(nr_of_runs):\n",
    "\n",
    "    energy_function = neutromeratio.ANI1_force_and_energy(device = device,\n",
    "                                              model = model,\n",
    "                                              atom_list = ani_input['atom_list'],\n",
    "                                              platform = platform,\n",
    "                                              tautomer_transformation = tautomer_transformation)\n",
    "    \n",
    "    langevin = neutromeratio.LangevinDynamics(atom_list = ani_input['atom_list'],\n",
    "                                temperature = 300*unit.kelvin,\n",
    "                                force = energy_function)\n",
    "\n",
    "    hydrogen_mover = neutromeratio.NonequilibriumMC(donor_idx = tautomer_transformation['donor_idx'], \n",
    "                                           hydrogen_idx = tautomer_transformation['hydrogen_idx'], \n",
    "                                           acceptor_idx = tautomer_transformation['acceptor_idx'], \n",
    "                                           atom_list = ani_input['atom_list'], \n",
    "                                           energy_function = energy_function,\n",
    "                                           langevin_dynamics= langevin)\n",
    "\n",
    "    # initial conditions: coordinates from example were given in units of angstroms   \n",
    "    x0 = random.choice(equilibrium_samples) \n",
    "\n",
    "    print(f\"Hydrogen {hydrogen_mover.hydrogen_idx} is moved from atom-idx {hydrogen_mover.donor_idx} to atom-idx {hydrogen_mover.acceptor_idx}.\")\n",
    "\n",
    "    # run MD and MC protocoll\n",
    "    work, traj = hydrogen_mover.performe_md_mc_protocoll(x0 = x0, nr_of_mc_trials = nr_of_mc_trials)    \n",
    "    work = work['work']\n",
    "\n",
    "    work_in_runs[run_nr] = work\n",
    "\n",
    "    # save trajectory\n",
    "    ani_traj = md.Trajectory(traj, topology)\n",
    "    ani_traj.save(f\"../data/md_mc_sampling/{name}/{name}_from_t{from_mol_tautomer_idx}_to_t{to_mol_tautomer_idx}_NCMC_work_run_nr_{run_nr}.dcd\")\n",
    "\n",
    "    # save work values (overwriting after each new run)\n",
    "    f = open(f\"../data/md_mc_sampling/{name}/{name}_from_t{from_mol_tautomer_idx}_to_t{to_mol_tautomer_idx}_NCMC_work_run_nr_{run_nr}.csv\", 'w+')\n",
    "    for i, j in enumerate(work):\n",
    "        f.write('{}, {}\\n'.format(i, j))\n",
    "    f.close()\n",
    "\n",
    "    plt.plot(np.linspace(0, 1, len(work)), work)\n",
    "    plt.xlabel('lambda')\n",
    "    plt.ylabel('Work * kT')\n",
    "    plt.title('Work vs lambda value ({} steps)'.format(len(work)))\n",
    "    plt.savefig(f\"../data/md_mc_sampling/{name}/{name}_from_t{from_mol_tautomer_idx}_to_t{to_mol_tautomer_idx}_NCMC_work_run_nr_{run_nr}.png\")\n",
    "    plt.show()\n",
    "    \n",
    "    print('Total work of the protocoll: {}.'.format(sum(work)))\n",
    "    distance_list_h_donor = []\n",
    "    distance_list_h_acceptor = []\n",
    "    for x in traj:\n",
    "        distance_list_h_donor.append(neutromeratio.constants.nm_to_angstroms * np.linalg.norm(x[tautomer_transformation['hydrogen_idx']] - x[tautomer_transformation['donor_idx']]))\n",
    "        distance_list_h_acceptor.append(neutromeratio.constants.nm_to_angstroms * np.linalg.norm(x[tautomer_transformation['hydrogen_idx']] - x[tautomer_transformation['acceptor_idx']]))\n",
    "\n",
    "    fig, ax1 = plt.subplots()\n",
    "    ax2 = ax1.twinx()\n",
    "    ax1.plot(distance_list_h_donor, label='distance between donor and hydrogen', color='g')\n",
    "    ax1.plot(distance_list_h_acceptor, label='distance between acceptor and hydrogen', color='b')\n",
    "    ax2.plot(energy_function.bias_applied, label='bias applied', color='r')\n",
    "    ax1.set_xlabel('ts')\n",
    "    ax1.set_ylabel('distance [A]')\n",
    "    ax2.set_ylabel('energy [kJ/mol]')\n",
    "    plt.legend()\n",
    "    plt.savefig(f\"../data/md_mc_sampling/{name}/{name}_from_t{from_mol_tautomer_idx}_to_t{to_mol_tautomer_idx}_NCMC_distance_run_nr_{run_nr}.png\")\n",
    "    plt.show()\n"
   ]
  },
  {
   "cell_type": "code",
   "execution_count": null,
   "metadata": {},
   "outputs": [],
   "source": []
  },
  {
   "cell_type": "code",
   "execution_count": null,
   "metadata": {},
   "outputs": [],
   "source": [
    "top_file = f\"../data/structures/{name}/{name}_tautomer_{from_mol_tautomer_idx}.pdb\",\n",
    "traj_files = [f\"../data/md_mc_sampling/{name}/{name}_nonequilibrium_t{from_mol_tautomer_idx}_anicxx.dcd\"]\n"
   ]
  },
  {
   "cell_type": "code",
   "execution_count": null,
   "metadata": {},
   "outputs": [],
   "source": [
    "neutromeratio.utils.generate_nglview_object(\n",
    "    top_file=top_file,\n",
    "    traj_files=traj_files\n",
    ")"
   ]
  }
 ],
 "metadata": {
  "kernelspec": {
   "display_name": "torchANI-dev",
   "language": "python",
   "name": "torchani-dev"
  },
  "language_info": {
   "codemirror_mode": {
    "name": "ipython",
    "version": 3
   },
   "file_extension": ".py",
   "mimetype": "text/x-python",
   "name": "python",
   "nbconvert_exporter": "python",
   "pygments_lexer": "ipython3",
   "version": "3.6.8"
  }
 },
 "nbformat": 4,
 "nbformat_minor": 2
}
