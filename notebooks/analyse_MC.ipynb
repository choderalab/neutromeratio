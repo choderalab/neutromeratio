{
 "cells": [
  {
   "cell_type": "code",
   "execution_count": 1,
   "metadata": {},
   "outputs": [],
   "source": [
    "from openmmtools.constants import kB\n",
    "from simtk import unit\n",
    "import numpy as np\n",
    "from tqdm import tqdm\n",
    "from IPython.core.display import display, HTML\n",
    "from IPython.display import SVG\n",
    "from rdkit.Chem.Draw import IPythonConsole\n",
    "from rdkit import Chem\n",
    "from rdkit import Chem\n",
    "import copy\n",
    "import random, math\n",
    "import os\n",
    "from neutromeratio.utils import * \n",
    "import pickle\n",
    "import mdtraj as md\n",
    "import matplotlib.pyplot as plt\n",
    "\n",
    "# temperature, mass, and related constants\n",
    "temperature = 300 * unit.kelvin\n",
    "kT = kB * temperature\n",
    "mass = (12.0 * unit.dalton)\n",
    "sigma_v = np.sqrt(kB * temperature / mass)\n",
    "\n",
    "# openmm units\n",
    "mass_unit = unit.dalton\n",
    "distance_unit = unit.nanometer\n",
    "time_unit = unit.femtosecond\n",
    "energy_unit = unit.kilojoule_per_mole\n",
    "speed_unit = distance_unit / time_unit\n",
    "force_unit = unit.kilojoule_per_mole / unit.nanometer\n",
    "\n",
    "# ANI-1 units and conversion factors\n",
    "ani_distance_unit = unit.angstrom\n",
    "hartree_to_kJ_mol = 2625.499638\n",
    "ani_energy_unit = hartree_to_kJ_mol * unit.kilojoule_per_mole # simtk.unit doesn't have hartree?\n",
    "nm_to_angstroms = (1.0 * distance_unit) / (1.0 * ani_distance_unit)\n",
    "angstroms_to_nm = (0.1 * ani_distance_unit) / (1.0 * distance_unit)       "
   ]
  },
  {
   "cell_type": "code",
   "execution_count": 14,
   "metadata": {},
   "outputs": [
    {
     "data": {
      "image/png": "[encoded data removed]",
      "text/plain": [
       "<rdkit.Chem.rdchem.Mol at 0x7f4d92884990>"
      ]
     },
     "metadata": {},
     "output_type": "display_data"
    },
    {
     "data": {
      "image/png": "[encoded data removed]",
      "text/plain": [
       "<rdkit.Chem.rdchem.Mol at 0x7f4d92c23b70>"
      ]
     },
     "metadata": {},
     "output_type": "display_data"
    }
   ],
   "source": [
    "exp_results = pickle.load(open('../data/exp_results.pickle', 'rb'))\n",
    "\n",
    "# specify the system you want to simulate\n",
    "name = 'molDWRow_298'\n",
    "# specify a run number\n",
    "run = 1\n",
    "t1_smiles = exp_results[name]['t1-smiles']\n",
    "t2_smiles = exp_results[name]['t2-smiles']\n",
    "\n",
    "m1 = Chem.MolFromSmiles(t1_smiles)\n",
    "AllChem.Compute2DCoords(m1)\n",
    "display(m1)\n",
    "\n",
    "m2 = Chem.MolFromSmiles(t2_smiles)\n",
    "AllChem.Compute2DCoords(m2)\n",
    "display(m2)"
   ]
  },
  {
   "cell_type": "code",
   "execution_count": 15,
   "metadata": {
    "scrolled": false
   },
   "outputs": [
    {
     "data": {
      "image/png": "[encoded data removed]",
      "text/plain": [
       "<Figure size 432x288 with 1 Axes>"
      ]
     },
     "metadata": {
      "needs_background": "light"
     },
     "output_type": "display_data"
    }
   ],
   "source": [
    "\n",
    "\n",
    "f = open(f\"../data/md_mc_sampling/{name}/{name}_from_t1_to_t2_run{run}_work.csv\", 'r')\n",
    "\n",
    "work_values_t1 = []\n",
    "for l in f:\n",
    "    ts, work_value, accept_reject, state = l.split(',')\n",
    "    work_values_t1.append(float(work_value))\n",
    "    \n",
    "f = open(f\"../data/md_mc_sampling/{name}/{name}_from_t2_to_t1_run{run}_work.csv\", 'r')\n",
    "\n",
    "work_values_t2 = []\n",
    "for l in f:\n",
    "    ts, work_value, accept_reject, state = l.split(',')\n",
    "    work_values_t2.append(float(work_value))\n",
    "    \n",
    "plt.hist(work_values_t1, np.linspace(-500, 0), label='Work values of t1 to t2', alpha=0.5)\n",
    "plt.hist(work_values_t2, np.linspace(-500, 0),label='Work values of t2 to t1', alpha=0.5)\n",
    "plt.xlabel('log probability [kBT]')\n",
    "plt.legend()\n",
    "plt.show()"
   ]
  }
 ],
 "metadata": {
  "kernelspec": {
   "display_name": "torchANI-dev",
   "language": "python",
   "name": "torchani-dev"
  },
  "language_info": {
   "codemirror_mode": {
    "name": "ipython",
    "version": 3
   },
   "file_extension": ".py",
   "mimetype": "text/x-python",
   "name": "python",
   "nbconvert_exporter": "python",
   "pygments_lexer": "ipython3",
   "version": "3.6.8"
  }
 },
 "nbformat": 4,
 "nbformat_minor": 2
}
