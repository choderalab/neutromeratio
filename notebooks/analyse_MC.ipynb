{
 "cells": [
  {
   "cell_type": "code",
   "execution_count": null,
   "metadata": {},
   "outputs": [],
   "source": [
    "from openmmtools.constants import kB\n",
    "from simtk import unit\n",
    "import numpy as np\n",
    "from rdkit.Chem import Draw\n",
    "from rdkit import Chem\n",
    "import copy\n",
    "import os\n",
    "from neutromeratio.utils import * \n",
    "import pickle\n",
    "import mdtraj as md\n",
    "import matplotlib.pyplot as plt\n",
    "from pymbar import BAR"
   ]
  },
  {
   "cell_type": "code",
   "execution_count": null,
   "metadata": {},
   "outputs": [],
   "source": [
    "exp_results = pickle.load(open('../data/exp_results.pickle', 'rb'))\n",
    "\n",
    "# specify the system you want to simulate\n",
    "#name = 'molDWRow_298'\n",
    "#name = 'molDWRow_37'\n",
    "#name = 'molDWRow_45'\n",
    "#name = 'molDWRow_160'\n",
    "name = 'molDWRow_590'\n",
    "\n",
    "# specify a run number\n",
    "nr_of_runs = 20\n",
    "t1_smiles = exp_results[name]['t1-smiles']\n",
    "t2_smiles = exp_results[name]['t2-smiles']\n",
    "\n",
    "m1 = Chem.MolFromSmiles(t1_smiles)\n",
    "AllChem.Compute2DCoords(m1)\n",
    "display_mol(m1)\n",
    "Draw.MolToFile(m1,f\"../data/structures/{name}/{name}_1.svg\")\n",
    "\n",
    "m2 = Chem.MolFromSmiles(t2_smiles)\n",
    "AllChem.Compute2DCoords(m2)\n",
    "display_mol(m2)\n",
    "Draw.MolToFile(m2,f\"../data/structures/{name}/{name}_t2.svg\")\n"
   ]
  },
  {
   "cell_type": "code",
   "execution_count": null,
   "metadata": {
    "scrolled": false
   },
   "outputs": [],
   "source": [
    "work_values_t1 = []\n",
    "work_values_t2 = []\n",
    "nr_of_mc_moves_t1 = 0\n",
    "nr_of_mc_moves_t2 = 0\n",
    "f = open(f\"../data/md_mc_sampling/{name}/{name}_from_t1_to_t2_work.csv\", 'r')\n",
    "for l in f:\n",
    "    ts, work_value = l.split(',')\n",
    "    energy_kJ_mol = (float(work_value)*kT).in_units_of(unit.kilojoule_per_mole)\n",
    "    work_values_t1.append(energy_kJ_mol._value)\n",
    "    nr_of_mc_moves_t1+=1\n",
    "\n",
    "f = open(f\"../data/md_mc_sampling/{name}/{name}_from_t2_to_t1_work.csv\", 'r')\n",
    "for l in f:\n",
    "    ts, work_value = l.split(',')\n",
    "    energy_kJ_mol = (float(work_value)*kT).in_units_of(unit.kilojoule_per_mole)\n",
    "    work_values_t2.append(energy_kJ_mol._value)\n",
    "    nr_of_mc_moves_t2+=1\n",
    "        \n",
    "plt.hist(work_values_t1, np.linspace(0, 1000), label='Work values of t1 to t2', alpha=0.5)\n",
    "plt.hist(work_values_t2, np.linspace(0, 1000),label='Work values of t2 to t1', alpha=0.5)\n",
    "plt.xlabel('kJ/mol')\n",
    "plt.legend()\n",
    "plt.savefig(f\"../data/md_mc_sampling//{name}/mc_work_distribution.png\", dpi=300, bbox_inches='tight')\n",
    "plt.show()\n",
    "\n",
    "print('BAR estimate from {} work samples in each direction:\\n\\tDeltaF = {:.3f}\\n\\tdDeltaF = {:.3f}'.format(nr_of_mc_moves_t1, *BAR(np.asarray(work_values_t1), np.asarray(work_values_t2))))\n"
   ]
  },
  {
   "cell_type": "code",
   "execution_count": null,
   "metadata": {
    "scrolled": false
   },
   "outputs": [],
   "source": [
    "for std in [0.001, 0.01, 0.1, 0.15, 0.25]:\n",
    "    for mod_bond_length in [0.8,0.9,0.95,1.0, 1.05, 1.1,1.2]:\n",
    "\n",
    "        nr_of_mc_moves_t1 = 0\n",
    "        nr_of_mc_moves_t2 = 0\n",
    "        work_values_t1 = []\n",
    "        work_values_t2 = []\n",
    "        for run in range(1, nr_of_runs+1):\n",
    "            f = open(f\"../data/md_mc_sampling/{name}/{name}_from_t1_to_t2_run{run}_work_bond_length{mod_bond_length}_std{std}.csv\", 'r')\n",
    "            for l in f:\n",
    "                ts, work_value = l.split(',')\n",
    "                energy_kJ_mol = (float(work_value)*kT).in_units_of(unit.kilojoule_per_mole)\n",
    "                work_values_t1.append(energy_kJ_mol._value)\n",
    "                nr_of_mc_moves_t1+=1\n",
    "\n",
    "            f = open(f\"../data/md_mc_sampling/{name}/{name}_from_t2_to_t1_run{run}_work_bond_length{mod_bond_length}_std{std}.csv\", 'r')\n",
    "            for l in f:\n",
    "                ts, work_value = l.split(',')\n",
    "                energy_kJ_mol = (float(work_value)*kT).in_units_of(unit.kilojoule_per_mole)\n",
    "                work_values_t2.append(energy_kJ_mol._value)\n",
    "                nr_of_mc_moves_t2+=1\n",
    "\n",
    "        plt.subplot(2, 1, 1)\n",
    "        plt.hist(work_values_t1,  np.linspace(0, 1000), label=f\"Work values of t1 to t2 - bond:{mod_bond_length:.3f} std:{std:.3f}\", alpha=0.3)\n",
    "        plt.subplot(2, 1, 2)\n",
    "        plt.hist(work_values_t2, np.linspace(0, 1000), label=f\"Work values of t2 to t1 - bond:{mod_bond_length:.3f} std:{std:.3f}\", alpha=0.3)\n",
    "\n",
    "    plt.subplot(2, 1, 1)\n",
    "    plt.xlabel('kJ/mol')\n",
    "    plt.legend(bbox_to_anchor=(1.05, 1), loc=2, borderaxespad=0.)\n",
    "    plt.subplot(2, 1, 2)\n",
    "    plt.xlabel('kJ/mol')\n",
    "    plt.legend(bbox_to_anchor=(1.05, 1), loc=2, borderaxespad=0.)\n",
    "\n",
    "    plt.savefig(f\"../data/md_mc_sampling//{name}/mc_work_distribution_with_variable_bondlength_and_bond_stddev_{std:.3f}.png\", dpi=300, bbox_inches='tight')\n",
    "    plt.show()\n",
    "        \n",
    "\n",
    "#print('BAR estimate from {} work samples in each direction:\\n\\tDeltaF = {:.3f}\\n\\tdDeltaF = {:.3f}'.format(nr_of_mc_moves_t1, *BAR(np.asarray(work_values_t1), np.asarray(work_values_t2))))\n"
   ]
  }
 ],
 "metadata": {
  "kernelspec": {
   "display_name": "torchANI-dev",
   "language": "python",
   "name": "torchani-dev"
  },
  "language_info": {
   "codemirror_mode": {
    "name": "ipython",
    "version": 3
   },
   "file_extension": ".py",
   "mimetype": "text/x-python",
   "name": "python",
   "nbconvert_exporter": "python",
   "pygments_lexer": "ipython3",
   "version": "3.6.8"
  }
 },
 "nbformat": 4,
 "nbformat_minor": 2
}
