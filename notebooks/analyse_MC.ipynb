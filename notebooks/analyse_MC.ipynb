{
 "cells": [
  {
   "cell_type": "code",
   "execution_count": 1,
   "metadata": {},
   "outputs": [],
   "source": [
    "from openmmtools.constants import kB\n",
    "from simtk import unit\n",
    "import numpy as np\n",
    "from tqdm import tqdm\n",
    "from IPython.core.display import display, HTML\n",
    "from IPython.display import SVG\n",
    "from rdkit.Chem.Draw import IPythonConsole\n",
    "from rdkit.Chem import Draw\n",
    "from rdkit import Chem\n",
    "import copy\n",
    "import random, math\n",
    "import os\n",
    "from neutromeratio.utils import * \n",
    "import pickle\n",
    "import mdtraj as md\n",
    "import matplotlib.pyplot as plt\n",
    "from pymbar import BAR\n",
    "\n",
    "# temperature, mass, and related constants\n",
    "temperature = 300 * unit.kelvin\n",
    "kT = kB * temperature\n",
    "mass = (12.0 * unit.dalton)\n",
    "sigma_v = np.sqrt(kB * temperature / mass)\n",
    "\n",
    "# openmm units\n",
    "mass_unit = unit.dalton\n",
    "distance_unit = unit.nanometer\n",
    "time_unit = unit.femtosecond\n",
    "energy_unit = unit.kilojoule_per_mole\n",
    "speed_unit = distance_unit / time_unit\n",
    "force_unit = unit.kilojoule_per_mole / unit.nanometer\n",
    "\n",
    "# ANI-1 units and conversion factors\n",
    "ani_distance_unit = unit.angstrom\n",
    "hartree_to_kJ_mol = 2625.499638\n",
    "ani_energy_unit = hartree_to_kJ_mol * unit.kilojoule_per_mole # simtk.unit doesn't have hartree?\n",
    "nm_to_angstroms = (1.0 * distance_unit) / (1.0 * ani_distance_unit)\n",
    "angstroms_to_nm = (0.1 * ani_distance_unit) / (1.0 * distance_unit)       "
   ]
  },
  {
   "cell_type": "code",
   "execution_count": 15,
   "metadata": {},
   "outputs": [
    {
     "data": {
      "image/png": "[encoded data removed]",
      "text/plain": [
       "<rdkit.Chem.rdchem.Mol at 0x7f72d509c9e0>"
      ]
     },
     "metadata": {},
     "output_type": "display_data"
    },
    {
     "data": {
      "image/png": "[encoded data removed]",
      "text/plain": [
       "<rdkit.Chem.rdchem.Mol at 0x7f72d509c580>"
      ]
     },
     "metadata": {},
     "output_type": "display_data"
    }
   ],
   "source": [
    "exp_results = pickle.load(open('../data/exp_results.pickle', 'rb'))\n",
    "\n",
    "# specify the system you want to simulate\n",
    "#name = 'molDWRow_298'\n",
    "#name = 'molDWRow_37'\n",
    "#name = 'molDWRow_45'\n",
    "#name = 'molDWRow_160'\n",
    "name = 'molDWRow_590'\n",
    "\n",
    "# specify a run number\n",
    "nr_of_runs = 20\n",
    "t1_smiles = exp_results[name]['t1-smiles']\n",
    "t2_smiles = exp_results[name]['t2-smiles']\n",
    "\n",
    "m1 = Chem.MolFromSmiles(t1_smiles)\n",
    "AllChem.Compute2DCoords(m1)\n",
    "display(m1)\n",
    "Draw.MolToFile(m1,f\"../data/md_mc_sampling/{name}/{name}_t1.svg\")\n",
    "\n",
    "m2 = Chem.MolFromSmiles(t2_smiles)\n",
    "AllChem.Compute2DCoords(m2)\n",
    "display(m2)\n",
    "Draw.MolToFile(m2,f\"../data/md_mc_sampling/{name}/{name}_t2.svg\")\n"
   ]
  },
  {
   "cell_type": "code",
   "execution_count": 16,
   "metadata": {
    "scrolled": false
   },
   "outputs": [
    {
     "name": "stdout",
     "output_type": "stream",
     "text": [
      "Considering run: 1\n",
      "Considering run: 2\n",
      "Considering run: 3\n",
      "Considering run: 4\n",
      "Considering run: 5\n",
      "Considering run: 6\n",
      "Considering run: 7\n",
      "Considering run: 8\n",
      "Considering run: 9\n",
      "Considering run: 10\n",
      "Considering run: 11\n",
      "Considering run: 12\n",
      "Considering run: 13\n",
      "Considering run: 14\n",
      "Considering run: 15\n",
      "Considering run: 16\n",
      "Considering run: 17\n",
      "Considering run: 18\n",
      "Considering run: 19\n",
      "Considering run: 20\n"
     ]
    },
    {
     "data": {
      "image/png": "[encoded data removed]",
      "text/plain": [
       "<Figure size 432x288 with 1 Axes>"
      ]
     },
     "metadata": {
      "needs_background": "light"
     },
     "output_type": "display_data"
    },
    {
     "ename": "ValueError",
     "evalue": "zero-size array to reduction operation maximum which has no identity",
     "output_type": "error",
     "traceback": [
      "\u001b[0;31m---------------------------------------------------------------------------\u001b[0m",
      "\u001b[0;31mValueError\u001b[0m                                Traceback (most recent call last)",
      "\u001b[0;32m<ipython-input-16-363fa7e5bf7c>\u001b[0m in \u001b[0;36m<module>\u001b[0;34m\u001b[0m\n\u001b[1;32m     32\u001b[0m \u001b[0mplt\u001b[0m\u001b[0;34m.\u001b[0m\u001b[0mshow\u001b[0m\u001b[0;34m(\u001b[0m\u001b[0;34m)\u001b[0m\u001b[0;34m\u001b[0m\u001b[0;34m\u001b[0m\u001b[0m\n\u001b[1;32m     33\u001b[0m \u001b[0;34m\u001b[0m\u001b[0m\n\u001b[0;32m---> 34\u001b[0;31m \u001b[0mprint\u001b[0m\u001b[0;34m(\u001b[0m\u001b[0;34m'BAR estimate from {} work samples in each direction:\\n\\tDeltaF = {:.3f}\\n\\tdDeltaF = {:.3f}'\u001b[0m\u001b[0;34m.\u001b[0m\u001b[0mformat\u001b[0m\u001b[0;34m(\u001b[0m\u001b[0mnr_of_mc_moves_t1\u001b[0m\u001b[0;34m,\u001b[0m \u001b[0;34m*\u001b[0m\u001b[0mBAR\u001b[0m\u001b[0;34m(\u001b[0m\u001b[0mnp\u001b[0m\u001b[0;34m.\u001b[0m\u001b[0masarray\u001b[0m\u001b[0;34m(\u001b[0m\u001b[0mwork_values_t1\u001b[0m\u001b[0;34m)\u001b[0m\u001b[0;34m,\u001b[0m \u001b[0mnp\u001b[0m\u001b[0;34m.\u001b[0m\u001b[0masarray\u001b[0m\u001b[0;34m(\u001b[0m\u001b[0mwork_values_t2\u001b[0m\u001b[0;34m)\u001b[0m\u001b[0;34m)\u001b[0m\u001b[0;34m)\u001b[0m\u001b[0;34m)\u001b[0m\u001b[0;34m\u001b[0m\u001b[0;34m\u001b[0m\u001b[0m\n\u001b[0m",
      "\u001b[0;32m/data/shared/software/python_env/anaconda3/envs/torchANI-dev/lib/python3.6/site-packages/pymbar/bar.py\u001b[0m in \u001b[0;36mBAR\u001b[0;34m(w_F, w_R, DeltaF, compute_uncertainty, maximum_iterations, relative_tolerance, verbose, method, iterated_solution)\u001b[0m\n\u001b[1;32m    222\u001b[0m \u001b[0;34m\u001b[0m\u001b[0m\n\u001b[1;32m    223\u001b[0m     \u001b[0;32mif\u001b[0m \u001b[0mmethod\u001b[0m \u001b[0;34m==\u001b[0m \u001b[0;34m'bisection'\u001b[0m \u001b[0;32mor\u001b[0m \u001b[0mmethod\u001b[0m \u001b[0;34m==\u001b[0m \u001b[0;34m'false-position'\u001b[0m\u001b[0;34m:\u001b[0m\u001b[0;34m\u001b[0m\u001b[0;34m\u001b[0m\u001b[0m\n\u001b[0;32m--> 224\u001b[0;31m         \u001b[0mUpperB\u001b[0m \u001b[0;34m=\u001b[0m \u001b[0mEXP\u001b[0m\u001b[0;34m(\u001b[0m\u001b[0mw_F\u001b[0m\u001b[0;34m)\u001b[0m\u001b[0;34m[\u001b[0m\u001b[0;36m0\u001b[0m\u001b[0;34m]\u001b[0m\u001b[0;34m\u001b[0m\u001b[0;34m\u001b[0m\u001b[0m\n\u001b[0m\u001b[1;32m    225\u001b[0m         \u001b[0mLowerB\u001b[0m \u001b[0;34m=\u001b[0m \u001b[0;34m-\u001b[0m\u001b[0mEXP\u001b[0m\u001b[0;34m(\u001b[0m\u001b[0mw_R\u001b[0m\u001b[0;34m)\u001b[0m\u001b[0;34m[\u001b[0m\u001b[0;36m0\u001b[0m\u001b[0;34m]\u001b[0m\u001b[0;34m\u001b[0m\u001b[0;34m\u001b[0m\u001b[0m\n\u001b[1;32m    226\u001b[0m \u001b[0;34m\u001b[0m\u001b[0m\n",
      "\u001b[0;32m/data/shared/software/python_env/anaconda3/envs/torchANI-dev/lib/python3.6/site-packages/pymbar/exp.py\u001b[0m in \u001b[0;36mEXP\u001b[0;34m(w_F, compute_uncertainty, is_timeseries)\u001b[0m\n\u001b[1;32m     96\u001b[0m \u001b[0;34m\u001b[0m\u001b[0m\n\u001b[1;32m     97\u001b[0m     \u001b[0;31m# Estimate free energy difference by exponential averaging using DeltaF = - log < exp(-w_F) >\u001b[0m\u001b[0;34m\u001b[0m\u001b[0;34m\u001b[0m\u001b[0;34m\u001b[0m\u001b[0m\n\u001b[0;32m---> 98\u001b[0;31m     \u001b[0mDeltaF\u001b[0m \u001b[0;34m=\u001b[0m \u001b[0;34m-\u001b[0m \u001b[0;34m(\u001b[0m\u001b[0mlogsumexp\u001b[0m\u001b[0;34m(\u001b[0m\u001b[0;34m-\u001b[0m \u001b[0mw_F\u001b[0m\u001b[0;34m)\u001b[0m \u001b[0;34m-\u001b[0m \u001b[0mnp\u001b[0m\u001b[0;34m.\u001b[0m\u001b[0mlog\u001b[0m\u001b[0;34m(\u001b[0m\u001b[0mT\u001b[0m\u001b[0;34m)\u001b[0m\u001b[0;34m)\u001b[0m\u001b[0;34m\u001b[0m\u001b[0;34m\u001b[0m\u001b[0m\n\u001b[0m\u001b[1;32m     99\u001b[0m \u001b[0;34m\u001b[0m\u001b[0m\n\u001b[1;32m    100\u001b[0m     \u001b[0;32mif\u001b[0m \u001b[0mcompute_uncertainty\u001b[0m\u001b[0;34m:\u001b[0m\u001b[0;34m\u001b[0m\u001b[0;34m\u001b[0m\u001b[0m\n",
      "\u001b[0;32m/data/shared/software/python_env/anaconda3/envs/torchANI-dev/lib/python3.6/site-packages/pymbar/utils.py\u001b[0m in \u001b[0;36mlogsumexp\u001b[0;34m(a, axis, b, use_numexpr)\u001b[0m\n\u001b[1;32m    305\u001b[0m     \u001b[0ma\u001b[0m \u001b[0;34m=\u001b[0m \u001b[0mnp\u001b[0m\u001b[0;34m.\u001b[0m\u001b[0masarray\u001b[0m\u001b[0;34m(\u001b[0m\u001b[0ma\u001b[0m\u001b[0;34m)\u001b[0m\u001b[0;34m\u001b[0m\u001b[0;34m\u001b[0m\u001b[0m\n\u001b[1;32m    306\u001b[0m \u001b[0;34m\u001b[0m\u001b[0m\n\u001b[0;32m--> 307\u001b[0;31m     \u001b[0ma_max\u001b[0m \u001b[0;34m=\u001b[0m \u001b[0mnp\u001b[0m\u001b[0;34m.\u001b[0m\u001b[0mamax\u001b[0m\u001b[0;34m(\u001b[0m\u001b[0ma\u001b[0m\u001b[0;34m,\u001b[0m \u001b[0maxis\u001b[0m\u001b[0;34m=\u001b[0m\u001b[0maxis\u001b[0m\u001b[0;34m,\u001b[0m \u001b[0mkeepdims\u001b[0m\u001b[0;34m=\u001b[0m\u001b[0;32mTrue\u001b[0m\u001b[0;34m)\u001b[0m\u001b[0;34m\u001b[0m\u001b[0;34m\u001b[0m\u001b[0m\n\u001b[0m\u001b[1;32m    308\u001b[0m \u001b[0;34m\u001b[0m\u001b[0m\n\u001b[1;32m    309\u001b[0m     \u001b[0;32mif\u001b[0m \u001b[0ma_max\u001b[0m\u001b[0;34m.\u001b[0m\u001b[0mndim\u001b[0m \u001b[0;34m>\u001b[0m \u001b[0;36m0\u001b[0m\u001b[0;34m:\u001b[0m\u001b[0;34m\u001b[0m\u001b[0;34m\u001b[0m\u001b[0m\n",
      "\u001b[0;32m/data/shared/software/python_env/anaconda3/envs/torchANI-dev/lib/python3.6/site-packages/numpy/core/fromnumeric.py\u001b[0m in \u001b[0;36mamax\u001b[0;34m(a, axis, out, keepdims, initial)\u001b[0m\n\u001b[1;32m   2503\u001b[0m     \"\"\"\n\u001b[1;32m   2504\u001b[0m     return _wrapreduction(a, np.maximum, 'max', axis, None, out, keepdims=keepdims,\n\u001b[0;32m-> 2505\u001b[0;31m                           initial=initial)\n\u001b[0m\u001b[1;32m   2506\u001b[0m \u001b[0;34m\u001b[0m\u001b[0m\n\u001b[1;32m   2507\u001b[0m \u001b[0;34m\u001b[0m\u001b[0m\n",
      "\u001b[0;32m/data/shared/software/python_env/anaconda3/envs/torchANI-dev/lib/python3.6/site-packages/numpy/core/fromnumeric.py\u001b[0m in \u001b[0;36m_wrapreduction\u001b[0;34m(obj, ufunc, method, axis, dtype, out, **kwargs)\u001b[0m\n\u001b[1;32m     84\u001b[0m                 \u001b[0;32mreturn\u001b[0m \u001b[0mreduction\u001b[0m\u001b[0;34m(\u001b[0m\u001b[0maxis\u001b[0m\u001b[0;34m=\u001b[0m\u001b[0maxis\u001b[0m\u001b[0;34m,\u001b[0m \u001b[0mout\u001b[0m\u001b[0;34m=\u001b[0m\u001b[0mout\u001b[0m\u001b[0;34m,\u001b[0m \u001b[0;34m**\u001b[0m\u001b[0mpasskwargs\u001b[0m\u001b[0;34m)\u001b[0m\u001b[0;34m\u001b[0m\u001b[0;34m\u001b[0m\u001b[0m\n\u001b[1;32m     85\u001b[0m \u001b[0;34m\u001b[0m\u001b[0m\n\u001b[0;32m---> 86\u001b[0;31m     \u001b[0;32mreturn\u001b[0m \u001b[0mufunc\u001b[0m\u001b[0;34m.\u001b[0m\u001b[0mreduce\u001b[0m\u001b[0;34m(\u001b[0m\u001b[0mobj\u001b[0m\u001b[0;34m,\u001b[0m \u001b[0maxis\u001b[0m\u001b[0;34m,\u001b[0m \u001b[0mdtype\u001b[0m\u001b[0;34m,\u001b[0m \u001b[0mout\u001b[0m\u001b[0;34m,\u001b[0m \u001b[0;34m**\u001b[0m\u001b[0mpasskwargs\u001b[0m\u001b[0;34m)\u001b[0m\u001b[0;34m\u001b[0m\u001b[0;34m\u001b[0m\u001b[0m\n\u001b[0m\u001b[1;32m     87\u001b[0m \u001b[0;34m\u001b[0m\u001b[0m\n\u001b[1;32m     88\u001b[0m \u001b[0;34m\u001b[0m\u001b[0m\n",
      "\u001b[0;31mValueError\u001b[0m: zero-size array to reduction operation maximum which has no identity"
     ]
    }
   ],
   "source": [
    "work_values_t1 = []\n",
    "work_values_t2 = []\n",
    "nr_of_mc_moves_t1 = 0\n",
    "nr_of_mc_moves_t2 = 0\n",
    "for run in range(1, nr_of_runs+1):\n",
    "    print(f\"Considering run: {run}\")\n",
    "    try:\n",
    "        f = open(f\"../data/md_mc_sampling/{name}/{name}_from_t1_to_t2_run{run}_work.csv\", 'r')\n",
    "    except FileNotFoundError:\n",
    "        continue\n",
    "    for l in f:\n",
    "        ts, work_value = l.split(',')\n",
    "        energy_kJ_mol = (float(work_value)*kT).in_units_of(unit.kilojoule_per_mole)\n",
    "        work_values_t1.append(energy_kJ_mol._value)\n",
    "        nr_of_mc_moves_t1+=1\n",
    "\n",
    "    try:\n",
    "        f = open(f\"../data/md_mc_sampling/{name}/{name}_from_t2_to_t1_run{run}_work.csv\", 'r')\n",
    "    except FileNotFoundError:\n",
    "        continue\n",
    "    for l in f:\n",
    "        ts, work_value = l.split(',')\n",
    "        energy_kJ_mol = (float(work_value)*kT).in_units_of(unit.kilojoule_per_mole)\n",
    "        work_values_t2.append(energy_kJ_mol._value)\n",
    "        nr_of_mc_moves_t2+=1\n",
    "        \n",
    "plt.hist(work_values_t1, np.linspace(0, 1000), label='Work values of t1 to t2', alpha=0.5)\n",
    "plt.hist(work_values_t2, np.linspace(0, 1000),label='Work values of t2 to t1', alpha=0.5)\n",
    "plt.xlabel('kJ/mol')\n",
    "plt.legend()\n",
    "plt.savefig(f\"../data/md_mc_sampling//{name}/mc_work_distribution.png\", dpi=300, bbox_inches='tight')\n",
    "plt.show()\n",
    "\n",
    "print('BAR estimate from {} work samples in each direction:\\n\\tDeltaF = {:.3f}\\n\\tdDeltaF = {:.3f}'.format(nr_of_mc_moves_t1, *BAR(np.asarray(work_values_t1), np.asarray(work_values_t2))))\n"
   ]
  },
  {
   "cell_type": "code",
   "execution_count": null,
   "metadata": {
    "scrolled": false
   },
   "outputs": [],
   "source": [
    "for std in [0.001, 0.01, 0.1, 0.15, 0.25]:\n",
    "    for mod_bond_length in [0.8,0.9,0.95,1.0, 1.05, 1.1,1.2]:\n",
    "\n",
    "        nr_of_mc_moves_t1 = 0\n",
    "        nr_of_mc_moves_t2 = 0\n",
    "        work_values_t1 = []\n",
    "        work_values_t2 = []\n",
    "        for run in range(1, nr_of_runs+1):\n",
    "            try:\n",
    "                f = open(f\"../data/md_mc_sampling/{name}/{name}_from_t1_to_t2_run{run}_work_bond_length{mod_bond_length}_std{std}.csv\", 'r')\n",
    "                for l in f:\n",
    "                    ts, work_value = l.split(',')\n",
    "                    energy_kJ_mol = (float(work_value)*kT).in_units_of(unit.kilojoule_per_mole)\n",
    "                    work_values_t1.append(energy_kJ_mol._value)\n",
    "                    nr_of_mc_moves_t1+=1\n",
    "                f = open(f\"../data/md_mc_sampling/{name}/{name}_from_t2_to_t1_run{run}_work_bond_length{mod_bond_length}_std{std}.csv\", 'r')\n",
    "                for l in f:\n",
    "                    ts, work_value = l.split(',')\n",
    "                    energy_kJ_mol = (float(work_value)*kT).in_units_of(unit.kilojoule_per_mole)\n",
    "                    work_values_t2.append(energy_kJ_mol._value)\n",
    "                    nr_of_mc_moves_t2+=1\n",
    "\n",
    "\n",
    "            except FileNotFoundError:\n",
    "                continue\n",
    "        plt.subplot(2, 1, 1)\n",
    "        plt.hist(work_values_t1,  np.linspace(0, 1000), label=f\"Work values of t1 to t2 - bond:{mod_bond_length:.3f} std:{std:.3f}\", alpha=0.3)\n",
    "        plt.subplot(2, 1, 2)\n",
    "        plt.hist(work_values_t2, np.linspace(0, 1000), label=f\"Work values of t2 to t1 - bond:{mod_bond_length:.3f} std:{std:.3f}\", alpha=0.3)\n",
    "\n",
    "    plt.subplot(2, 1, 1)\n",
    "    plt.xlabel('kJ/mol')\n",
    "    plt.legend(bbox_to_anchor=(1.05, 1), loc=2, borderaxespad=0.)\n",
    "    plt.subplot(2, 1, 2)\n",
    "    plt.xlabel('kJ/mol')\n",
    "    plt.legend(bbox_to_anchor=(1.05, 1), loc=2, borderaxespad=0.)\n",
    "\n",
    "    #plt.savefig(f\"../data/md_mc_sampling//{name}/mc_work_distribution.png\", dpi=300, bbox_inches='tight')\n",
    "    plt.show()\n",
    "        \n",
    "\n",
    "#print('BAR estimate from {} work samples in each direction:\\n\\tDeltaF = {:.3f}\\n\\tdDeltaF = {:.3f}'.format(nr_of_mc_moves_t1, *BAR(np.asarray(work_values_t1), np.asarray(work_values_t2))))\n"
   ]
  }
 ],
 "metadata": {
  "kernelspec": {
   "display_name": "torchANI-dev",
   "language": "python",
   "name": "torchani-dev"
  },
  "language_info": {
   "codemirror_mode": {
    "name": "ipython",
    "version": 3
   },
   "file_extension": ".py",
   "mimetype": "text/x-python",
   "name": "python",
   "nbconvert_exporter": "python",
   "pygments_lexer": "ipython3",
   "version": "3.6.8"
  }
 },
 "nbformat": 4,
 "nbformat_minor": 2
}
