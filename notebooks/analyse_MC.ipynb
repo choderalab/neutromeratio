{
 "cells": [
  {
   "cell_type": "code",
   "execution_count": 1,
   "metadata": {},
   "outputs": [],
   "source": [
    "from openmmtools.constants import kB\n",
    "from simtk import unit\n",
    "import numpy as np\n",
    "from tqdm import tqdm\n",
    "from IPython.core.display import display, HTML\n",
    "from IPython.display import SVG\n",
    "from rdkit.Chem.Draw import IPythonConsole\n",
    "from rdkit.Chem import Draw\n",
    "from rdkit import Chem\n",
    "import copy\n",
    "import random, math\n",
    "import os\n",
    "from neutromeratio.utils import * \n",
    "import pickle\n",
    "import mdtraj as md\n",
    "import matplotlib.pyplot as plt\n",
    "from pymbar import BAR\n",
    "\n",
    "# temperature, mass, and related constants\n",
    "temperature = 300 * unit.kelvin\n",
    "kT = kB * temperature\n",
    "mass = (12.0 * unit.dalton)\n",
    "sigma_v = np.sqrt(kB * temperature / mass)\n",
    "\n",
    "# openmm units\n",
    "mass_unit = unit.dalton\n",
    "distance_unit = unit.nanometer\n",
    "time_unit = unit.femtosecond\n",
    "energy_unit = unit.kilojoule_per_mole\n",
    "speed_unit = distance_unit / time_unit\n",
    "force_unit = unit.kilojoule_per_mole / unit.nanometer\n",
    "\n",
    "# ANI-1 units and conversion factors\n",
    "ani_distance_unit = unit.angstrom\n",
    "hartree_to_kJ_mol = 2625.499638\n",
    "ani_energy_unit = hartree_to_kJ_mol * unit.kilojoule_per_mole # simtk.unit doesn't have hartree?\n",
    "nm_to_angstroms = (1.0 * distance_unit) / (1.0 * ani_distance_unit)\n",
    "angstroms_to_nm = (0.1 * ani_distance_unit) / (1.0 * distance_unit)       "
   ]
  },
  {
   "cell_type": "code",
   "execution_count": 2,
   "metadata": {},
   "outputs": [
    {
     "data": {
      "image/png": "[encoded data removed]",
      "text/plain": [
       "<rdkit.Chem.rdchem.Mol at 0x7f2d91a30990>"
      ]
     },
     "metadata": {},
     "output_type": "display_data"
    },
    {
     "data": {
      "image/png": "[encoded data removed]",
      "text/plain": [
       "<rdkit.Chem.rdchem.Mol at 0x7f2d918f2440>"
      ]
     },
     "metadata": {},
     "output_type": "display_data"
    }
   ],
   "source": [
    "exp_results = pickle.load(open('../data/exp_results.pickle', 'rb'))\n",
    "\n",
    "# specify the system you want to simulate\n",
    "name = 'molDWRow_298'\n",
    "#name = 'molDWRow_37'\n",
    "#name = 'molDWRow_45'\n",
    "#name = 'molDWRow_160'\n",
    "#name = 'molDWRow_590'\n",
    "\n",
    "# specify a run number\n",
    "nr_of_runs = 5\n",
    "t1_smiles = exp_results[name]['t1-smiles']\n",
    "t2_smiles = exp_results[name]['t2-smiles']\n",
    "\n",
    "m1 = Chem.MolFromSmiles(t1_smiles)\n",
    "AllChem.Compute2DCoords(m1)\n",
    "display(m1)\n",
    "Draw.MolToFile(m1,f\"../data/md_mc_sampling/{name}/{name}_t1.svg\")\n",
    "\n",
    "m2 = Chem.MolFromSmiles(t2_smiles)\n",
    "AllChem.Compute2DCoords(m2)\n",
    "display(m2)\n",
    "Draw.MolToFile(m2,f\"../data/md_mc_sampling/{name}/{name}_t2.svg\")\n"
   ]
  },
  {
   "cell_type": "code",
   "execution_count": 3,
   "metadata": {
    "scrolled": false
   },
   "outputs": [
    {
     "name": "stdout",
     "output_type": "stream",
     "text": [
      "Considering run: 1\n",
      "Considering run: 2\n",
      "Considering run: 3\n",
      "Considering run: 4\n",
      "Considering run: 5\n"
     ]
    },
    {
     "data": {
      "image/png": "[encoded data removed]",
      "text/plain": [
       "<Figure size 432x288 with 1 Axes>"
      ]
     },
     "metadata": {
      "needs_background": "light"
     },
     "output_type": "display_data"
    },
    {
     "name": "stdout",
     "output_type": "stream",
     "text": [
      "BAR estimate from 1000 work samples in each direction:\n",
      "\tDeltaF = -2.612\n",
      "\tdDeltaF = 1.413\n"
     ]
    }
   ],
   "source": [
    "work_values_t1 = []\n",
    "work_values_t2 = []\n",
    "nr_of_mc_moves_t1 = 0\n",
    "nr_of_mc_moves_t2 = 0\n",
    "for run in range(1, nr_of_runs+1):\n",
    "    print(f\"Considering run: {run}\")\n",
    "    try:\n",
    "        f = open(f\"../data/md_mc_sampling/{name}/{name}_from_t1_to_t2_run{run}_work.csv\", 'r')\n",
    "    except FileNotFoundError:\n",
    "        continue\n",
    "    for l in f:\n",
    "        ts, work_value = l.split(',')\n",
    "        energy_kJ_mol = (float(work_value)*kT).in_units_of(unit.kilojoule_per_mole)\n",
    "        work_values_t1.append(energy_kJ_mol._value)\n",
    "        nr_of_mc_moves_t1+=1\n",
    "\n",
    "    try:\n",
    "        f = open(f\"../data/md_mc_sampling/{name}/{name}_from_t2_to_t1_run{run}_work.csv\", 'r')\n",
    "    except FileNotFoundError:\n",
    "        continue\n",
    "    for l in f:\n",
    "        ts, work_value = l.split(',')\n",
    "        energy_kJ_mol = (float(work_value)*kT).in_units_of(unit.kilojoule_per_mole)\n",
    "        work_values_t2.append(energy_kJ_mol._value)\n",
    "        nr_of_mc_moves_t2+=1\n",
    "        \n",
    "plt.hist(work_values_t1, np.linspace(0, 1000), label='Work values of t1 to t2', alpha=0.5)\n",
    "plt.hist(work_values_t2, np.linspace(0, 1000),label='Work values of t2 to t1', alpha=0.5)\n",
    "plt.xlabel('kJ/mol')\n",
    "plt.legend()\n",
    "plt.savefig(f\"../data/md_mc_sampling//{name}/mc_work_distribution.png\", dpi=300, bbox_inches='tight')\n",
    "plt.show()\n",
    "\n",
    "print('BAR estimate from {} work samples in each direction:\\n\\tDeltaF = {:.3f}\\n\\tdDeltaF = {:.3f}'.format(nr_of_mc_moves_t1, *BAR(np.asarray(work_values_t1), np.asarray(work_values_t2))))\n"
   ]
  },
  {
   "cell_type": "code",
   "execution_count": null,
   "metadata": {
    "scrolled": false
   },
   "outputs": [
    {
     "name": "stderr",
     "output_type": "stream",
     "text": [
      "/data/shared/software/python_env/anaconda3/envs/torchANI-dev/lib/python3.6/site-packages/matplotlib/figure.py:98: MatplotlibDeprecationWarning: \n",
      "Adding an axes using the same arguments as a previous axes currently reuses the earlier instance.  In a future version, a new instance will always be created and returned.  Meanwhile, this warning can be suppressed, and the future behavior ensured, by passing a unique label to each axes instance.\n",
      "  \"Adding an axes using the same arguments as a previous axes \"\n"
     ]
    }
   ],
   "source": [
    "for std in [0.001, 0.01, 0.1, 0.15, 0.25]:\n",
    "    for mod_bond_length in [0.8,0.9,0.95,1.0, 1.05, 1.1,1.2]:\n",
    "\n",
    "        nr_of_mc_moves_t1 = 0\n",
    "        nr_of_mc_moves_t2 = 0\n",
    "        work_values_t1 = []\n",
    "        work_values_t2 = []\n",
    "        for run in range(1, nr_of_runs+1):\n",
    "            try:\n",
    "                f = open(f\"../data/md_mc_sampling/{name}/{name}_from_t1_to_t2_run{run}_work_bond_length{mod_bond_length}_std{std}.csv\", 'r')\n",
    "                for l in f:\n",
    "                    ts, work_value = l.split(',')\n",
    "                    energy_kJ_mol = (float(work_value)*kT).in_units_of(unit.kilojoule_per_mole)\n",
    "                    work_values_t1.append(energy_kJ_mol._value)\n",
    "                    nr_of_mc_moves_t1+=1\n",
    "                f = open(f\"../data/md_mc_sampling/{name}/{name}_from_t2_to_t1_run{run}_work_bond_length{mod_bond_length}_std{std}.csv\", 'r')\n",
    "                for l in f:\n",
    "                    ts, work_value = l.split(',')\n",
    "                    energy_kJ_mol = (float(work_value)*kT).in_units_of(unit.kilojoule_per_mole)\n",
    "                    work_values_t2.append(energy_kJ_mol._value)\n",
    "                    nr_of_mc_moves_t2+=1\n",
    "\n",
    "\n",
    "            except FileNotFoundError:\n",
    "                continue\n",
    "        plt.subplot(2, 1, 1)\n",
    "        plt.hist(work_values_t1,  np.linspace(0, 1000), label=f\"Work values of t1 to t2 - bond:{mod_bond_length:.3f} std:{std:.3f}\", alpha=0.3)\n",
    "        plt.subplot(2, 1, 2)\n",
    "        plt.hist(work_values_t2, np.linspace(0, 1000), label=f\"Work values of t2 to t1 - bond:{mod_bond_length:.3f} std:{std:.3f}\", alpha=0.3)\n",
    "\n",
    "    plt.subplot(2, 1, 1)\n",
    "    plt.xlabel('kJ/mol')\n",
    "    plt.legend(bbox_to_anchor=(1.05, 1), loc=2, borderaxespad=0.)\n",
    "    plt.subplot(2, 1, 2)\n",
    "    plt.xlabel('kJ/mol')\n",
    "    plt.legend(bbox_to_anchor=(1.05, 1), loc=2, borderaxespad=0.)\n",
    "\n",
    "    #plt.savefig(f\"../data/md_mc_sampling//{name}/mc_work_distribution.png\", dpi=300, bbox_inches='tight')\n",
    "    plt.show()\n",
    "        \n",
    "\n",
    "#print('BAR estimate from {} work samples in each direction:\\n\\tDeltaF = {:.3f}\\n\\tdDeltaF = {:.3f}'.format(nr_of_mc_moves_t1, *BAR(np.asarray(work_values_t1), np.asarray(work_values_t2))))\n"
   ]
  }
 ],
 "metadata": {
  "kernelspec": {
   "display_name": "torchANI-dev",
   "language": "python",
   "name": "torchani-dev"
  },
  "language_info": {
   "codemirror_mode": {
    "name": "ipython",
    "version": 3
   },
   "file_extension": ".py",
   "mimetype": "text/x-python",
   "name": "python",
   "nbconvert_exporter": "python",
   "pygments_lexer": "ipython3",
   "version": "3.6.8"
  }
 },
 "nbformat": 4,
 "nbformat_minor": 2
}
