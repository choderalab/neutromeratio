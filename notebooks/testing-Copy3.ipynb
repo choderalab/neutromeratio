{
 "cells": [
  {
   "cell_type": "code",
   "execution_count": 1,
   "metadata": {},
   "outputs": [
    {
     "name": "stderr",
     "output_type": "stream",
     "text": [
      "[utils.py:141 - _init_num_threads()] NumExpr defaulting to 8 threads.\n"
     ]
    },
    {
     "data": {
      "application/vnd.jupyter.widget-view+json": {
       "model_id": "1185bdc5be84454c8025a2f6993bca69",
       "version_major": 2,
       "version_minor": 0
      },
      "text/plain": [
       "_ColormakerRegistry()"
      ]
     },
     "metadata": {},
     "output_type": "display_data"
    }
   ],
   "source": [
    "import neutromeratio\n",
    "from openmmtools.constants import kB\n",
    "from simtk import unit\n",
    "import numpy as np\n",
    "import pickle\n",
    "import mdtraj as md\n",
    "import torchani\n",
    "import torch\n",
    "from tqdm import tqdm\n",
    "import matplotlib.pyplot as plt\n",
    "import random"
   ]
  },
  {
   "cell_type": "code",
   "execution_count": 2,
   "metadata": {},
   "outputs": [
    {
     "data": {
      "text/plain": [
       "'neutromeratio'"
      ]
     },
     "execution_count": 2,
     "metadata": {},
     "output_type": "execute_result"
    }
   ],
   "source": [
    "\n",
    "np.linspace"
   ]
  },
  {
   "cell_type": "code",
   "execution_count": 2,
   "metadata": {},
   "outputs": [
    {
     "name": "stderr",
     "output_type": "stream",
     "text": [
      "[utils.py:54 - get_tautomer_transformation()] Index of atom that moves: 11.\n",
      "[utils.py:60 - get_tautomer_transformation()] Index of atom that donates hydrogen: 2\n",
      "[utils.py:78 - get_tautomer_transformation()] Index of atom that accepts hydrogen: 5\n"
     ]
    },
    {
     "data": {
      "image/png": "[encoded data removed]",
      "text/plain": [
       "<rdkit.Chem.rdchem.Mol at 0x7f137adbbdf0>"
      ]
     },
     "metadata": {},
     "output_type": "display_data"
    }
   ],
   "source": [
    "exp_results = pickle.load(open('../data/exp_results.pickle', 'rb'))\n",
    "\n",
    "# specify the system you want to simulate\n",
    "name = 'molDWRow_298'\n",
    "#name = 'molDWRow_37'\n",
    "#name = 'molDWRow_45'\n",
    "#name = 'molDWRow_160'\n",
    "#name = 'molDWRow_590'\n",
    "\n",
    "\n",
    "from_mol_tautomer_idx = 1\n",
    "to_mol_tautomer_idx = 2\n",
    "\n",
    "\n",
    "t1_smiles = exp_results[name]['t1-smiles']\n",
    "t2_smiles = exp_results[name]['t2-smiles']\n",
    "\n",
    "# generate both rdkit mol\n",
    "mols = { 't1' : neutromeratio.generate_rdkit_mol(t1_smiles), 't2' : neutromeratio.generate_rdkit_mol(t2_smiles) }\n",
    "from_mol = mols[f\"t{from_mol_tautomer_idx}\"]\n",
    "to_mol = mols[f\"t{to_mol_tautomer_idx}\"]\n",
    "ani_input = neutromeratio.from_mol_to_ani_input(from_mol)\n",
    "\n",
    "tautomer_transformation = neutromeratio.get_tautomer_transformation(from_mol, to_mol)\n",
    "neutromeratio.generate_hybrid_structure(ani_input, tautomer_transformation, neutromeratio.ani.ANI1_force_and_energy)"
   ]
  },
  {
   "cell_type": "code",
   "execution_count": 3,
   "metadata": {},
   "outputs": [],
   "source": [
    "# define the alchemical atoms\n",
    "alchemical_atoms=[tautomer_transformation['acceptor_hydrogen_idx'], tautomer_transformation['donor_hydrogen_idx']]"
   ]
  },
  {
   "cell_type": "code",
   "execution_count": 4,
   "metadata": {},
   "outputs": [
    {
     "data": {
      "text/plain": [
       "{'donor_idx': 2,\n",
       " 'hydrogen_idx': 11,\n",
       " 'acceptor_idx': 5,\n",
       " 'donor_hydrogen_idx': 11,\n",
       " 'acceptor_hydrogen_idx': 15}"
      ]
     },
     "execution_count": 4,
     "metadata": {},
     "output_type": "execute_result"
    }
   ],
   "source": [
    "tautomer_transformation"
   ]
  },
  {
   "cell_type": "code",
   "execution_count": null,
   "metadata": {},
   "outputs": [
    {
     "name": "stdout",
     "output_type": "stream",
     "text": [
      "Begin minimizing...\n",
      "      Step     Time          Energy         fmax\n",
      "BFGS:    0 22:30:53    -9414.745483        5.6626\n",
      "BFGS:    1 22:30:53    -9415.111118        1.7253\n",
      "BFGS:    2 22:30:53    -9415.255353        1.2870\n",
      "BFGS:    3 22:30:53    -9415.308035        1.0827\n",
      "BFGS:    4 22:30:53    -9415.352809        0.7167\n",
      "BFGS:    5 22:30:53    -9415.397155        0.4234\n",
      "BFGS:    6 22:30:53    -9415.411766        0.3069\n",
      "BFGS:    7 22:30:53    -9415.422348        0.2596\n",
      "BFGS:    8 22:30:53    -9415.430767        0.2513\n",
      "BFGS:    9 22:30:53    -9415.439292        0.2199\n",
      "BFGS:   10 22:30:53    -9415.445408        0.1867\n",
      "BFGS:   11 22:30:53    -9415.451079        0.1594\n",
      "BFGS:   12 22:30:53    -9415.456129        0.1598\n",
      "BFGS:   13 22:30:53    -9415.459624        0.1618\n",
      "BFGS:   14 22:30:53    -9415.462334        0.1510\n",
      "BFGS:   15 22:30:53    -9415.465228        0.1401\n",
      "BFGS:   16 22:30:54    -9415.468335        0.1659\n",
      "BFGS:   17 22:30:54    -9415.471403        0.1425\n",
      "BFGS:   18 22:30:54    -9415.473465        0.0950\n",
      "BFGS:   19 22:30:54    -9415.474645        0.0800\n",
      "BFGS:   20 22:30:54    -9415.475510        0.0690\n",
      "BFGS:   21 22:30:54    -9415.476211        0.0649\n",
      "BFGS:   22 22:30:54    -9415.476798        0.0568\n",
      "BFGS:   23 22:30:54    -9415.477215        0.0474\n",
      "BFGS:   24 22:30:54    -9415.477479        0.0356\n",
      "BFGS:   25 22:30:54    -9415.477631        0.0213\n",
      "BFGS:   26 22:30:54    -9415.477717        0.0238\n",
      "BFGS:   27 22:30:54    -9415.477788        0.0235\n",
      "BFGS:   28 22:30:54    -9415.477864        0.0229\n",
      "BFGS:   29 22:30:54    -9415.477928        0.0201\n",
      "BFGS:   30 22:30:54    -9415.477966        0.0133\n",
      "BFGS:   31 22:30:55    -9415.477988        0.0108\n",
      "BFGS:   32 22:30:55    -9415.478005        0.0104\n",
      "BFGS:   33 22:30:55    -9415.478024        0.0119\n",
      "BFGS:   34 22:30:55    -9415.478044        0.0119\n",
      "BFGS:   35 22:30:55    -9415.478066        0.0145\n",
      "BFGS:   36 22:30:55    -9415.478093        0.0132\n",
      "BFGS:   37 22:30:55    -9415.478129        0.0161\n",
      "BFGS:   38 22:30:55    -9415.478177        0.0183\n",
      "BFGS:   39 22:30:55    -9415.478240        0.0246\n",
      "BFGS:   40 22:30:55    -9415.478323        0.0278\n",
      "BFGS:   41 22:30:55    -9415.478429        0.0267\n",
      "BFGS:   42 22:30:55    -9415.478556        0.0275\n",
      "BFGS:   43 22:30:55    -9415.478698        0.0275\n",
      "BFGS:   44 22:30:55    -9415.478851        0.0310\n",
      "BFGS:   45 22:30:55    -9415.479041        0.0351\n",
      "BFGS:   46 22:30:55    -9415.479438        0.0488\n",
      "BFGS:   47 22:30:55    -9415.479819        0.0801\n",
      "BFGS:   48 22:30:55    -9415.480456        0.1023\n",
      "BFGS:   49 22:30:55    -9415.481321        0.1463\n",
      "BFGS:   50 22:30:56    -9415.482639        0.1788\n",
      "BFGS:   51 22:30:56    -9415.484414        0.1734\n",
      "BFGS:   52 22:30:56    -9415.483989        0.3200\n",
      "BFGS:   53 22:30:56    -9415.489066        0.1858\n",
      "BFGS:   54 22:30:56    -9415.491307        0.1417\n",
      "BFGS:   55 22:30:56    -9415.494018        0.1092\n",
      "BFGS:   56 22:30:56    -9415.498022        0.1417\n",
      "BFGS:   57 22:30:56    -9415.500730        0.1188\n",
      "BFGS:   58 22:30:56    -9415.503459        0.1256\n",
      "BFGS:   59 22:30:56    -9415.505555        0.1136\n",
      "BFGS:   60 22:30:56    -9415.508088        0.1545\n",
      "BFGS:   61 22:30:56    -9415.510075        0.1311\n",
      "BFGS:   62 22:30:56    -9415.513195        0.1273\n",
      "BFGS:   63 22:30:56    -9415.518479        0.1995\n",
      "BFGS:   64 22:30:56    -9415.524040        0.2132\n",
      "BFGS:   65 22:30:56    -9415.530576        0.2116\n",
      "BFGS:   66 22:30:57    -9415.538528        0.2191\n",
      "BFGS:   67 22:30:57    -9415.543545        0.2498\n",
      "BFGS:   68 22:30:57    -9415.551022        0.2097\n",
      "BFGS:   69 22:30:57    -9415.554729        0.2185\n",
      "BFGS:   70 22:30:57    -9415.560160        0.1589\n",
      "BFGS:   71 22:30:57    -9415.563022        0.1287\n",
      "BFGS:   72 22:30:57    -9415.566480        0.1457\n",
      "BFGS:   73 22:30:57    -9415.569234        0.1618\n",
      "BFGS:   74 22:30:57    -9415.572729        0.1487\n",
      "BFGS:   75 22:30:57    -9415.576377        0.1243\n",
      "BFGS:   76 22:30:57    -9415.578974        0.1215\n",
      "BFGS:   77 22:30:57    -9415.581636        0.1435\n",
      "BFGS:   78 22:30:57    -9415.584078        0.1194\n",
      "BFGS:   79 22:30:57    -9415.585921        0.1175\n",
      "BFGS:   80 22:30:57    -9415.587201        0.0976\n",
      "BFGS:   81 22:30:58    -9415.587687        0.0517\n",
      "BFGS:   82 22:30:58    -9415.588004        0.0458\n",
      "BFGS:   83 22:30:58    -9415.588413        0.0490\n",
      "BFGS:   84 22:30:58    -9415.588961        0.0904\n",
      "BFGS:   85 22:30:58    -9415.589431        0.0557\n",
      "BFGS:   86 22:30:58    -9415.589749        0.0359\n",
      "BFGS:   87 22:30:58    -9415.589893        0.0286\n",
      "BFGS:   88 22:30:58    -9415.589996        0.0250\n",
      "BFGS:   89 22:30:58    -9415.590103        0.0238\n",
      "BFGS:   90 22:30:58    -9415.590218        0.0295\n",
      "BFGS:   91 22:30:58    -9415.590345        0.0283\n",
      "BFGS:   92 22:30:58    -9415.590467        0.0283\n",
      "BFGS:   93 22:30:58    -9415.590571        0.0296\n",
      "BFGS:   94 22:30:58    -9415.590653        0.0208\n",
      "BFGS:   95 22:30:58    -9415.590723        0.0189\n",
      "BFGS:   96 22:30:58    -9415.590801        0.0244\n",
      "BFGS:   97 22:30:59    -9415.590917        0.0319\n",
      "BFGS:   98 22:30:59    -9415.591090        0.0389\n",
      "BFGS:   99 22:30:59    -9415.591316        0.0399\n",
      "BFGS:  100 22:30:59    -9415.591552        0.0390\n",
      "BFGS:  101 22:30:59    -9415.591760        0.0381\n",
      "BFGS:  102 22:30:59    -9415.591937        0.0325\n",
      "BFGS:  103 22:30:59    -9415.592092        0.0309\n",
      "BFGS:  104 22:30:59    -9415.592237        0.0359\n",
      "BFGS:  105 22:30:59    -9415.592392        0.0339\n",
      "BFGS:  106 22:30:59    -9415.592588        0.0361\n",
      "BFGS:  107 22:30:59    -9415.592807        0.0376\n",
      "BFGS:  108 22:30:59    -9415.592967        0.0214\n",
      "BFGS:  109 22:31:00    -9415.593030        0.0140\n",
      "BFGS:  110 22:31:00    -9415.593052        0.0110\n",
      "BFGS:  111 22:31:00    -9415.593068        0.0097\n",
      "BFGS:  112 22:31:00    -9415.593082        0.0119\n",
      "BFGS:  113 22:31:00    -9415.593093        0.0077\n",
      "BFGS:  114 22:31:00    -9415.593099        0.0059\n",
      "BFGS:  115 22:31:00    -9415.593106        0.0070\n",
      "BFGS:  116 22:31:00    -9415.593116        0.0088\n",
      "BFGS:  117 22:31:00    -9415.593127        0.0095\n",
      "BFGS:  118 22:31:00    -9415.593136        0.0080\n",
      "BFGS:  119 22:31:00    -9415.593143        0.0077\n",
      "BFGS:  120 22:31:00    -9415.593148        0.0081\n",
      "BFGS:  121 22:31:00    -9415.593157        0.0084\n",
      "BFGS:  122 22:31:00    -9415.593174        0.0090\n",
      "BFGS:  123 22:31:01    -9415.593205        0.0118\n",
      "BFGS:  124 22:31:01    -9415.593256        0.0158\n",
      "BFGS:  125 22:31:01    -9415.593317        0.0206\n",
      "BFGS:  126 22:31:01    -9415.593364        0.0189\n",
      "BFGS:  127 22:31:01    -9415.593394        0.0142\n",
      "BFGS:  128 22:31:01    -9415.593412        0.0104\n",
      "BFGS:  129 22:31:01    -9415.593429        0.0074\n",
      "BFGS:  130 22:31:01    -9415.593443        0.0075\n",
      "BFGS:  131 22:31:01    -9415.593451        0.0056\n",
      "BFGS:  132 22:31:01    -9415.593456        0.0044\n",
      "BFGS:  133 22:31:01    -9415.593458        0.0026\n",
      "BFGS:  134 22:31:01    -9415.593459        0.0025\n",
      "BFGS:  135 22:31:01    -9415.593461        0.0023\n",
      "BFGS:  136 22:31:01    -9415.593461        0.0022\n",
      "BFGS:  137 22:31:02    -9415.593462        0.0021\n",
      "BFGS:  138 22:31:02    -9415.593462        0.0019\n",
      "BFGS:  139 22:31:02    -9415.593463        0.0023\n",
      "BFGS:  140 22:31:02    -9415.593465        0.0034\n",
      "BFGS:  141 22:31:02    -9415.593469        0.0055\n",
      "BFGS:  142 22:31:02    -9415.593476        0.0081\n",
      "BFGS:  143 22:31:02    -9415.593488        0.0101\n",
      "BFGS:  144 22:31:02    -9415.593503        0.0128\n",
      "BFGS:  145 22:31:02    -9415.593521        0.0141\n",
      "BFGS:  146 22:31:02    -9415.593542        0.0140\n",
      "BFGS:  147 22:31:02    -9415.593572        0.0146\n",
      "BFGS:  148 22:31:02    -9415.593616        0.0151\n",
      "BFGS:  149 22:31:02    -9415.593663        0.0159\n",
      "BFGS:  150 22:31:02    -9415.593694        0.0119\n",
      "BFGS:  151 22:31:03    -9415.593710        0.0049\n",
      "BFGS:  152 22:31:03    -9415.593715        0.0064\n",
      "BFGS:  153 22:31:03    -9415.593717        0.0014\n",
      "BFGS:  154 22:31:03    -9415.593717        0.0017\n",
      "BFGS:  155 22:31:03    -9415.593717        0.0004\n"
     ]
    },
    {
     "name": "stderr",
     "output_type": "stream",
     "text": [
      "100%|██████████| 5000/5000 [04:33<00:00, 18.30it/s, |force|=6.23e+3]\n"
     ]
    },
    {
     "name": "stdout",
     "output_type": "stream",
     "text": [
      "Begin minimizing...\n",
      "      Step     Time          Energy         fmax\n",
      "BFGS:    0 22:35:39    -9415.593717        0.0004\n"
     ]
    },
    {
     "name": "stderr",
     "output_type": "stream",
     "text": [
      "100%|██████████| 5000/5000 [05:08<00:00, 16.23it/s, |force|=7.75e+3]\n"
     ]
    },
    {
     "name": "stdout",
     "output_type": "stream",
     "text": [
      "Begin minimizing...\n",
      "      Step     Time          Energy         fmax\n",
      "BFGS:    0 22:40:49    -9415.593717        0.0004\n"
     ]
    },
    {
     "name": "stderr",
     "output_type": "stream",
     "text": [
      "100%|██████████| 5000/5000 [04:38<00:00, 17.95it/s, |force|=5.91e+3]\n"
     ]
    },
    {
     "name": "stdout",
     "output_type": "stream",
     "text": [
      "Begin minimizing...\n",
      "      Step     Time          Energy         fmax\n",
      "BFGS:    0 22:45:29    -9415.593717        0.0004\n"
     ]
    },
    {
     "name": "stderr",
     "output_type": "stream",
     "text": [
      "100%|██████████| 5000/5000 [04:16<00:00, 19.52it/s, |force|=6580.28]\n"
     ]
    },
    {
     "name": "stdout",
     "output_type": "stream",
     "text": [
      "Begin minimizing...\n",
      "      Step     Time          Energy         fmax\n",
      "BFGS:    0 22:49:47    -9415.593717        0.0004\n"
     ]
    },
    {
     "name": "stderr",
     "output_type": "stream",
     "text": [
      "100%|██████████| 5000/5000 [04:06<00:00, 20.26it/s, |force|=5.54e+3]\n"
     ]
    },
    {
     "name": "stdout",
     "output_type": "stream",
     "text": [
      "Begin minimizing...\n",
      "      Step     Time          Energy         fmax\n",
      "BFGS:    0 22:53:55    -9415.593717        0.0004\n"
     ]
    },
    {
     "name": "stderr",
     "output_type": "stream",
     "text": [
      "100%|██████████| 5000/5000 [06:37<00:00, 12.57it/s, |force|=7.87e+3]\n"
     ]
    },
    {
     "name": "stdout",
     "output_type": "stream",
     "text": [
      "Begin minimizing...\n",
      "      Step     Time          Energy         fmax\n",
      "BFGS:    0 23:00:36    -9415.593717        0.0004\n"
     ]
    },
    {
     "name": "stderr",
     "output_type": "stream",
     "text": [
      "  2%|▏         | 86/5000 [00:08<07:20, 11.15it/s, |force|=5.6e+3] "
     ]
    }
   ],
   "source": [
    "np.random.seed(0)\n",
    "\n",
    "# extract hydrogen donor idx and hydrogen idx for from_mol\n",
    "platform = 'cpu'\n",
    "device = torch.device(platform)\n",
    "model = neutromeratio.ani.LinearAlchemicalSingleTopologyANI(device=device, alchemical_atoms=alchemical_atoms, ani_input=ani_input)\n",
    "model = model.to(device)\n",
    "torch.set_num_threads(2)\n",
    "\n",
    "# perform initial sampling\n",
    "ani_trajs = []\n",
    "n_steps = 5000\n",
    "energy_function = neutromeratio.ANI1_force_and_energy(device = device,\n",
    "                                          model = model,\n",
    "                                          atom_list = ani_input['hybrid_atoms'],\n",
    "                                          platform = platform,\n",
    "                                          tautomer_transformation = tautomer_transformation)\n",
    "\n",
    "energy_function.restrain_acceptor = True\n",
    "energy_function.restrain_donor = True\n",
    "\n",
    "langevin = neutromeratio.LangevinDynamics(atom_list = ani_input['hybrid_atoms'],\n",
    "                            temperature = 300*unit.kelvin,\n",
    "                            force = energy_function)\n",
    "\n",
    "x0 = np.array(ani_input['hybrid_coords']) * unit.angstrom\n",
    "energie_list = []\n",
    "\n",
    "for lamb in np.linspace(0, 1, 10):\n",
    "    energy_function.lambda_value = lamb\n",
    "    energy_function.minimize(ani_input)\n",
    "    equilibrium_samples, energies = langevin.run_dynamics(x0, n_steps, stepsize=1.0 * unit.femtosecond, progress_bar=True)   \n",
    "    energie_list.append(energies)\n",
    "    equilibrium_samples = [x / unit.nanometer for x in equilibrium_samples]\n",
    "    ani_traj = md.Trajectory(equilibrium_samples, ani_input['hybrid_topolog'])\n",
    "\n",
    "    ani_trajs.append(ani_traj)"
   ]
  },
  {
   "cell_type": "code",
   "execution_count": null,
   "metadata": {},
   "outputs": [],
   "source": []
  },
  {
   "cell_type": "code",
   "execution_count": null,
   "metadata": {},
   "outputs": [],
   "source": []
  },
  {
   "cell_type": "code",
   "execution_count": null,
   "metadata": {},
   "outputs": [],
   "source": []
  },
  {
   "cell_type": "code",
   "execution_count": null,
   "metadata": {},
   "outputs": [],
   "source": []
  },
  {
   "cell_type": "code",
   "execution_count": null,
   "metadata": {},
   "outputs": [],
   "source": []
  },
  {
   "cell_type": "code",
   "execution_count": null,
   "metadata": {},
   "outputs": [],
   "source": []
  },
  {
   "cell_type": "code",
   "execution_count": null,
   "metadata": {},
   "outputs": [],
   "source": [
    "neutromeratio.utils.generate_nglview_object(ani_trajs[0], tautomer_transformation)"
   ]
  },
  {
   "cell_type": "code",
   "execution_count": null,
   "metadata": {},
   "outputs": [],
   "source": [
    "import matplotlib.pyplot as plt\n",
    "\n",
    "for energy in energie_list:\n",
    "    e = [x / unit.kilocalorie_per_mole for x in energy]\n",
    "    plt.plot(e, label='lambda: {}'.format(str(lamb)))"
   ]
  },
  {
   "cell_type": "code",
   "execution_count": null,
   "metadata": {},
   "outputs": [],
   "source": []
  },
  {
   "cell_type": "code",
   "execution_count": 6,
   "metadata": {},
   "outputs": [],
   "source": [
    "a = 10.01340"
   ]
  },
  {
   "cell_type": "code",
   "execution_count": 7,
   "metadata": {},
   "outputs": [
    {
     "data": {
      "text/plain": [
       "'10.0134'"
      ]
     },
     "execution_count": 7,
     "metadata": {},
     "output_type": "execute_result"
    }
   ],
   "source": [
    "f\"{a}\""
   ]
  },
  {
   "cell_type": "code",
   "execution_count": 10,
   "metadata": {},
   "outputs": [
    {
     "data": {
      "text/plain": [
       "'10.0134'"
      ]
     },
     "execution_count": 10,
     "metadata": {},
     "output_type": "execute_result"
    }
   ],
   "source": [
    "f\"{a:0.4f}\""
   ]
  },
  {
   "cell_type": "code",
   "execution_count": null,
   "metadata": {},
   "outputs": [],
   "source": []
  },
  {
   "cell_type": "code",
   "execution_count": null,
   "metadata": {},
   "outputs": [],
   "source": []
  },
  {
   "cell_type": "code",
   "execution_count": null,
   "metadata": {},
   "outputs": [],
   "source": []
  },
  {
   "cell_type": "code",
   "execution_count": null,
   "metadata": {},
   "outputs": [],
   "source": []
  }
 ],
 "metadata": {
  "kernelspec": {
   "display_name": "Python (ani36)",
   "language": "python",
   "name": "ani36"
  },
  "language_info": {
   "codemirror_mode": {
    "name": "ipython",
    "version": 3
   },
   "file_extension": ".py",
   "mimetype": "text/x-python",
   "name": "python",
   "nbconvert_exporter": "python",
   "pygments_lexer": "ipython3",
   "version": "3.6.7"
  }
 },
 "nbformat": 4,
 "nbformat_minor": 2
}
