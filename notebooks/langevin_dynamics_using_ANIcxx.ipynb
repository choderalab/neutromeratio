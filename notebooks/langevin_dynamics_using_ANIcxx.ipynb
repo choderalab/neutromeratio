{
 "cells": [
  {
   "cell_type": "code",
   "execution_count": 1,
   "metadata": {},
   "outputs": [],
   "source": [
    "from openmmtools.constants import kB\n",
    "from simtk import unit\n",
    "import numpy as np\n",
    "from tqdm import tqdm\n",
    "from IPython.core.display import display, HTML\n",
    "from IPython.display import SVG\n",
    "from rdkit.Chem.Draw import IPythonConsole\n",
    "import mdtraj as md\n",
    "import nglview\n",
    "from rdkit import Chem\n",
    "from rdkit.Chem import AllChem\n",
    "import neutromeratio\n",
    "import matplotlib.pyplot as plt\n",
    "import pickle\n",
    "import torchani\n",
    "import torch"
   ]
  },
  {
   "cell_type": "code",
   "execution_count": 2,
   "metadata": {},
   "outputs": [],
   "source": [
    "exp_results = pickle.load(open('../data/exp_results.pickle', 'rb'))\n",
    "\n",
    "# specify the system you want to simulate\n",
    "name = 'molDWRow_298'\n",
    "#name = 'molDWRow_37'\n",
    "#name = 'molDWRow_45'\n",
    "#name = 'molDWRow_160'\n",
    "#name = 'molDWRow_590'\n",
    "\n",
    "\n",
    "from_mol_tautomer_idx = 2\n",
    "to_mol_tautomer_idx = 1\n",
    "\n",
    "\n",
    "t1_smiles = exp_results[name]['t1-smiles']\n",
    "t2_smiles = exp_results[name]['t2-smiles']\n",
    "\n",
    "# generate both rdkit mol\n",
    "mols = { 't1' : neutromeratio.generate_rdkit_mol(t1_smiles), 't2' : neutromeratio.generate_rdkit_mol(t2_smiles) }\n",
    "from_mol = mols[f\"t{from_mol_tautomer_idx}\"]\n",
    "to_mol = mols[f\"t{to_mol_tautomer_idx}\"]\n",
    "ani_input = neutromeratio.from_mol_to_ani_input(from_mol)"
   ]
  },
  {
   "cell_type": "code",
   "execution_count": 3,
   "metadata": {},
   "outputs": [
    {
     "name": "stderr",
     "output_type": "stream",
     "text": [
      "[utils.py:48 - get_donor_atom_idx()] Index of atom that moves: 14.\n",
      "[utils.py:54 - get_donor_atom_idx()] Index of atom that donates hydrogen: 5\n",
      "[utils.py:72 - get_donor_atom_idx()] Index of atom that accepts hydrogen: 2\n"
     ]
    },
    {
     "data": {
      "image/png": "[encoded data removed]",
      "text/plain": [
       "<rdkit.Chem.rdchem.Mol at 0x7ff84d078030>"
      ]
     },
     "metadata": {},
     "output_type": "display_data"
    }
   ],
   "source": [
    "# extract hydrogen donor idx and hydrogen idx for from_mol\n",
    "tautomer_transformation = neutromeratio.get_donor_atom_idx(from_mol, to_mol)\n",
    "platform = 'cpu'\n",
    "device = torch.device(platform)\n",
    "model = torchani.models.ANI1ccx()\n",
    "model = model.to(device)\n",
    "torch.set_num_threads(2)\n",
    "\n",
    "energy_function = neutromeratio.ANI1_force_and_energy(device = device,\n",
    "                                          model = model,\n",
    "                                          atom_list = ani_input['atom_list'],\n",
    "                                          platform = platform,\n",
    "                                          tautomer_transformation = tautomer_transformation)\n",
    "\n",
    "langevin = neutromeratio.LangevinDynamics(atom_list = ani_input['atom_list'],\n",
    "                            temperature = 300*unit.kelvin,\n",
    "                            force = energy_function)\n"
   ]
  },
  {
   "cell_type": "code",
   "execution_count": null,
   "metadata": {},
   "outputs": [],
   "source": [
    "n_steps = 100000\n",
    "x0 = np.array(ani_input['coord_list']) * unit.angstrom\n",
    "trajectory = langevin.run_dynamics(x0, n_steps)\n",
    "traj_in_nm = [x / unit.nanometer for x in trajectory]"
   ]
  },
  {
   "cell_type": "code",
   "execution_count": null,
   "metadata": {},
   "outputs": [],
   "source": [
    "run = 1\n",
    "topology = md.load(f\"../data/md_sampling/{name}/{name}_t{from_mol_tautomer_idx}.pdb\").topology\n",
    "ani_traj = md.Trajectory(traj_in_nm, topology)\n",
    "ani_traj.save(f\"../data/md_sampling/{name}/{name}_t{from_mol_tautomer_idx}_run{run}_anicxx.dcd\")\n"
   ]
  },
  {
   "cell_type": "code",
   "execution_count": null,
   "metadata": {},
   "outputs": [],
   "source": [
    "run = 1\n",
    "topology = md.load(f\"../data/md_sampling/{name}/{name}_t{from_mol_tautomer_idx}.pdb\").topology\n",
    "traj_file = f\"../data/md_sampling/{name}/{name}_t{from_mol_tautomer_idx}_run{run}_anicxx.dcd\"\n",
    "ani_traj = md.load(traj_file, top=topology)\n",
    "\n",
    "view = nglview.show_mdtraj(ani_traj[::10])\n",
    "view"
   ]
  },
  {
   "cell_type": "code",
   "execution_count": null,
   "metadata": {},
   "outputs": [],
   "source": [
    "#from nglview.contrib.movie import MovieMaker\n",
    "#movie = MovieMaker(view, output='my.gif')\n",
    "#movie.make()"
   ]
  }
 ],
 "metadata": {
  "kernelspec": {
   "display_name": "torchANI-dev",
   "language": "python",
   "name": "torchani-dev"
  },
  "language_info": {
   "codemirror_mode": {
    "name": "ipython",
    "version": 3
   },
   "file_extension": ".py",
   "mimetype": "text/x-python",
   "name": "python",
   "nbconvert_exporter": "python",
   "pygments_lexer": "ipython3",
   "version": "3.6.8"
  }
 },
 "nbformat": 4,
 "nbformat_minor": 2
}
