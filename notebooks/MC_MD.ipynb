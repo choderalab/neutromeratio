{
 "cells": [
  {
   "cell_type": "code",
   "execution_count": 1,
   "metadata": {},
   "outputs": [],
   "source": [
    "from neutromeratio import *\n",
    "from openmmtools.constants import kB\n",
    "from simtk import unit\n",
    "import numpy as np\n",
    "from tqdm import tqdm\n",
    "from IPython.core.display import display, HTML\n",
    "from IPython.display import SVG\n",
    "import pickle\n",
    "import mdtraj as md\n",
    "\n",
    "# temperature, mass, and related constants\n"
   ]
  },
  {
   "cell_type": "code",
   "execution_count": 2,
   "metadata": {},
   "outputs": [],
   "source": [
    "# use torchani to sample methane\n",
    "# TODO: modify this to be an instance method of a Molecule class instead of a function sitting in main...\n",
    "import torchani\n",
    "import torch\n",
    "device = torch.device('cpu')\n",
    "model = torchani.models.ANI1ccx()\n",
    "model = model.to(device)\n",
    "torch.set_num_threads(2)"
   ]
  },
  {
   "cell_type": "code",
   "execution_count": 3,
   "metadata": {},
   "outputs": [],
   "source": [
    "exp_results = pickle.load(open('../data/exp_results.pickle', 'rb'))\n",
    "\n",
    "# specify the system you want to simulate\n",
    "name = 'molDWRow_298'\n",
    "#name = 'molDWRow_37'\n",
    "#name = 'molDWRow_45'\n",
    "#name = 'molDWRow_160'\n",
    "#name = 'molDWRow_590'\n",
    "\n",
    "\n",
    "from_mol_tautomer_idx = 1\n",
    "to_mol_tautomer_idx = 2\n",
    "\n",
    "# specify a run number\n",
    "nr_of_runs = 10\n",
    "# number of time steps\n",
    "nr_of_mc_trials = 10\n",
    "\n",
    "t1_smiles = exp_results[name]['t1-smiles']\n",
    "t2_smiles = exp_results[name]['t2-smiles']\n",
    "\n"
   ]
  },
  {
   "cell_type": "code",
   "execution_count": 4,
   "metadata": {},
   "outputs": [
    {
     "data": {
      "text/plain": [
       "<rdkit.Chem.rdchem.Mol at 0x7fecd110ef80>"
      ]
     },
     "metadata": {},
     "output_type": "display_data"
    },
    {
     "data": {
      "text/plain": [
       "<rdkit.Chem.rdchem.Mol at 0x7fecd14402b0>"
      ]
     },
     "metadata": {},
     "output_type": "display_data"
    }
   ],
   "source": [
    "# generate both rdkit mol\n",
    "mols = { 't1' : generate_rdkit_mol(t1_smiles), 't2' : generate_rdkit_mol(t2_smiles) }\n",
    "write_pdb(mols['t1'], name, 't1')\n",
    "write_pdb(mols['t2'], name, 't2')\n",
    "\n",
    "from_mol = mols[f\"t{from_mol_tautomer_idx}\"]\n",
    "to_mol = mols[f\"t{to_mol_tautomer_idx}\"]\n",
    "\n",
    "ani_input = from_mol_to_ani_input(from_mol)\n"
   ]
  },
  {
   "cell_type": "code",
   "execution_count": 5,
   "metadata": {
    "scrolled": false
   },
   "outputs": [
    {
     "name": "stdout",
     "output_type": "stream",
     "text": [
      "m1: Index of atom that moves: 11.\n"
     ]
    },
    {
     "data": {
      "text/plain": [
       "<rdkit.Chem.rdchem.Mol at 0x7fecd110ee40>"
      ]
     },
     "metadata": {},
     "output_type": "display_data"
    },
    {
     "name": "stderr",
     "output_type": "stream",
     "text": [
      "\r",
      "  0%|          | 0/10 [00:00<?, ?it/s]"
     ]
    },
    {
     "name": "stdout",
     "output_type": "stream",
     "text": [
      "Hydrogen 11 is moved from atom-idx 2 to atom-idx 5.\n",
      "Run Nr: 1\n"
     ]
    },
    {
     "ename": "NameError",
     "evalue": "name 'reduce' is not defined",
     "output_type": "error",
     "traceback": [
      "\u001b[0;31m---------------------------------------------------------------------------\u001b[0m",
      "\u001b[0;31mNameError\u001b[0m                                 Traceback (most recent call last)",
      "\u001b[0;32m<ipython-input-5-ec6e1a0503ca>\u001b[0m in \u001b[0;36m<module>\u001b[0;34m\u001b[0m\n\u001b[1;32m     34\u001b[0m         \u001b[0mwrite_xyz_file\u001b[0m\u001b[0;34m(\u001b[0m\u001b[0mhydrogen_mover\u001b[0m\u001b[0;34m.\u001b[0m\u001b[0matom_list\u001b[0m\u001b[0;34m,\u001b[0m \u001b[0mx\u001b[0m\u001b[0;34m,\u001b[0m \u001b[0mname\u001b[0m\u001b[0;34m=\u001b[0m\u001b[0;34mf\"{name}_t{from_mol_tautomer_idx}\"\u001b[0m\u001b[0;34m,\u001b[0m \u001b[0midentifier\u001b[0m\u001b[0;34m=\u001b[0m\u001b[0;34mf\"{run}_{ts}_0_pre_jump\"\u001b[0m\u001b[0;34m)\u001b[0m\u001b[0;34m\u001b[0m\u001b[0;34m\u001b[0m\u001b[0m\n\u001b[1;32m     35\u001b[0m         \u001b[0;31m# MC move\u001b[0m\u001b[0;34m\u001b[0m\u001b[0;34m\u001b[0m\u001b[0;34m\u001b[0m\u001b[0m\n\u001b[0;32m---> 36\u001b[0;31m         \u001b[0mcoordinates\u001b[0m\u001b[0;34m,\u001b[0m \u001b[0mwork\u001b[0m \u001b[0;34m=\u001b[0m \u001b[0mhydrogen_mover\u001b[0m\u001b[0;34m.\u001b[0m\u001b[0mperform_mc_move\u001b[0m\u001b[0;34m(\u001b[0m\u001b[0mx\u001b[0m\u001b[0;34m,\u001b[0m \u001b[0mmodel\u001b[0m\u001b[0;34m,\u001b[0m \u001b[0mspecies\u001b[0m\u001b[0;34m,\u001b[0m \u001b[0mdevice\u001b[0m\u001b[0;34m)\u001b[0m\u001b[0;34m\u001b[0m\u001b[0;34m\u001b[0m\u001b[0m\n\u001b[0m\u001b[1;32m     37\u001b[0m         \u001b[0mwork_value\u001b[0m\u001b[0;34m.\u001b[0m\u001b[0mappend\u001b[0m\u001b[0;34m(\u001b[0m\u001b[0mwork\u001b[0m\u001b[0;34m)\u001b[0m\u001b[0;34m\u001b[0m\u001b[0;34m\u001b[0m\u001b[0m\n\u001b[1;32m     38\u001b[0m         \u001b[0;31m# for debug purpose: write out mol before and after MC move\u001b[0m\u001b[0;34m\u001b[0m\u001b[0;34m\u001b[0m\u001b[0;34m\u001b[0m\u001b[0m\n",
      "\u001b[0;32m~/Work/Projects/neutromeratio/neutromeratio/mcmc.py\u001b[0m in \u001b[0;36mperform_mc_move\u001b[0;34m(self, coordinates, model, species, device)\u001b[0m\n\u001b[1;32m     53\u001b[0m         \u001b[0;31m#coordinates_after_move\u001b[0m\u001b[0;34m\u001b[0m\u001b[0;34m\u001b[0m\u001b[0;34m\u001b[0m\u001b[0m\n\u001b[1;32m     54\u001b[0m         \u001b[0mcoordinates_B\u001b[0m \u001b[0;34m=\u001b[0m \u001b[0mself\u001b[0m\u001b[0;34m.\u001b[0m\u001b[0m_move_hydrogen_to_acceptor_idx\u001b[0m\u001b[0;34m(\u001b[0m\u001b[0mcopy\u001b[0m\u001b[0;34m.\u001b[0m\u001b[0mdeepcopy\u001b[0m\u001b[0;34m(\u001b[0m\u001b[0mcoordinates_A\u001b[0m\u001b[0;34m)\u001b[0m\u001b[0;34m)\u001b[0m\u001b[0;34m\u001b[0m\u001b[0;34m\u001b[0m\u001b[0m\n\u001b[0;32m---> 55\u001b[0;31m         \u001b[0mdelta_u\u001b[0m \u001b[0;34m=\u001b[0m \u001b[0mreduce\u001b[0m\u001b[0;34m(\u001b[0m\u001b[0menergy_function\u001b[0m\u001b[0;34m(\u001b[0m\u001b[0mcoordinates_B\u001b[0m\u001b[0;34m,\u001b[0m \u001b[0mmodel\u001b[0m\u001b[0;34m,\u001b[0m \u001b[0mspecies\u001b[0m\u001b[0;34m,\u001b[0m \u001b[0mdevice\u001b[0m\u001b[0;34m)\u001b[0m \u001b[0;34m-\u001b[0m \u001b[0menergy_function\u001b[0m\u001b[0;34m(\u001b[0m\u001b[0mcoordinates_A\u001b[0m\u001b[0;34m,\u001b[0m \u001b[0mmodel\u001b[0m\u001b[0;34m,\u001b[0m \u001b[0mspecies\u001b[0m\u001b[0;34m,\u001b[0m \u001b[0mdevice\u001b[0m\u001b[0;34m)\u001b[0m\u001b[0;34m)\u001b[0m\u001b[0;34m\u001b[0m\u001b[0;34m\u001b[0m\u001b[0m\n\u001b[0m\u001b[1;32m     56\u001b[0m \u001b[0;34m\u001b[0m\u001b[0m\n\u001b[1;32m     57\u001b[0m         \u001b[0;31m# log probability of forward proposal from the initial coordinates (coordinate_A) to proposed coordinates (coordinate_B)\u001b[0m\u001b[0;34m\u001b[0m\u001b[0;34m\u001b[0m\u001b[0;34m\u001b[0m\u001b[0m\n",
      "\u001b[0;31mNameError\u001b[0m: name 'reduce' is not defined"
     ]
    }
   ],
   "source": [
    "# extract hydrogen donor idx and hydrogen idx for m2\n",
    "donor = get_donor_atom_idx(from_mol, to_mol)\n",
    "\n",
    "# extract hydrogen acceptor idx for to_mol\n",
    "###################################\n",
    "###################################\n",
    "acceptor = 5\n",
    "###################################\n",
    "###################################\n",
    "\n",
    "hydrogen_mover = MC_mover(donor_idx = donor['donor'], hydrogen_idx = donor['hydrogen_idx'], acceptor_idx = acceptor, atom_list = ani_input['atom_list'])\n",
    "\n",
    "species = model.species_to_tensor(ani_input['atom_list']).to(device).unsqueeze(0)\n",
    "\n",
    "# initial conditions: coordinates from example were given in units of angstroms   \n",
    "x_in_angstroms = np.array(ani_input['coord_list']) * unit.angstrom\n",
    "print(f\"Hydrogen {hydrogen_mover.hydrogen_idx} is moved from atom-idx {hydrogen_mover.donor_idx} to atom-idx {hydrogen_mover.acceptor_idx}.\")\n",
    "# generating mdtraj traj object\n",
    "topology = md.load(f\"../data/md_sampling/{name}/{name}_t{from_mol_tautomer_idx}.pdb\").topology\n",
    "\n",
    "for run in range(1, nr_of_runs+1):\n",
    "    print(f\"Run Nr: {run}\")\n",
    "    trange = tqdm(range(nr_of_mc_trials))\n",
    "\n",
    "    traj_in_nm = []\n",
    "    work_value = []\n",
    "\n",
    "    for ts in trange:\n",
    "\n",
    "        x0 = x_in_angstroms\n",
    "        trajectory, x, energies = langevin(device, model, ani_input['atom_list'], x0, ANI1ccx_force_and_energy, n_steps=100, stepsize=0.5*unit.femtosecond, temperature=temperature, platform='cuda', progress_bar=False)\n",
    "        traj_in_nm += [x / unit.nanometer for x in trajectory]\n",
    "        # for debug purpose: write out mol before and after MC move\n",
    "        write_xyz_file(hydrogen_mover.atom_list, x, name=f\"{name}_t{from_mol_tautomer_idx}\", identifier=f\"{run}_{ts}_0_pre_jump\")\n",
    "        # MC move\n",
    "        coordinates, work = hydrogen_mover.perform_mc_move(x, model, species, device)\n",
    "        work_value.append(work)\n",
    "        # for debug purpose: write out mol before and after MC move\n",
    "        write_xyz_file(hydrogen_mover.atom_list, coordinates, name=f\"{name}_t{from_mol_tautomer_idx}\", identifier=f\"{run}_{ts}_1_post_jump\")\n",
    "\n",
    "    ani_traj = md.Trajectory(traj_in_nm, topology)\n",
    "    ani_traj = ani_traj.superpose(ani_traj[0]) # RMSD align onto first frame\n",
    "    ani_traj.save(f\"../data/md_mc_sampling/{name}/{name}_t{from_mol_tautomer_idx}_run{run}_anicxx.dcd\")\n",
    "\n",
    "    f = open(f\"../data/md_mc_sampling/{name}/{name}_from_t{from_mol_tautomer_idx}_to_t{to_mol_tautomer_idx}_run{run}_work.csv\", 'w+')\n",
    "    for i, j in zip(range(nr_of_mc_trials), work_value):\n",
    "        print((float(j)*kT).in_units_of(unit.kilojoule_per_mole))\n",
    "\n",
    "        f.write('{}, {}\\n'.format(i, j))\n",
    "    f.close()\n",
    "        "
   ]
  }
 ],
 "metadata": {
  "kernelspec": {
   "display_name": "torchANI-dev",
   "language": "python",
   "name": "torchani-dev"
  },
  "language_info": {
   "codemirror_mode": {
    "name": "ipython",
    "version": 3
   },
   "file_extension": ".py",
   "mimetype": "text/x-python",
   "name": "python",
   "nbconvert_exporter": "python",
   "pygments_lexer": "ipython3",
   "version": "3.6.8"
  }
 },
 "nbformat": 4,
 "nbformat_minor": 2
}
