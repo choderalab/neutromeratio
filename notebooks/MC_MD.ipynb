{
 "cells": [
  {
   "cell_type": "code",
   "execution_count": null,
   "metadata": {},
   "outputs": [],
   "source": [
    "from neutromeratio import *\n",
    "from openmmtools.constants import kB\n",
    "from simtk import unit\n",
    "import numpy as np\n",
    "import pickle\n",
    "import mdtraj as md\n",
    "import torchani\n",
    "import torch\n",
    "from tqdm import tqdm\n",
    "\n",
    "platform = 'cpu'\n",
    "device = torch.device(platform)\n",
    "model = torchani.models.ANI1ccx()\n",
    "model = model.to(device)\n",
    "torch.set_num_threads(2)"
   ]
  },
  {
   "cell_type": "code",
   "execution_count": null,
   "metadata": {},
   "outputs": [],
   "source": [
    "exp_results = pickle.load(open('../data/exp_results.pickle', 'rb'))\n",
    "\n",
    "# specify the system you want to simulate\n",
    "name = 'molDWRow_298'\n",
    "#name = 'molDWRow_37'\n",
    "#name = 'molDWRow_45'\n",
    "#name = 'molDWRow_160'\n",
    "#name = 'molDWRow_590'\n",
    "\n",
    "\n",
    "from_mol_tautomer_idx = 1\n",
    "to_mol_tautomer_idx = 2\n",
    "\n",
    "# specify a run number\n",
    "nr_of_runs = 1\n",
    "# number of time steps\n",
    "nr_of_mc_trials = 50\n",
    "\n",
    "t1_smiles = exp_results[name]['t1-smiles']\n",
    "t2_smiles = exp_results[name]['t2-smiles']\n",
    "\n",
    "# generate both rdkit mol\n",
    "mols = { 't1' : generate_rdkit_mol(t1_smiles), 't2' : generate_rdkit_mol(t2_smiles) }\n",
    "from_mol = mols[f\"t{from_mol_tautomer_idx}\"]\n",
    "to_mol = mols[f\"t{to_mol_tautomer_idx}\"]\n",
    "ani_input = from_mol_to_ani_input(from_mol)\n",
    "\n"
   ]
  },
  {
   "cell_type": "code",
   "execution_count": null,
   "metadata": {},
   "outputs": [],
   "source": [
    "display_mol(mols['t1'])"
   ]
  },
  {
   "cell_type": "code",
   "execution_count": null,
   "metadata": {},
   "outputs": [],
   "source": [
    "display_mol(mols['t2'])"
   ]
  },
  {
   "cell_type": "code",
   "execution_count": null,
   "metadata": {
    "scrolled": false
   },
   "outputs": [],
   "source": [
    "# extract hydrogen donor idx and hydrogen idx for m2\n",
    "donor = get_donor_atom_idx(from_mol, to_mol)\n",
    "\n",
    "# extract hydrogen acceptor idx for to_mol\n",
    "###################################\n",
    "###################################\n",
    "acceptor = 5\n",
    "###################################\n",
    "###################################\n",
    "\n",
    "species = model.species_to_tensor(ani_input['atom_list']).to(device).unsqueeze(0)\n",
    "\n",
    "energy_function = ANI1cxx_force_and_energy(device = device,\n",
    "                                          model = model,\n",
    "                                          species = species,\n",
    "                                          platform = platform)\n",
    "\n",
    "hydrogen_mover = Instantenous_MC_Mover(donor_idx = donor['donor'], \n",
    "                                       hydrogen_idx = donor['hydrogen_idx'], \n",
    "                                       acceptor_idx = acceptor, \n",
    "                                       atom_list = ani_input['atom_list'], \n",
    "                                       energy_function = energy_function)\n",
    "\n",
    "langevin = LangevinDynamics(atom_list = ani_input['atom_list'],\n",
    "                            device = device,\n",
    "                            model = model,\n",
    "                            temperature = 300*unit.kelvin,\n",
    "                            force = energy_function)\n",
    "\n",
    "\n",
    "# initial conditions: coordinates from example were given in units of angstroms   \n",
    "x0 = np.array(ani_input['coord_list']) * unit.angstrom\n",
    "print(f\"Hydrogen {hydrogen_mover.hydrogen_idx} is moved from atom-idx {hydrogen_mover.donor_idx} to atom-idx {hydrogen_mover.acceptor_idx}.\")\n",
    "\n",
    "\n",
    "for run in range(1, nr_of_runs+1):\n",
    "    performe_md_mc_protocoll(name = name, \n",
    "                             run = run,\n",
    "                             x0 = x0,\n",
    "                             nr_of_mc_trials = nr_of_mc_trials, \n",
    "                             hydrogen_mover = hydrogen_mover,\n",
    "                            langevin_dynamics = langevin,\n",
    "                            from_mol_tautomer_idx = from_mol_tautomer_idx,\n",
    "                            to_mol_tautomer_idx = to_mol_tautomer_idx)"
   ]
  },
  {
   "cell_type": "code",
   "execution_count": null,
   "metadata": {},
   "outputs": [],
   "source": [
    "generate_nglview_object(\n",
    "    top_file=f\"../data/structures/{name}/{name}_tautomer_{from_mol_tautomer_idx}.pdb\",\n",
    "    traj_file=f\"../data/md_mc_sampling/{name}/{name}_t{from_mol_tautomer_idx}_run{run}_anicxx.dcd\"\n",
    ")"
   ]
  }
 ],
 "metadata": {
  "kernelspec": {
   "display_name": "torchANI-dev",
   "language": "python",
   "name": "torchani-dev"
  },
  "language_info": {
   "codemirror_mode": {
    "name": "ipython",
    "version": 3
   },
   "file_extension": ".py",
   "mimetype": "text/x-python",
   "name": "python",
   "nbconvert_exporter": "python",
   "pygments_lexer": "ipython3",
   "version": "3.6.8"
  }
 },
 "nbformat": 4,
 "nbformat_minor": 2
}
