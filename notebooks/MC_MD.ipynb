{
 "cells": [
  {
   "cell_type": "code",
   "execution_count": null,
   "metadata": {},
   "outputs": [],
   "source": [
    "from neutromeratio import *\n",
    "from openmmtools.constants import kB\n",
    "from simtk import unit\n",
    "import numpy as np\n",
    "import pickle\n",
    "import mdtraj as md\n",
    "import torchani\n",
    "import torch\n",
    "from tqdm import tqdm\n",
    "\n",
    "platform = 'cpu'\n",
    "device = torch.device(platform)\n",
    "model = torchani.models.ANI1ccx()\n",
    "model = model.to(device)\n",
    "torch.set_num_threads(2)"
   ]
  },
  {
   "cell_type": "code",
   "execution_count": null,
   "metadata": {},
   "outputs": [],
   "source": [
    "exp_results = pickle.load(open('../data/exp_results.pickle', 'rb'))\n",
    "\n",
    "# specify the system you want to simulate\n",
    "name = 'molDWRow_298'\n",
    "#name = 'molDWRow_37'\n",
    "#name = 'molDWRow_45'\n",
    "#name = 'molDWRow_160'\n",
    "#name = 'molDWRow_590'\n",
    "\n",
    "\n",
    "from_mol_tautomer_idx = 1\n",
    "to_mol_tautomer_idx = 2\n",
    "\n",
    "# specify a run number\n",
    "nr_of_runs = 2\n",
    "# number of time steps\n",
    "nr_of_mc_trials = 10\n",
    "\n",
    "t1_smiles = exp_results[name]['t1-smiles']\n",
    "t2_smiles = exp_results[name]['t2-smiles']\n",
    "\n",
    "# generate both rdkit mol\n",
    "mols = { 't1' : generate_rdkit_mol(t1_smiles), 't2' : generate_rdkit_mol(t2_smiles) }\n",
    "from_mol = mols[f\"t{from_mol_tautomer_idx}\"]\n",
    "to_mol = mols[f\"t{to_mol_tautomer_idx}\"]\n",
    "ani_input = from_mol_to_ani_input(from_mol)\n",
    "\n"
   ]
  },
  {
   "cell_type": "code",
   "execution_count": null,
   "metadata": {},
   "outputs": [],
   "source": [
    "display_mol(mols['t1'])"
   ]
  },
  {
   "cell_type": "code",
   "execution_count": null,
   "metadata": {},
   "outputs": [],
   "source": [
    "display_mol(mols['t2'])"
   ]
  },
  {
   "cell_type": "code",
   "execution_count": null,
   "metadata": {
    "scrolled": false
   },
   "outputs": [],
   "source": [
    "# extract hydrogen donor idx and hydrogen idx for m2\n",
    "donor = get_donor_atom_idx(from_mol, to_mol)\n",
    "\n",
    "# extract hydrogen acceptor idx for to_mol\n",
    "###################################\n",
    "###################################\n",
    "acceptor = 5\n",
    "###################################\n",
    "###################################\n",
    "\n",
    "species = model.species_to_tensor(ani_input['atom_list']).to(device).unsqueeze(0)\n",
    "\n",
    "energy_function = ANI1_force_and_energy(device = device,\n",
    "                                          model = model,\n",
    "                                          species = species,\n",
    "                                          platform = platform)\n",
    "\n",
    "hydrogen_mover = Instantenous_MC_Mover(donor_idx = donor['donor'], \n",
    "                                       hydrogen_idx = donor['hydrogen_idx'], \n",
    "                                       acceptor_idx = acceptor, \n",
    "                                       atom_list = ani_input['atom_list'], \n",
    "                                       energy_function = energy_function)\n",
    "\n",
    "langevin = LangevinDynamics(atom_list = ani_input['atom_list'],\n",
    "                            temperature = 300*unit.kelvin,\n",
    "                            force = energy_function)\n",
    "\n",
    "\n",
    "# initial conditions: coordinates from example were given in units of angstroms   \n",
    "x0 = np.array(ani_input['coord_list']) * unit.angstrom\n",
    "print(f\"Hydrogen {hydrogen_mover.hydrogen_idx} is moved from atom-idx {hydrogen_mover.donor_idx} to atom-idx {hydrogen_mover.acceptor_idx}.\")\n",
    "\n"
   ]
  },
  {
   "cell_type": "code",
   "execution_count": null,
   "metadata": {},
   "outputs": [],
   "source": [
    "# run MD and MC protocoll\n",
    "# generating mdtraj traj object\n",
    "topology = md.load(f\"../data/structures/{name}/{name}_tautomer_{from_mol_tautomer_idx}.pdb\").topology\n",
    "\n",
    "\n",
    "for run in range(1, nr_of_runs+1):\n",
    "    traj = performe_md_mc_protocoll(x0 = x0,\n",
    "                             nr_of_mc_trials = nr_of_mc_trials, \n",
    "                             hydrogen_mover = hydrogen_mover,\n",
    "                            langevin_dynamics = langevin)\n",
    "    \n",
    "    # save trajectory\n",
    "    ani_traj = md.Trajectory(traj, topology)\n",
    "    ani_traj.save(f\"../data/md_mc_sampling/{name}/{name}_t{from_mol_tautomer_idx}_run{run}_anicxx.dcd\")\n",
    "\n",
    "    # save work values (overwriting after each new run)\n",
    "    f = open(f\"../data/md_mc_sampling/{name}/{name}_from_t{from_mol_tautomer_idx}_to_t{to_mol_tautomer_idx}_work.csv\", 'w+')\n",
    "    for i, j in enumerate(hydrogen_mover.work_values):\n",
    "        f.write('{}, {}\\n'.format(i, j))\n",
    "    f.close()\n",
    "\n"
   ]
  },
  {
   "cell_type": "code",
   "execution_count": null,
   "metadata": {},
   "outputs": [],
   "source": [
    "top_file = f\"../data/structures/{name}/{name}_tautomer_{from_mol_tautomer_idx}.pdb\",\n",
    "traj_files = []\n",
    "for run in range(1, nr_of_runs+1):\n",
    "    traj_files.append(f\"../data/md_mc_sampling/{name}/{name}_t{from_mol_tautomer_idx}_run{run}_anicxx.dcd\")\n",
    "    "
   ]
  },
  {
   "cell_type": "code",
   "execution_count": null,
   "metadata": {},
   "outputs": [],
   "source": [
    "generate_nglview_object(\n",
    "    top_file=top_file,\n",
    "    traj_files=traj_files\n",
    ")"
   ]
  },
  {
   "cell_type": "code",
   "execution_count": null,
   "metadata": {},
   "outputs": [],
   "source": [
    "# define different hydrogen_movers\n",
    "hydrogen_movers = []\n",
    "\n",
    "for mod_bond_length in [0.8,0.9,0.95,1.0,1.05,1.1,1.2]:\n",
    "    for stddev in [0.001, 0.01, 0.1, 0.15, 0.25]:\n",
    "        h_m = Instantenous_MC_Mover(donor_idx = donor['donor'], \n",
    "                                       hydrogen_idx = donor['hydrogen_idx'], \n",
    "                                       acceptor_idx = acceptor, \n",
    "                                       atom_list = ani_input['atom_list'], \n",
    "                                       energy_function = energy_function)\n",
    "        h_m.acceptor_mod_bond_length = mod_bond_length\n",
    "        h_m.acceptor_hydrogen_stddev_bond_length = stddev * unit.angstrom\n",
    "        hydrogen_movers.append(h_m)\n",
    "\n",
    "# calculate work for the different hydrogen_movers \n",
    "use_precalculated_md_and_perform_mc(top = top_file, \n",
    "                                     trajs = traj_files, \n",
    "                                     hydrogen_movers = hydrogen_movers,\n",
    "                                    mc_every_nth_frame=100)\n"
   ]
  },
  {
   "cell_type": "code",
   "execution_count": null,
   "metadata": {},
   "outputs": [],
   "source": [
    "#save work values for different hydrogen movers\n",
    "for h_m in hydrogen_movers:\n",
    "    mod_bond_length = h_m.acceptor_mod_bond_length\n",
    "    stddev = h_m.acceptor_hydrogen_stddev_bond_length / unit.angstrom\n",
    "\n",
    "    f = open(f\"../data/md_mc_sampling/{name}/{name}_from_t{from_mol_tautomer_idx}_to_t{to_mol_tautomer_idx}_work_bond_length{mod_bond_length}_std{stddev}.csv\", 'a+')\n",
    "    for ts, work in enumerate(h_m.work_values):\n",
    "        f.write('{}, {}\\n'.format(ts, work))\n",
    "    f.close()\n",
    "\n"
   ]
  }
 ],
 "metadata": {
  "kernelspec": {
   "display_name": "torchANI-dev",
   "language": "python",
   "name": "torchani-dev"
  },
  "language_info": {
   "codemirror_mode": {
    "name": "ipython",
    "version": 3
   },
   "file_extension": ".py",
   "mimetype": "text/x-python",
   "name": "python",
   "nbconvert_exporter": "python",
   "pygments_lexer": "ipython3",
   "version": "3.6.8"
  }
 },
 "nbformat": 4,
 "nbformat_minor": 2
}
