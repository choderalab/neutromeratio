{
 "cells": [
  {
   "cell_type": "code",
   "execution_count": 1,
   "metadata": {},
   "outputs": [],
   "source": [
    "from rdkit.Chem.Draw import IPythonConsole\n",
    "from IPython.display import SVG\n",
    "from rdkit import Chem\n",
    "%matplotlib inline\n",
    "from rdkit.Chem import Draw\n",
    "from IPython.core.display import display, HTML\n",
    "from rdkit.Chem import AllChem\n",
    "import os, sys\n",
    "from openeye import oechem\n",
    "import openmoltools as omtff\n",
    "from openmoltools import forcefield_generators\n",
    "import lxml\n",
    "from io import StringIO\n",
    "from lxml import etree\n",
    "from simtk import unit\n",
    "import pickle\n",
    "import parmed as pm\n",
    "import simtk.openmm as mm\n",
    "import simtk.openmm.app as app\n",
    "from simtk.openmm.app import StateDataReporter\n",
    "import csv\n",
    "import nglview\n",
    "import mdtraj as md\n",
    "import numpy as np\n",
    "import matplotlib.pylab as plt\n",
    "\n",
    "\n",
    "gaff_default = os.path.join(\"../data/gaff2.xml\")\n",
    "\n",
    "\n"
   ]
  },
  {
   "cell_type": "code",
   "execution_count": 2,
   "metadata": {},
   "outputs": [],
   "source": [
    "#name = 'molDWRow_590'\n",
    "#name = 'molDWRow_298'\n",
    "#name = 'molDWRow_45'\n",
    "#name = 'molDWRow_160'\n",
    "#name = 'molDWRow_37'\n"
   ]
  },
  {
   "cell_type": "code",
   "execution_count": 3,
   "metadata": {},
   "outputs": [],
   "source": [
    "exp_results = pickle.load(open('../data/exp_results.pickle', 'rb'))"
   ]
  },
  {
   "cell_type": "code",
   "execution_count": 4,
   "metadata": {},
   "outputs": [],
   "source": [
    "def run_dynamics_with_openMM(sim, dcd_output_filepath, traj_name, nr_of_steps):\n",
    "    # Set up the reporters to report energies and coordinates every 100 steps\n",
    "\n",
    "    print('Writing trajectory to: ', dcd_output_filepath)\n",
    "    print('as: ', traj_name)\n",
    "    sim.reporters.append(\n",
    "        StateDataReporter(sys.stderr, 50000, step=True, potentialEnergy=True,\n",
    "                          kineticEnergy=True, temperature=True,\n",
    "                          volume=True, density=True)\n",
    "        )\n",
    "    sim.reporters.append(app.DCDReporter(dcd_output_filepath + '/' + traj_name, 100))\n",
    "\n",
    "    # Run dynamics\n",
    "    print('Running dynamics')\n",
    "    sim.step(int(nr_of_steps))\n",
    "\n",
    "\n"
   ]
  },
  {
   "cell_type": "code",
   "execution_count": 5,
   "metadata": {},
   "outputs": [],
   "source": [
    "# write out confs that are in save_confs list\n",
    "# and start vacuum md\n",
    "def create_hydrogen_definitions(\n",
    "    xmltree\n",
    "):\n",
    "    \"\"\"\n",
    "    Generates hydrogen definitions for a small molecule residue template.\n",
    "\n",
    "    \"\"\"\n",
    "    hydrogen_definitions_tree = etree.fromstring(\"<Residues/>\")\n",
    "    for residue in xmltree.xpath(\"Residues/Residue\"):\n",
    "        hydrogen_file_residue = etree.fromstring(\"<Residue/>\")\n",
    "        hydrogen_file_residue.set(\"name\", residue.get(\"name\"))\n",
    "        # enumerate hydrogens in this list\n",
    "        hydrogens = list()\n",
    "        # Loop through atoms to find all hydrogens\n",
    "        for bond in residue.xpath(\"Bond\"):\n",
    "            atomname1 = bond.get(\"atomName1\")\n",
    "            atomname2 = bond.get(\"atomName2\")\n",
    "            if 'H' in atomname1:\n",
    "                # H is the first, parent is the second atom\n",
    "                hydrogens.append(tuple([atomname1, atomname2]))\n",
    "            elif 'H' in atomname2:\n",
    "                # H is the second, parent is the first atom\n",
    "                hydrogens.append(tuple([atomname2, atomname1]))\n",
    "\n",
    "        # Loop through all hydrogens, and create definitions\n",
    "        for name, parent in hydrogens:\n",
    "            h_xml = etree.fromstring(\"<H/>\")\n",
    "            h_xml.set(\"name\", name)\n",
    "            h_xml.set(\"parent\", parent)\n",
    "            hydrogen_file_residue.append(h_xml)\n",
    "        hydrogen_definitions_tree.append(hydrogen_file_residue)\n",
    "    # Write output\n",
    "    return hydrogen_definitions_tree\n",
    "\n",
    "\n",
    "\n",
    "def create_bond_definitions(\n",
    "    inputfile: str,\n",
    "    residue_name : str = None\n",
    "    ):\n",
    "    \"\"\"\n",
    "    Generates bond definitions for a small molecule template to subsequently load \n",
    "    the bond definitions in the topology object. BE CAREFULL: The residue name \n",
    "    of the pdb file must match the residue name in the bxml file.\n",
    "\n",
    "    Parameters\n",
    "    ----------\n",
    "    inputfile - a forcefield XML file defined using Gaff atom types\n",
    "    \"\"\"\n",
    "\n",
    "    xmltree = etree.parse(\n",
    "        inputfile, etree.XMLParser(remove_blank_text=True, remove_comments=True)\n",
    "    )\n",
    "    # Output tree\n",
    "    bond_definitions_tree = etree.fromstring(\"<Residues/>\")\n",
    "    bonds = set()\n",
    "\n",
    "    for residue in xmltree.xpath(\"Residues/Residue\"):\n",
    "        # Loop through all bonds\n",
    "        bond_file_residue = etree.fromstring(\"<Residue/>\")\n",
    "        bond_file_residue.set(\"name\", f\"{residue_name}\")\n",
    "        for bond in residue.xpath(\"Bond\"):\n",
    "            atomname1 = bond.get(\"atomName1\")\n",
    "            atomname2 = bond.get(\"atomName2\")\n",
    "            if atomname1.startswith('H') or atomname2.startswith('H'):\n",
    "                continue\n",
    "            bonds.add(tuple([atomname1, atomname2]))\n",
    "        \n",
    "        for a1, a2 in bonds:\n",
    "            b_xml = etree.fromstring(\"<Bond/>\")\n",
    "            b_xml.set(\"from\", a1)\n",
    "            b_xml.set(\"to\", a2)\n",
    "            bond_file_residue.append(b_xml)\n",
    "        bond_definitions_tree.append(bond_file_residue)\n",
    "\n",
    "    return bond_definitions_tree\n"
   ]
  },
  {
   "cell_type": "code",
   "execution_count": 6,
   "metadata": {},
   "outputs": [
    {
     "name": "stderr",
     "output_type": "stream",
     "text": [
      "/home/mwieder/anaconda3/envs/torchANI-dev/lib/python3.6/site-packages/parmed/openmm/parameters.py:127: UserWarning: Residue t01 contains atom type oh not found in parameter set and will be dropped.\n",
      "  warnings.warn('Residue {} contains atom type {} not found in parameter set and will be dropped.'.format(residue.name, atom.type))\n"
     ]
    },
    {
     "name": "stdout",
     "output_type": "stream",
     "text": [
      "#\"Step\",\"Potential Energy (kJ/mole)\",\"Kinetic Energy (kJ/mole)\",\"Temperature (K)\",\"Box Volume (nm^3)\",\"Density (g/mL)\"\n",
      "10000,-171.45900752907096,42.33448127047313,231.4391694559208,8.0,0.030129645936086673\n",
      "20000,-168.85241645415914,43.698839143838214,238.89800309639577,8.0,0.030129645936086673\n",
      "30000,-167.60630155896297,67.35255870241171,368.2109660734035,8.0,0.030129645936086673\n",
      "40000,-153.05770742691104,35.798308896301755,195.70644614618627,8.0,0.030129645936086673\n",
      "50000,-165.49422661924683,58.5890020692434,320.30131399329116,8.0,0.030129645936086673\n",
      "60000,-182.52924209242897,34.970478790264636,191.18076621715244,8.0,0.030129645936086673\n",
      "70000,-175.51001275322304,60.28859681867862,329.59286039745797,8.0,0.030129645936086673\n",
      "80000,-158.88707051214993,55.848353963173615,305.31841347332823,8.0,0.030129645936086673\n",
      "90000,-180.43552479745233,62.17723303781098,339.9178811569595,8.0,0.030129645936086673\n",
      "100000,-162.5670298069043,60.56948187796522,331.1284361948449,8.0,0.030129645936086673\n",
      "110000,-193.59102190525994,48.80711412152679,266.82452735531683,8.0,0.030129645936086673\n",
      "120000,-169.96008332842933,77.10109519522192,421.5054230171892,8.0,0.030129645936086673\n",
      "130000,-160.99976934129182,50.031081731171334,273.51585883065144,8.0,0.030129645936086673\n",
      "140000,-148.104405288716,41.615175644933515,227.50678404422166,8.0,0.030129645936086673\n",
      "150000,-180.38790571066124,59.477310735768924,325.1576252986704,8.0,0.030129645936086673\n",
      "160000,-171.42246366583015,58.65492087372669,320.6616867415402,8.0,0.030129645936086673\n",
      "170000,-177.28199557707273,47.79818785297457,261.3088094197613,8.0,0.030129645936086673\n",
      "180000,-183.33593453337494,52.836590854582894,288.85334926250533,8.0,0.030129645936086673\n",
      "190000,-166.50580516655316,35.133071899874466,192.06964953680233,8.0,0.030129645936086673\n",
      "200000,-168.92578899896017,33.51740590855342,183.23693483408735,8.0,0.030129645936086673\n",
      "210000,-184.96456950131244,44.804569722741,244.942942331349,8.0,0.030129645936086673\n",
      "220000,-167.53194769949397,60.66199197497134,331.6341813787907,8.0,0.030129645936086673\n",
      "230000,-179.52867750195162,66.97856406814661,366.1663677947031,8.0,0.030129645936086673\n",
      "240000,-160.5372467924595,58.779373286899364,321.34205797267566,8.0,0.030129645936086673\n",
      "250000,-171.36358540587113,62.66914885424515,342.607144957557,8.0,0.030129645936086673\n",
      "260000,-167.3716686856283,38.47554207555049,210.3426624136411,8.0,0.030129645936086673\n",
      "270000,-179.70363402265423,48.68604330805067,266.1626430549697,8.0,0.030129645936086673\n",
      "280000,-176.24797745415856,48.102989017083246,262.97513261904214,8.0,0.030129645936086673\n",
      "290000,-151.35444265857234,64.39478827377562,352.0410754570216,8.0,0.030129645936086673\n",
      "300000,-186.81290185508055,42.70592746827523,233.46983563953688,8.0,0.030129645936086673\n",
      "310000,-172.14638452166878,59.71266704247806,326.4442991048986,8.0,0.030129645936086673\n",
      "320000,-149.49102343621607,64.312139763674,351.58924276743505,8.0,0.030129645936086673\n",
      "330000,-169.02623246065792,55.97619163671303,306.0172916478383,8.0,0.030129645936086673\n",
      "340000,-162.78881616912628,51.034330048285256,279.00053586702376,8.0,0.030129645936086673\n",
      "350000,-174.6128576124352,66.22561285244181,362.05004467525373,8.0,0.030129645936086673\n",
      "360000,-181.343132759557,52.23009994779606,285.53771275210335,8.0,0.030129645936086673\n",
      "370000,-161.66444082964367,66.89634105800619,365.7168612788328,8.0,0.030129645936086673\n",
      "380000,-181.13758880100096,43.90762578746145,240.0394227133016,8.0,0.030129645936086673\n",
      "390000,-166.3625262285453,53.01870690286625,289.84896290165705,8.0,0.030129645936086673\n",
      "400000,-176.52831681049094,72.19389335116772,394.67814924278264,8.0,0.030129645936086673\n",
      "410000,-182.1086501966136,90.53302311570636,494.9366816228522,8.0,0.030129645936086673\n",
      "420000,-162.04807981108146,46.546098164084526,254.4637368220926,8.0,0.030129645936086673\n",
      "430000,-187.88880182694007,55.2992098871294,302.3162874272025,8.0,0.030129645936086673\n",
      "440000,-172.05794933383004,69.35020772107998,379.13195095074707,8.0,0.030129645936086673\n",
      "450000,-164.3450550913148,58.06572403235622,317.4405954816376,8.0,0.030129645936086673\n",
      "460000,-173.98798780893128,63.06388555919076,344.7651384513877,8.0,0.030129645936086673\n",
      "470000,-174.02450144036177,67.27525842595662,367.788371742622,8.0,0.030129645936086673\n",
      "480000,-171.8076729545239,58.5290153829315,319.97337165310427,8.0,0.030129645936086673\n",
      "490000,-173.53709957843583,70.19728210673114,383.7628377928453,8.0,0.030129645936086673\n",
      "500000,-163.61221220154155,51.66435355651764,282.44482319751967,8.0,0.030129645936086673\n"
     ]
    },
    {
     "name": "stderr",
     "output_type": "stream",
     "text": [
      "/home/mwieder/anaconda3/envs/torchANI-dev/lib/python3.6/site-packages/parmed/openmm/parameters.py:127: UserWarning: Residue t02 contains atom type o not found in parameter set and will be dropped.\n",
      "  warnings.warn('Residue {} contains atom type {} not found in parameter set and will be dropped.'.format(residue.name, atom.type))\n"
     ]
    },
    {
     "name": "stdout",
     "output_type": "stream",
     "text": [
      "#\"Step\",\"Potential Energy (kJ/mole)\",\"Kinetic Energy (kJ/mole)\",\"Temperature (K)\",\"Box Volume (nm^3)\",\"Density (g/mL)\"\n",
      "10000,-107.11525105677043,56.473918417462535,308.73832351821056,8.0,0.030129645936086673\n",
      "20000,-126.8131368469333,69.98610888718358,382.60837095926894,8.0,0.030129645936086673\n",
      "30000,-115.4583705073262,48.3315563059183,264.22469141615613,8.0,0.030129645936086673\n",
      "40000,-116.75068864618794,49.982534128408766,273.25045303081043,8.0,0.030129645936086673\n",
      "50000,-126.66504580103243,52.70355958991297,288.1260781472608,8.0,0.030129645936086673\n",
      "60000,-117.79075374035823,51.171231343099144,279.7489641226279,8.0,0.030129645936086673\n",
      "70000,-111.89615810602965,55.89933726636398,305.59713504950895,8.0,0.030129645936086673\n",
      "80000,-114.54696372490496,41.13722896691085,224.8938883883362,8.0,0.030129645936086673\n",
      "90000,-124.33059578656179,52.26373958820591,285.7216179330245,8.0,0.030129645936086673\n",
      "100000,-111.05748940095842,57.236776623017015,312.9088073462315,8.0,0.030129645936086673\n",
      "110000,-120.44589219627913,50.64950441783071,276.89672541216714,8.0,0.030129645936086673\n",
      "120000,-120.29239779264026,36.79260828722239,201.14220013015444,8.0,0.030129645936086673\n",
      "130000,-122.08428714016708,61.12519729391508,334.16648722231764,8.0,0.030129645936086673\n",
      "140000,-109.17923212959427,63.13547179248136,345.1564945724514,8.0,0.030129645936086673\n",
      "150000,-106.39962774891066,51.20071908805441,279.9101712284378,8.0,0.030129645936086673\n",
      "160000,-118.39429931783401,57.607740558343195,314.93683704007526,8.0,0.030129645936086673\n",
      "170000,-120.21877303693488,54.34240430437366,297.08550904612366,8.0,0.030129645936086673\n",
      "180000,-123.76442933220804,47.49696016179522,259.66202210664267,8.0,0.030129645936086673\n",
      "190000,-111.5594773085441,40.483699836496235,221.32109773118694,8.0,0.030129645936086673\n",
      "200000,-121.66064423602529,32.77575871930486,179.1824099088293,8.0,0.030129645936086673\n",
      "210000,-132.07247162809153,68.0326713443447,371.9290866281304,8.0,0.030129645936086673\n",
      "220000,-101.48413990821165,49.79766810026045,272.2398054751711,8.0,0.030129645936086673\n",
      "230000,-107.812787554196,34.609656499071846,189.2081800677838,8.0,0.030129645936086673\n",
      "240000,-138.53852502765488,67.10261531332209,366.8445458729924,8.0,0.030129645936086673\n",
      "250000,-107.0010789142606,56.58600578015115,309.3510960230021,8.0,0.030129645936086673\n",
      "260000,-98.67450500207545,62.89482577449866,343.8409023444763,8.0,0.030129645936086673\n",
      "270000,-120.65166170818662,76.92923427659157,420.5658733386277,8.0,0.030129645936086673\n",
      "280000,-125.42999879182446,66.70235756219557,364.6563692682722,8.0,0.030129645936086673\n",
      "290000,-115.66789736010992,53.37390979436818,291.79082824948847,8.0,0.030129645936086673\n",
      "300000,-105.19730475137537,73.2230096839191,400.3042446188851,8.0,0.030129645936086673\n",
      "310000,-120.76302083872696,41.74055461071478,228.1922206631864,8.0,0.030129645936086673\n",
      "320000,-119.74056542683162,63.83426713883116,348.976751954267,8.0,0.030129645936086673\n",
      "330000,-116.38045716942406,37.70003430298944,206.10302443056455,8.0,0.030129645936086673\n",
      "340000,-114.94468287966036,55.70191913072472,304.5178661420674,8.0,0.030129645936086673\n",
      "350000,-119.61388101966557,57.73751381599328,315.6462968956534,8.0,0.030129645936086673\n",
      "360000,-97.53959107218732,43.75634937420724,239.21240685315348,8.0,0.030129645936086673\n",
      "370000,-101.69832584733668,41.843472915024996,228.75486667080338,8.0,0.030129645936086673\n",
      "380000,-111.52262282468438,56.70086363295344,309.97901457214454,8.0,0.030129645936086673\n",
      "390000,-106.83241218739451,59.474984059280594,325.1449055473497,8.0,0.030129645936086673\n",
      "400000,-123.71525829491733,60.60091552192262,331.3002813723964,8.0,0.030129645936086673\n",
      "410000,-105.92959246278579,65.51372541072726,358.1582138718034,8.0,0.030129645936086673\n",
      "420000,-113.22425166199116,56.717954291941595,310.07244781622757,8.0,0.030129645936086673\n",
      "430000,-108.11853757072616,49.734243657195634,271.89306919813157,8.0,0.030129645936086673\n",
      "440000,-106.04252172304389,75.7516725706727,414.128239168511,8.0,0.030129645936086673\n",
      "450000,-146.74704528158873,56.61930781175309,309.53315552400096,8.0,0.030129645936086673\n",
      "460000,-108.4338994989363,44.780951071424894,244.81382108360427,8.0,0.030129645936086673\n",
      "470000,-92.56304959054025,60.91245546778218,333.0034449439876,8.0,0.030129645936086673\n",
      "480000,-103.84855775802372,41.08843341315558,224.62712706056394,8.0,0.030129645936086673\n",
      "490000,-131.3312312642068,87.81613116642018,480.0836540818526,8.0,0.030129645936086673\n",
      "500000,-118.95088231758166,29.922856726615507,163.58582651127423,8.0,0.030129645936086673\n"
     ]
    }
   ],
   "source": [
    "# run MD and plot properties to compare to\n",
    "   \n",
    "if not os.path.exists(f\"../data/md_sampling/{name}\"):\n",
    "    os.mkdir(f\"../data/md_sampling/{name}\")\n",
    "\n",
    "ofs = oechem.oemolostream()\n",
    "for t_id, t in enumerate([exp_results[name]['t1-smiles'], exp_results[name]['t2-smiles']]):\n",
    "    t_id = t_id + 1\n",
    "    m = omtff.openeye.smiles_to_oemol(t)\n",
    "    m = omtff.openeye.generate_conformers(m, max_confs=1)\n",
    "    m.SetTitle(f\"t{t_id:02d}\")\n",
    "\n",
    "    ffxml = forcefield_generators.generateForceFieldFromMolecules(\n",
    "        [m], normalize=False, gaff_version='gaff2'\n",
    "    )\n",
    "\n",
    "\n",
    "    # write mol2\n",
    "    ofs.open(f\"../data/md_sampling/{name}/{name}_tautomer_{t_id}.mol2\")\n",
    "    ofs.SetFormat(oechem.OEFormat_MOL2)\n",
    "    oechem.OEWriteMolecule(ofs, m)\n",
    "\n",
    "    # write pdb\n",
    "    ofs.open(f\"../data/md_sampling/{name}/{name}_tautomer_{t_id}.pdb\")\n",
    "    ofs.SetFormat(oechem.OEFormat_PDB)\n",
    "    oechem.OEWriteMolecule(ofs, m)\n",
    "\n",
    "\n",
    "    # create bond and hydrogen definitions\n",
    "    bxml = create_bond_definitions(StringIO(ffxml), f\"t{t_id:02d}\")\n",
    "    bxml = StringIO(etree.tostring(bxml).decode(\"utf-8\"))\n",
    "\n",
    "    app.Topology.loadBondDefinitions(bxml)\n",
    "\n",
    "    hxml = create_hydrogen_definitions(etree.fromstring(ffxml))\n",
    "    hxml = StringIO(etree.tostring(hxml).decode(\"utf-8\"))\n",
    "    app.Modeller.loadHydrogenDefinitions(hxml)\n",
    "\n",
    "    forcefield = app.ForceField(\"amber10.xml\", gaff_default, StringIO(ffxml), \"tip3p.xml\")\n",
    "\n",
    "    pdb = app.PDBFile(f\"../data/md_sampling/{name}/{name}_tautomer_{t_id}.pdb\")\n",
    "    modeller = app.Modeller(pdb.topology, pdb.positions)\n",
    "    modeller.addHydrogens()\n",
    "\n",
    "    integrator = mm.LangevinIntegrator(\n",
    "                    300*unit.kelvin,       # Temperature of heat bath\n",
    "                    1.0/unit.picoseconds,  # Friction coefficient\n",
    "                    2.0*unit.femtoseconds, # Time step\n",
    ")\n",
    "\n",
    "\n",
    "    system = forcefield.createSystem(modeller.topology, nonbondedMethod=app.NoCutoff, constraints=app.HBonds)\n",
    "\n",
    "\n",
    "\n",
    "\n",
    "    sim = app.Simulation(modeller.topology, system, integrator)\n",
    "    sim.context.setPositions(modeller.positions)\n",
    "\n",
    "    sim.minimizeEnergy(maxIterations=5000)\n",
    "    sim.reporters.append(\n",
    "            StateDataReporter(sys.stdout, 10000, step=True, potentialEnergy=True,\n",
    "                              kineticEnergy=True, temperature=True,\n",
    "                              volume=True, density=True)\n",
    "    )\n",
    "    sim.reporters.append(StateDataReporter(f\"../data/md_sampling/{name}/{name}_tautomer_{t_id}_gaff_energy.csv\", 10, time=True,\n",
    "    kineticEnergy=True, potentialEnergy=True))\n",
    "\n",
    "    sim.reporters.append(app.DCDReporter(f\"../data/md_sampling/{name}/{name}_tautomer_{t_id}_gaff.dcd\", 10))\n",
    "    sim.step(500000)\n"
   ]
  },
  {
   "cell_type": "code",
   "execution_count": 4,
   "metadata": {},
   "outputs": [
    {
     "name": "stdout",
     "output_type": "stream",
     "text": [
      "molDWRow_590\n"
     ]
    },
    {
     "data": {
      "image/png": "[encoded data removed]",
      "text/plain": [
       "<Figure size 432x288 with 1 Axes>"
      ]
     },
     "metadata": {
      "needs_background": "light"
     },
     "output_type": "display_data"
    },
    {
     "name": "stdout",
     "output_type": "stream",
     "text": [
      "molDWRow_590\n"
     ]
    },
    {
     "data": {
      "image/png": "[encoded data removed]",
      "text/plain": [
       "<Figure size 432x288 with 1 Axes>"
      ]
     },
     "metadata": {
      "needs_background": "light"
     },
     "output_type": "display_data"
    }
   ],
   "source": [
    "for t_id in [1, 2]:\n",
    "    print(name)\n",
    "    pot_energy = []\n",
    "    with open(f\"../data/md_sampling/{name}/{name}_tautomer_{t_id}_gaff_energy.csv\", newline='') as csvfile:\n",
    "        report = csv.reader(csvfile, delimiter=',', quotechar='|')\n",
    "        for row in report:\n",
    "            if str(row[0]).startswith('#'):\n",
    "                continue\n",
    "            pot_energy.append(float(row[1]))\n",
    "    plt.hist(np.array(pot_energy))#, np.linspace(0, 500) )\n",
    "    plt.show()"
   ]
  },
  {
   "cell_type": "code",
   "execution_count": 5,
   "metadata": {},
   "outputs": [
    {
     "data": {
      "image/png": "[encoded data removed]",
      "text/plain": [
       "<rdkit.Chem.rdchem.Mol at 0x7f8ed52d9260>"
      ]
     },
     "metadata": {},
     "output_type": "display_data"
    },
    {
     "name": "stdout",
     "output_type": "stream",
     "text": [
      "Mean: 30.615516992260094\n",
      "Mean: 118.62623373116122\n",
      "Mean: 122.70669802435356\n"
     ]
    },
    {
     "name": "stderr",
     "output_type": "stream",
     "text": [
      "/home/mwieder/anaconda3/envs/torchANI-dev/lib/python3.6/site-packages/matplotlib/figure.py:98: MatplotlibDeprecationWarning: \n",
      "Adding an axes using the same arguments as a previous axes currently reuses the earlier instance.  In a future version, a new instance will always be created and returned.  Meanwhile, this warning can be suppressed, and the future behavior ensured, by passing a unique label to each axes instance.\n",
      "  \"Adding an axes using the same arguments as a previous axes \"\n"
     ]
    },
    {
     "data": {
      "image/png": "[encoded data removed]",
      "text/plain": [
       "<Figure size 432x288 with 1 Axes>"
      ]
     },
     "metadata": {
      "needs_background": "light"
     },
     "output_type": "display_data"
    },
    {
     "data": {
      "image/png": "[encoded data removed]",
      "text/plain": [
       "<rdkit.Chem.rdchem.Mol at 0x7f8ed2623760>"
      ]
     },
     "metadata": {},
     "output_type": "display_data"
    },
    {
     "name": "stdout",
     "output_type": "stream",
     "text": [
      "Mean: 30.077690821540365\n",
      "Mean: 121.30517052742361\n",
      "Mean: 119.71310807340701\n"
     ]
    },
    {
     "data": {
      "image/png": "[encoded data removed]",
      "text/plain": [
       "<Figure size 432x288 with 1 Axes>"
      ]
     },
     "metadata": {
      "needs_background": "light"
     },
     "output_type": "display_data"
    }
   ],
   "source": [
    "# plot angles\n",
    "\n",
    "\n",
    "for t_id in [1, 2]:   \n",
    "    m = Chem.MolFromMol2File(f\"../data/md_sampling/{name}/{name}_tautomer_{t_id}.mol2\")\n",
    "    \n",
    "    AllChem.Compute2DCoords(m)\n",
    "    display(m)\n",
    "    \n",
    "    traj = md.load(f\"../data/md_sampling/{name}/{name}_tautomer_{t_id}_gaff.dcd\", top=f\"../data/md_sampling/{name}/{name}_tautomer_{t_id}.pdb\")\n",
    "\n",
    "\n",
    "    l = md.compute_angles(traj, np.array([[4, 3, 5]], np.int32))\n",
    "    plt.hist(l[1::] * 180/np.pi,linewidth=0.5, bins=np.linspace(90, 130, 120), alpha=0.5, label='t{}'.format(t_id))\n",
    "    print('Mean: {}'.format(np.mean(l)* 180/np.pi))\n",
    "    \n",
    "    l = md.compute_angles(traj, np.array([[1, 2, 3]], np.int32))\n",
    "    plt.hist(l[1::] * 180/np.pi,linewidth=0.5, bins=np.linspace(90, 130, 120), alpha=0.5, label='t{}'.format(t_id))\n",
    "    print('Mean: {}'.format(np.mean(l)* 180/np.pi))\n",
    "\n",
    "    l = md.compute_angles(traj, np.array([[2, 3, 4]], np.int32))\n",
    "    plt.hist(l[1::] * 180/np.pi,linewidth=0.5, bins=np.linspace(90, 130, 120), alpha=0.5, label='t{}'.format(t_id))\n",
    "    print('Mean: {}'.format(np.mean(l)* 180/np.pi))\n",
    "\n",
    "    \n",
    "    ax = plt.subplot(1,1,1)\n",
    "\n",
    "    plt.xlabel('iteration')\n",
    "    plt.ylabel('degree')\n",
    "    plt.title('H-C-H angle in degree')\n",
    "    ax.spines['top'].set_visible(False)\n",
    "    ax.spines['right'].set_visible(False)\n",
    "\n",
    "    #plt.savefig('test_angles_vs_iterations_ni1ccx_2_0.png', dpi=300, bbox_inches='tight')\n",
    "    plt.show()\n",
    "    "
   ]
  },
  {
   "cell_type": "code",
   "execution_count": 6,
   "metadata": {},
   "outputs": [
    {
     "data": {
      "image/png": "[encoded data removed]",
      "text/plain": [
       "<rdkit.Chem.rdchem.Mol at 0x7f8ed4d6ef80>"
      ]
     },
     "metadata": {},
     "output_type": "display_data"
    },
    {
     "name": "stdout",
     "output_type": "stream",
     "text": [
      "Mean: -0.19361259763800112\n",
      "Mean: -0.0007055554876041342\n",
      "Mean: 0.0017679357280314546\n",
      "Mean: -0.0009629394250040204\n"
     ]
    },
    {
     "data": {
      "image/png": "[encoded data removed]",
      "text/plain": [
       "<Figure size 432x288 with 1 Axes>"
      ]
     },
     "metadata": {
      "needs_background": "light"
     },
     "output_type": "display_data"
    },
    {
     "data": {
      "image/png": "[encoded data removed]",
      "text/plain": [
       "<rdkit.Chem.rdchem.Mol at 0x7f8ed4bdff30>"
      ]
     },
     "metadata": {},
     "output_type": "display_data"
    },
    {
     "name": "stdout",
     "output_type": "stream",
     "text": [
      "Mean: 0.021568596810669728\n",
      "Mean: 0.6306663707867736\n",
      "Mean: -0.2901434744148062\n",
      "Mean: 0.4219346424928468\n"
     ]
    },
    {
     "data": {
      "image/png": "[encoded data removed]",
      "text/plain": [
       "<Figure size 432x288 with 1 Axes>"
      ]
     },
     "metadata": {
      "needs_background": "light"
     },
     "output_type": "display_data"
    }
   ],
   "source": [
    "# plot dihedrals\n",
    "\n",
    "traj_list = []\n",
    "for t_id in [1, 2]:\n",
    "    m = Chem.MolFromMol2File(f\"../data/md_sampling/{name}/{name}_tautomer_{t_id}.mol2\")\n",
    "    \n",
    "    AllChem.Compute2DCoords(m)\n",
    "    display(m)\n",
    "    \n",
    "    traj = md.load(f\"../data/md_sampling/{name}/{name}_tautomer_{t_id}_gaff.dcd\", top=f\"../data/md_sampling//{name}/{name}_tautomer_{t_id}.pdb\")\n",
    "    traj_list.append(traj)\n",
    "    l = md.compute_dihedrals(traj, np.array([[0, 1, 2, 3]], np.int32))\n",
    "    plt.hist(l[1::] * 180/np.pi,linewidth=0.5, bins=np.linspace(-180, 180, 100), alpha=0.5, label='t{}'.format(t_id))\n",
    "    print('Mean: {}'.format(np.mean(l)* 180/np.pi))\n",
    "\n",
    "    l = md.compute_dihedrals(traj, np.array([[1, 2, 3, 4]], np.int32))\n",
    "    plt.hist(l[1::] * 180/np.pi,linewidth=0.5, bins=np.linspace(-180, 180, 100), alpha=0.5, label='t{}'.format(t_id))\n",
    "    print('Mean: {}'.format(np.mean(l)* 180/np.pi))\n",
    "\n",
    "    l = md.compute_dihedrals(traj, np.array([[6, 1, 2, 3]], np.int32))\n",
    "    plt.hist(l[1::] * 180/np.pi,linewidth=0.5, bins=np.linspace(-180, 180, 100), alpha=0.5, label='t{}'.format(t_id))\n",
    "    print('Mean: {}'.format(np.mean(l)* 180/np.pi))\n",
    "\n",
    "    l = md.compute_dihedrals(traj, np.array([[1, 2, 3, 5]], np.int32))\n",
    "    plt.hist(l[1::] * 180/np.pi,linewidth=0.5, bins=np.linspace(-180, 180, 100), alpha=0.5, label='t{}'.format(t_id))\n",
    "    print('Mean: {}'.format(np.mean(l)* 180/np.pi))\n",
    "\n",
    "    \n",
    "    ax = plt.subplot(1,1,1)\n",
    "\n",
    "    plt.xlabel('iteration')\n",
    "    plt.ylabel('degree')\n",
    "    plt.title('H-C-H angle in degree')\n",
    "    ax.spines['top'].set_visible(False)\n",
    "    ax.spines['right'].set_visible(False)\n",
    "\n",
    "#plt.savefig('test_angles_vs_iterations_ni1ccx_2_0.png', dpi=300, bbox_inches='tight')\n",
    "    plt.show()\n",
    "    "
   ]
  },
  {
   "cell_type": "code",
   "execution_count": 7,
   "metadata": {},
   "outputs": [
    {
     "data": {
      "application/vnd.jupyter.widget-view+json": {
       "model_id": "950beb1bc73f4e0591f0a10971309f21",
       "version_major": 2,
       "version_minor": 0
      },
      "text/plain": [
       "NGLWidget(count=50000)"
      ]
     },
     "metadata": {},
     "output_type": "display_data"
    }
   ],
   "source": [
    "nglview.show_mdtraj(traj_list[0])"
   ]
  },
  {
   "cell_type": "code",
   "execution_count": 8,
   "metadata": {},
   "outputs": [
    {
     "data": {
      "application/vnd.jupyter.widget-view+json": {
       "model_id": "ee5122223df34bf2a57c63bfdd2bf9f5",
       "version_major": 2,
       "version_minor": 0
      },
      "text/plain": [
       "NGLWidget(count=50000)"
      ]
     },
     "metadata": {},
     "output_type": "display_data"
    }
   ],
   "source": [
    "nglview.show_mdtraj(traj_list[1])"
   ]
  },
  {
   "cell_type": "code",
   "execution_count": 9,
   "metadata": {},
   "outputs": [
    {
     "data": {
      "image/png": "[encoded data removed]",
      "text/plain": [
       "<rdkit.Chem.rdchem.Mol at 0x7f8ed4d1cb70>"
      ]
     },
     "metadata": {},
     "output_type": "display_data"
    },
    {
     "name": "stdout",
     "output_type": "stream",
     "text": [
      "Mean: -0.19361259763800112\n",
      "Mean: -0.0007055554876041342\n",
      "Mean: 0.0017679357280314546\n",
      "Mean: -0.0009629394250040204\n"
     ]
    },
    {
     "data": {
      "image/png": "[encoded data removed]",
      "text/plain": [
       "<Figure size 432x288 with 1 Axes>"
      ]
     },
     "metadata": {
      "needs_background": "light"
     },
     "output_type": "display_data"
    },
    {
     "data": {
      "image/png": "[encoded data removed]",
      "text/plain": [
       "<rdkit.Chem.rdchem.Mol at 0x7f8ed41625d0>"
      ]
     },
     "metadata": {},
     "output_type": "display_data"
    },
    {
     "name": "stdout",
     "output_type": "stream",
     "text": [
      "Mean: 0.021568596810669728\n",
      "Mean: 0.6306663707867736\n",
      "Mean: -0.2901434744148062\n",
      "Mean: 0.4219346424928468\n"
     ]
    },
    {
     "data": {
      "image/png": "[encoded data removed]",
      "text/plain": [
       "<Figure size 432x288 with 1 Axes>"
      ]
     },
     "metadata": {
      "needs_background": "light"
     },
     "output_type": "display_data"
    }
   ],
   "source": [
    "# plot dihedrals\n",
    "\n",
    "for t_id in [1, 2]:\n",
    "    m = Chem.MolFromMol2File(f\"../data/md_sampling/{name}/{name}_tautomer_{t_id}.mol2\")\n",
    "    \n",
    "    AllChem.Compute2DCoords(m)\n",
    "    display(m)\n",
    "    \n",
    "    traj = md.load(f\"../data/md_sampling/{name}/{name}_tautomer_{t_id}_gaff.dcd\", top=f\"../data/md_sampling//{name}/{name}_tautomer_{t_id}.pdb\")\n",
    "\n",
    "\n",
    "    l = md.compute_dihedrals(traj, np.array([[0, 1, 2, 3]], np.int32))\n",
    "    plt.hist(l[1::] * 180/np.pi,linewidth=0.5, bins=np.linspace(-180, 180, 100), alpha=0.5, label='t{}'.format(t_id))\n",
    "    print('Mean: {}'.format(np.mean(l)* 180/np.pi))\n",
    "\n",
    "    l = md.compute_dihedrals(traj, np.array([[1, 2, 3, 4]], np.int32))\n",
    "    plt.hist(l[1::] * 180/np.pi,linewidth=0.5, bins=np.linspace(-180, 180, 100), alpha=0.5, label='t{}'.format(t_id))\n",
    "    print('Mean: {}'.format(np.mean(l)* 180/np.pi))\n",
    "\n",
    "    l = md.compute_dihedrals(traj, np.array([[6, 1, 2, 3]], np.int32))\n",
    "    plt.hist(l[1::] * 180/np.pi,linewidth=0.5, bins=np.linspace(-180, 180, 100), alpha=0.5, label='t{}'.format(t_id))\n",
    "    print('Mean: {}'.format(np.mean(l)* 180/np.pi))\n",
    "\n",
    "    l = md.compute_dihedrals(traj, np.array([[1, 2, 3, 5]], np.int32))\n",
    "    plt.hist(l[1::] * 180/np.pi,linewidth=0.5, bins=np.linspace(-180, 180, 100), alpha=0.5, label='t{}'.format(t_id))\n",
    "    print('Mean: {}'.format(np.mean(l)* 180/np.pi))\n",
    "\n",
    "    \n",
    "    ax = plt.subplot(1,1,1)\n",
    "\n",
    "    plt.xlabel('iteration')\n",
    "    plt.ylabel('degree')\n",
    "    plt.title('H-C-H angle in degree')\n",
    "    ax.spines['top'].set_visible(False)\n",
    "    ax.spines['right'].set_visible(False)\n",
    "\n",
    "    #plt.savefig('test_angles_vs_iterations_ni1ccx_2_0.png', dpi=300, bbox_inches='tight')\n",
    "    plt.show()\n",
    "    "
   ]
  },
  {
   "cell_type": "code",
   "execution_count": null,
   "metadata": {},
   "outputs": [],
   "source": []
  },
  {
   "cell_type": "code",
   "execution_count": null,
   "metadata": {},
   "outputs": [],
   "source": []
  }
 ],
 "metadata": {
  "kernelspec": {
   "display_name": "torchANI-dev",
   "language": "python",
   "name": "torchani-dev"
  },
  "language_info": {
   "codemirror_mode": {
    "name": "ipython",
    "version": 3
   },
   "file_extension": ".py",
   "mimetype": "text/x-python",
   "name": "python",
   "nbconvert_exporter": "python",
   "pygments_lexer": "ipython3",
   "version": "3.6.8"
  }
 },
 "nbformat": 4,
 "nbformat_minor": 2
}
